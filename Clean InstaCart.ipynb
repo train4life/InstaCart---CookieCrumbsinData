{
 "cells": [
  {
   "cell_type": "markdown",
   "id": "e83cf0d2",
   "metadata": {},
   "source": [
    "# Instacart Grocery Delivery Platform Analysis"
   ]
  },
  {
   "cell_type": "markdown",
   "id": "e6da6883",
   "metadata": {},
   "source": [
    "### In this Project we are going to be reviewing multiple notebooks related to Instacart, looking at if we can delete duplicates or fill in missing data, and then analyzing that data to help the company make decisions based on that analysis. "
   ]
  },
  {
   "cell_type": "markdown",
   "id": "dfba28fc",
   "metadata": {},
   "source": [
    "## Importing Modules"
   ]
  },
  {
   "cell_type": "code",
   "execution_count": 5,
   "id": "fbf1adab",
   "metadata": {},
   "outputs": [],
   "source": [
    "import pandas as pd\n",
    "import matplotlib.pyplot as plt\n",
    "import numpy as np"
   ]
  },
  {
   "cell_type": "markdown",
   "id": "3fd8e724",
   "metadata": {},
   "source": [
    "## Reading in Orders CSV Files, Checking for Missing Values, and Checking ID's are int64"
   ]
  },
  {
   "cell_type": "code",
   "execution_count": 6,
   "id": "ad36396d",
   "metadata": {
    "scrolled": true
   },
   "outputs": [
    {
     "name": "stdout",
     "output_type": "stream",
     "text": [
      "<class 'pandas.core.frame.DataFrame'>\n",
      "RangeIndex: 478967 entries, 0 to 478966\n",
      "Data columns (total 1 columns):\n",
      " #   Column                                                                            Non-Null Count   Dtype \n",
      "---  ------                                                                            --------------   ----- \n",
      " 0   order_id;user_id;order_number;order_dow;order_hour_of_day;days_since_prior_order  478967 non-null  object\n",
      "dtypes: object(1)\n",
      "memory usage: 3.7+ MB\n"
     ]
    }
   ],
   "source": [
    "orders = pd.read_csv('/datasets/instacart_orders.csv', sep=',')\n",
    "orders.info()\n",
    "# All ID Columns are int64\n",
    "\n"
   ]
  },
  {
   "cell_type": "code",
   "execution_count": 10,
   "id": "8ad78fa3",
   "metadata": {},
   "outputs": [
    {
     "data": {
      "text/html": [
       "<div>\n",
       "<style scoped>\n",
       "    .dataframe tbody tr th:only-of-type {\n",
       "        vertical-align: middle;\n",
       "    }\n",
       "\n",
       "    .dataframe tbody tr th {\n",
       "        vertical-align: top;\n",
       "    }\n",
       "\n",
       "    .dataframe thead th {\n",
       "        text-align: right;\n",
       "    }\n",
       "</style>\n",
       "<table border=\"1\" class=\"dataframe\">\n",
       "  <thead>\n",
       "    <tr style=\"text-align: right;\">\n",
       "      <th></th>\n",
       "      <th>order_id;user_id;order_number;order_dow;order_hour_of_day;days_since_prior_order</th>\n",
       "    </tr>\n",
       "  </thead>\n",
       "  <tbody>\n",
       "    <tr>\n",
       "      <th>count</th>\n",
       "      <td>478967</td>\n",
       "    </tr>\n",
       "    <tr>\n",
       "      <th>unique</th>\n",
       "      <td>478952</td>\n",
       "    </tr>\n",
       "    <tr>\n",
       "      <th>top</th>\n",
       "      <td>2282673;86751;49;3;2;2.0</td>\n",
       "    </tr>\n",
       "    <tr>\n",
       "      <th>freq</th>\n",
       "      <td>2</td>\n",
       "    </tr>\n",
       "  </tbody>\n",
       "</table>\n",
       "</div>"
      ],
      "text/plain": [
       "       order_id;user_id;order_number;order_dow;order_hour_of_day;days_since_prior_order\n",
       "count                                              478967                              \n",
       "unique                                             478952                              \n",
       "top                              2282673;86751;49;3;2;2.0                              \n",
       "freq                                                    2                              "
      ]
     },
     "execution_count": 10,
     "metadata": {},
     "output_type": "execute_result"
    }
   ],
   "source": [
    "### Finding and replacing missing values in Orders\n",
    "orders.describe()"
   ]
  },
  {
   "cell_type": "code",
   "execution_count": 5,
   "id": "73b63017",
   "metadata": {
    "scrolled": true
   },
   "outputs": [
    {
     "name": "stdout",
     "output_type": "stream",
     "text": [
      "<class 'pandas.core.frame.DataFrame'>\n",
      "RangeIndex: 684217 entries, 0 to 684216\n",
      "Data columns (total 6 columns):\n",
      " #   Column                  Non-Null Count   Dtype  \n",
      "---  ------                  --------------   -----  \n",
      " 0   order_id                684217 non-null  int64  \n",
      " 1   user_id                 684217 non-null  int64  \n",
      " 2   order_number            684217 non-null  int64  \n",
      " 3   order_dow               684217 non-null  int64  \n",
      " 4   order_hour_of_day       684217 non-null  int64  \n",
      " 5   days_since_prior_order  642800 non-null  float64\n",
      "dtypes: float64(1), int64(5)\n",
      "memory usage: 31.3 MB\n"
     ]
    }
   ],
   "source": [
    "###Finding Missing Values (Missing Values are in Days Since Prior Order and it goes by 'NaN')\n",
    "orders['days_since_prior_order'].head(50)\n",
    "orders.info()\n",
    "#orders[orders['days_since_prior_order'] == 'nan']\n",
    "#orders[orders['days_since_prior_order'] == 'null']\n",
    "### Days Since Prior now has all of the null types, which were 'NaN', filled in with 0.0. I think that the reason for the\n",
    "### 'NaN' type values was that someone didn't order consecutive amounts of times. Therefore, it would creat a null\n",
    "### value because there was no previous order. I thought by putting in 0.0 it would not affect if we did any calculations\n",
    "### on the days_since_prior_order column. "
   ]
  },
  {
   "cell_type": "markdown",
   "id": "b9730e23",
   "metadata": {},
   "source": [
    "#### The orders dataframe is going to give us information on the orders for the Instacart. The missing values have been filled in and the duplicates have been cleared."
   ]
  },
  {
   "cell_type": "markdown",
   "id": "8f743f9d",
   "metadata": {},
   "source": [
    "### Finding and Removing Duplicates in orders"
   ]
  },
  {
   "cell_type": "code",
   "execution_count": 6,
   "id": "06321179",
   "metadata": {
    "scrolled": true
   },
   "outputs": [
    {
     "data": {
      "text/html": [
       "<div>\n",
       "<style scoped>\n",
       "    .dataframe tbody tr th:only-of-type {\n",
       "        vertical-align: middle;\n",
       "    }\n",
       "\n",
       "    .dataframe tbody tr th {\n",
       "        vertical-align: top;\n",
       "    }\n",
       "\n",
       "    .dataframe thead th {\n",
       "        text-align: right;\n",
       "    }\n",
       "</style>\n",
       "<table border=\"1\" class=\"dataframe\">\n",
       "  <thead>\n",
       "    <tr style=\"text-align: right;\">\n",
       "      <th></th>\n",
       "      <th>order_id</th>\n",
       "      <th>user_id</th>\n",
       "      <th>order_number</th>\n",
       "      <th>order_dow</th>\n",
       "      <th>order_hour_of_day</th>\n",
       "      <th>days_since_prior_order</th>\n",
       "    </tr>\n",
       "  </thead>\n",
       "  <tbody>\n",
       "  </tbody>\n",
       "</table>\n",
       "</div>"
      ],
      "text/plain": [
       "Empty DataFrame\n",
       "Columns: [order_id, user_id, order_number, order_dow, order_hour_of_day, days_since_prior_order]\n",
       "Index: []"
      ]
     },
     "execution_count": 6,
     "metadata": {},
     "output_type": "execute_result"
    }
   ],
   "source": [
    "orders[orders.duplicated()]"
   ]
  },
  {
   "cell_type": "code",
   "execution_count": 7,
   "id": "95201086",
   "metadata": {},
   "outputs": [
    {
     "data": {
      "text/html": [
       "<div>\n",
       "<style scoped>\n",
       "    .dataframe tbody tr th:only-of-type {\n",
       "        vertical-align: middle;\n",
       "    }\n",
       "\n",
       "    .dataframe tbody tr th {\n",
       "        vertical-align: top;\n",
       "    }\n",
       "\n",
       "    .dataframe thead th {\n",
       "        text-align: right;\n",
       "    }\n",
       "</style>\n",
       "<table border=\"1\" class=\"dataframe\">\n",
       "  <thead>\n",
       "    <tr style=\"text-align: right;\">\n",
       "      <th></th>\n",
       "      <th>order_id</th>\n",
       "      <th>user_id</th>\n",
       "      <th>order_number</th>\n",
       "      <th>order_dow</th>\n",
       "      <th>order_hour_of_day</th>\n",
       "      <th>days_since_prior_order</th>\n",
       "    </tr>\n",
       "  </thead>\n",
       "  <tbody>\n",
       "  </tbody>\n",
       "</table>\n",
       "</div>"
      ],
      "text/plain": [
       "Empty DataFrame\n",
       "Columns: [order_id, user_id, order_number, order_dow, order_hour_of_day, days_since_prior_order]\n",
       "Index: []"
      ]
     },
     "execution_count": 7,
     "metadata": {},
     "output_type": "execute_result"
    }
   ],
   "source": [
    "orders['order_id'].duplicated()\n",
    "orders = orders.drop_duplicates().reset_index(drop = True)\n",
    "orders[orders.duplicated(subset='order_id')]"
   ]
  },
  {
   "cell_type": "code",
   "execution_count": 8,
   "id": "b6231476",
   "metadata": {
    "scrolled": true
   },
   "outputs": [
    {
     "name": "stdout",
     "output_type": "stream",
     "text": [
      "<class 'pandas.core.frame.DataFrame'>\n",
      "RangeIndex: 684217 entries, 0 to 684216\n",
      "Data columns (total 6 columns):\n",
      " #   Column                  Non-Null Count   Dtype  \n",
      "---  ------                  --------------   -----  \n",
      " 0   order_id                684217 non-null  int64  \n",
      " 1   user_id                 684217 non-null  int64  \n",
      " 2   order_number            684217 non-null  int64  \n",
      " 3   order_dow               684217 non-null  int64  \n",
      " 4   order_hour_of_day       684217 non-null  int64  \n",
      " 5   days_since_prior_order  642800 non-null  float64\n",
      "dtypes: float64(1), int64(5)\n",
      "memory usage: 31.3 MB\n"
     ]
    }
   ],
   "source": [
    "orders.info()\n",
    "### The code dropped 15 duplicates from the dataframe."
   ]
  },
  {
   "cell_type": "markdown",
   "id": "92cebd7c",
   "metadata": {},
   "source": [
    "## Reading in Product CSV Files, Checking for Missing Values, and Checking ID's are int64"
   ]
  },
  {
   "cell_type": "code",
   "execution_count": 9,
   "id": "e30cc6f9",
   "metadata": {},
   "outputs": [
    {
     "name": "stdout",
     "output_type": "stream",
     "text": [
      "<class 'pandas.core.frame.DataFrame'>\n",
      "RangeIndex: 49688 entries, 0 to 49687\n",
      "Data columns (total 4 columns):\n",
      " #   Column         Non-Null Count  Dtype \n",
      "---  ------         --------------  ----- \n",
      " 0   product_id     49688 non-null  int64 \n",
      " 1   product_name   49688 non-null  object\n",
      " 2   aisle_id       49688 non-null  int64 \n",
      " 3   department_id  49688 non-null  int64 \n",
      "dtypes: int64(3), object(1)\n",
      "memory usage: 1.5+ MB\n"
     ]
    }
   ],
   "source": [
    "products = pd.read_csv('/datasets/products.csv', sep=',')\n",
    "products.info()\n",
    "# All ID Columns are int64"
   ]
  },
  {
   "cell_type": "markdown",
   "id": "ca08b9a9",
   "metadata": {},
   "source": [
    "### Finding and replacing missing values in Product"
   ]
  },
  {
   "cell_type": "code",
   "execution_count": 10,
   "id": "6b5afc41",
   "metadata": {
    "scrolled": true
   },
   "outputs": [
    {
     "name": "stdout",
     "output_type": "stream",
     "text": [
      "<class 'pandas.core.frame.DataFrame'>\n",
      "RangeIndex: 49688 entries, 0 to 49687\n",
      "Data columns (total 4 columns):\n",
      " #   Column         Non-Null Count  Dtype \n",
      "---  ------         --------------  ----- \n",
      " 0   product_id     49688 non-null  int64 \n",
      " 1   product_name   49688 non-null  object\n",
      " 2   aisle_id       49688 non-null  int64 \n",
      " 3   department_id  49688 non-null  int64 \n",
      "dtypes: int64(3), object(1)\n",
      "memory usage: 1.5+ MB\n"
     ]
    }
   ],
   "source": [
    "###Finding Missing Values (Missing Values are in Days Since Prior Order and it goes by 'NaN'...ex: at row 37)\n",
    "###Filled in the NaN with 'Unknown' because we do not know the values and the values are strings, so I thought a string like\n",
    "###'Unknown' would be appropriate. \n",
    "products['product_name'].head(50)\n",
    "products['product_name'] = products['product_name'].fillna('Unknown')\n",
    "products.info()\n",
    "\n"
   ]
  },
  {
   "cell_type": "markdown",
   "id": "62ffc5f0",
   "metadata": {},
   "source": [
    "### Finding and Removing Duplicates in Product"
   ]
  },
  {
   "cell_type": "code",
   "execution_count": 11,
   "id": "ad6a1efa",
   "metadata": {
    "scrolled": false
   },
   "outputs": [
    {
     "name": "stdout",
     "output_type": "stream",
     "text": [
      "<class 'pandas.core.frame.DataFrame'>\n",
      "RangeIndex: 49688 entries, 0 to 49687\n",
      "Data columns (total 4 columns):\n",
      " #   Column         Non-Null Count  Dtype \n",
      "---  ------         --------------  ----- \n",
      " 0   product_id     49688 non-null  int64 \n",
      " 1   product_name   49688 non-null  object\n",
      " 2   aisle_id       49688 non-null  int64 \n",
      " 3   department_id  49688 non-null  int64 \n",
      "dtypes: int64(3), object(1)\n",
      "memory usage: 1.5+ MB\n"
     ]
    }
   ],
   "source": [
    "### This is showing that there are no duplicates. When I perform the drop duplicates there is no change in the number of rows\n",
    "### in the dataframe.\n",
    "\n",
    "#products[products.duplicated()]\n",
    "#products = products.drop_duplicates().reset_index(drop=True)\n",
    "products.info()"
   ]
  },
  {
   "cell_type": "markdown",
   "id": "2b50aab5",
   "metadata": {},
   "source": [
    "#### The products csv is now void of duplicates and the missing values are filled in. The products csv of the Instacart will help us in our ability to see which products, by id and name, are being sold by Instacart.\n"
   ]
  },
  {
   "cell_type": "markdown",
   "id": "c5243b07",
   "metadata": {},
   "source": [
    "## Reading in Product CSV Files, Checking for Missing Values, and Checking ID's are int64"
   ]
  },
  {
   "cell_type": "code",
   "execution_count": 12,
   "id": "5130e05e",
   "metadata": {},
   "outputs": [
    {
     "name": "stdout",
     "output_type": "stream",
     "text": [
      "<class 'pandas.core.frame.DataFrame'>\n",
      "RangeIndex: 4545007 entries, 0 to 4545006\n",
      "Data columns (total 4 columns):\n",
      " #   Column             Dtype  \n",
      "---  ------             -----  \n",
      " 0   order_id           int64  \n",
      " 1   product_id         int64  \n",
      " 2   add_to_cart_order  float64\n",
      " 3   reordered          int64  \n",
      "dtypes: float64(1), int64(3)\n",
      "memory usage: 138.7 MB\n"
     ]
    }
   ],
   "source": [
    "order_products = pd.read_csv('/datasets/order_products.csv', sep=';')\n",
    "order_products.info()\n",
    "# All ID Columns are int64\n"
   ]
  },
  {
   "cell_type": "markdown",
   "id": "3953bc42",
   "metadata": {},
   "source": [
    "### Finding and replacing missing values in Order Products"
   ]
  },
  {
   "cell_type": "code",
   "execution_count": 13,
   "id": "c0715969",
   "metadata": {},
   "outputs": [
    {
     "name": "stdout",
     "output_type": "stream",
     "text": [
      "<class 'pandas.core.frame.DataFrame'>\n",
      "RangeIndex: 4545007 entries, 0 to 4545006\n",
      "Data columns (total 4 columns):\n",
      " #   Column             Dtype  \n",
      "---  ------             -----  \n",
      " 0   order_id           int64  \n",
      " 1   product_id         int64  \n",
      " 2   add_to_cart_order  float64\n",
      " 3   reordered          int64  \n",
      "dtypes: float64(1), int64(3)\n",
      "memory usage: 138.7 MB\n"
     ]
    },
    {
     "data": {
      "text/plain": [
       "order_id             0\n",
       "product_id           0\n",
       "add_to_cart_order    0\n",
       "reordered            0\n",
       "dtype: int64"
      ]
     },
     "execution_count": 13,
     "metadata": {},
     "output_type": "execute_result"
    }
   ],
   "source": [
    "###Finding Missing Values (Missing Values are in Days Since Prior Order and it goes by 'NaN'...ex: at row 37)\n",
    "order_products.isnull().sum()\n",
    "order_products.info()\n",
    "# Add to cart order has 836 null orders and they are floats. I filled them in with 999 because that's what the project wanted\n",
    "# at the bottom. I personally would have filled them in with 0.0.\n",
    "\n",
    "order_products['add_to_cart_order'] = order_products['add_to_cart_order'].fillna(999)\n",
    "order_products.isnull().sum()"
   ]
  },
  {
   "cell_type": "markdown",
   "id": "bc9cea30",
   "metadata": {},
   "source": [
    "### Finding and Removing Duplicates in Order Products"
   ]
  },
  {
   "cell_type": "code",
   "execution_count": 14,
   "id": "d8370c05",
   "metadata": {
    "scrolled": true
   },
   "outputs": [
    {
     "data": {
      "text/html": [
       "<div>\n",
       "<style scoped>\n",
       "    .dataframe tbody tr th:only-of-type {\n",
       "        vertical-align: middle;\n",
       "    }\n",
       "\n",
       "    .dataframe tbody tr th {\n",
       "        vertical-align: top;\n",
       "    }\n",
       "\n",
       "    .dataframe thead th {\n",
       "        text-align: right;\n",
       "    }\n",
       "</style>\n",
       "<table border=\"1\" class=\"dataframe\">\n",
       "  <thead>\n",
       "    <tr style=\"text-align: right;\">\n",
       "      <th></th>\n",
       "      <th>order_id</th>\n",
       "      <th>product_id</th>\n",
       "      <th>add_to_cart_order</th>\n",
       "      <th>reordered</th>\n",
       "    </tr>\n",
       "  </thead>\n",
       "  <tbody>\n",
       "  </tbody>\n",
       "</table>\n",
       "</div>"
      ],
      "text/plain": [
       "Empty DataFrame\n",
       "Columns: [order_id, product_id, add_to_cart_order, reordered]\n",
       "Index: []"
      ]
     },
     "execution_count": 14,
     "metadata": {},
     "output_type": "execute_result"
    }
   ],
   "source": [
    "order_products[order_products.duplicated()]\n",
    "### This dataframe does not have any duplicates."
   ]
  },
  {
   "cell_type": "markdown",
   "id": "07357848-dc64-4156-9cc3-01ff4365226d",
   "metadata": {},
   "source": [
    "## Find and remove duplicate values (and describe why you make your choices)"
   ]
  },
  {
   "cell_type": "markdown",
   "id": "f179f0a9",
   "metadata": {},
   "source": [
    "### `orders` data frame"
   ]
  },
  {
   "cell_type": "code",
   "execution_count": 15,
   "id": "b99297a5-405a-463d-8535-9adc3da4ad74",
   "metadata": {},
   "outputs": [
    {
     "data": {
      "text/html": [
       "<div>\n",
       "<style scoped>\n",
       "    .dataframe tbody tr th:only-of-type {\n",
       "        vertical-align: middle;\n",
       "    }\n",
       "\n",
       "    .dataframe tbody tr th {\n",
       "        vertical-align: top;\n",
       "    }\n",
       "\n",
       "    .dataframe thead th {\n",
       "        text-align: right;\n",
       "    }\n",
       "</style>\n",
       "<table border=\"1\" class=\"dataframe\">\n",
       "  <thead>\n",
       "    <tr style=\"text-align: right;\">\n",
       "      <th></th>\n",
       "      <th>order_id</th>\n",
       "      <th>user_id</th>\n",
       "      <th>order_number</th>\n",
       "      <th>order_dow</th>\n",
       "      <th>order_hour_of_day</th>\n",
       "      <th>days_since_prior_order</th>\n",
       "    </tr>\n",
       "  </thead>\n",
       "  <tbody>\n",
       "  </tbody>\n",
       "</table>\n",
       "</div>"
      ],
      "text/plain": [
       "Empty DataFrame\n",
       "Columns: [order_id, user_id, order_number, order_dow, order_hour_of_day, days_since_prior_order]\n",
       "Index: []"
      ]
     },
     "execution_count": 15,
     "metadata": {},
     "output_type": "execute_result"
    }
   ],
   "source": [
    "# Check for duplicated orders\n",
    "orders[orders.duplicated()]\n"
   ]
  },
  {
   "cell_type": "code",
   "execution_count": 16,
   "id": "0d44de5d",
   "metadata": {},
   "outputs": [
    {
     "data": {
      "text/html": [
       "<div>\n",
       "<style scoped>\n",
       "    .dataframe tbody tr th:only-of-type {\n",
       "        vertical-align: middle;\n",
       "    }\n",
       "\n",
       "    .dataframe tbody tr th {\n",
       "        vertical-align: top;\n",
       "    }\n",
       "\n",
       "    .dataframe thead th {\n",
       "        text-align: right;\n",
       "    }\n",
       "</style>\n",
       "<table border=\"1\" class=\"dataframe\">\n",
       "  <thead>\n",
       "    <tr style=\"text-align: right;\">\n",
       "      <th></th>\n",
       "      <th>order_id</th>\n",
       "      <th>user_id</th>\n",
       "      <th>order_number</th>\n",
       "      <th>order_dow</th>\n",
       "      <th>order_hour_of_day</th>\n",
       "      <th>days_since_prior_order</th>\n",
       "    </tr>\n",
       "  </thead>\n",
       "  <tbody>\n",
       "    <tr>\n",
       "      <th>1447</th>\n",
       "      <td>2988378</td>\n",
       "      <td>63642</td>\n",
       "      <td>7</td>\n",
       "      <td>3</td>\n",
       "      <td>2</td>\n",
       "      <td>8.0</td>\n",
       "    </tr>\n",
       "    <tr>\n",
       "      <th>2233</th>\n",
       "      <td>300460</td>\n",
       "      <td>171540</td>\n",
       "      <td>3</td>\n",
       "      <td>3</td>\n",
       "      <td>2</td>\n",
       "      <td>5.0</td>\n",
       "    </tr>\n",
       "    <tr>\n",
       "      <th>7219</th>\n",
       "      <td>2577985</td>\n",
       "      <td>26069</td>\n",
       "      <td>1</td>\n",
       "      <td>3</td>\n",
       "      <td>2</td>\n",
       "      <td>NaN</td>\n",
       "    </tr>\n",
       "    <tr>\n",
       "      <th>14048</th>\n",
       "      <td>158232</td>\n",
       "      <td>30351</td>\n",
       "      <td>14</td>\n",
       "      <td>3</td>\n",
       "      <td>2</td>\n",
       "      <td>18.0</td>\n",
       "    </tr>\n",
       "    <tr>\n",
       "      <th>20018</th>\n",
       "      <td>1378085</td>\n",
       "      <td>75705</td>\n",
       "      <td>21</td>\n",
       "      <td>3</td>\n",
       "      <td>2</td>\n",
       "      <td>5.0</td>\n",
       "    </tr>\n",
       "    <tr>\n",
       "      <th>...</th>\n",
       "      <td>...</td>\n",
       "      <td>...</td>\n",
       "      <td>...</td>\n",
       "      <td>...</td>\n",
       "      <td>...</td>\n",
       "      <td>...</td>\n",
       "    </tr>\n",
       "    <tr>\n",
       "      <th>655418</th>\n",
       "      <td>727057</td>\n",
       "      <td>91944</td>\n",
       "      <td>2</td>\n",
       "      <td>3</td>\n",
       "      <td>2</td>\n",
       "      <td>3.0</td>\n",
       "    </tr>\n",
       "    <tr>\n",
       "      <th>662826</th>\n",
       "      <td>465863</td>\n",
       "      <td>3871</td>\n",
       "      <td>4</td>\n",
       "      <td>3</td>\n",
       "      <td>2</td>\n",
       "      <td>9.0</td>\n",
       "    </tr>\n",
       "    <tr>\n",
       "      <th>665268</th>\n",
       "      <td>8003</td>\n",
       "      <td>129540</td>\n",
       "      <td>7</td>\n",
       "      <td>3</td>\n",
       "      <td>2</td>\n",
       "      <td>11.0</td>\n",
       "    </tr>\n",
       "    <tr>\n",
       "      <th>674129</th>\n",
       "      <td>1910684</td>\n",
       "      <td>85829</td>\n",
       "      <td>2</td>\n",
       "      <td>3</td>\n",
       "      <td>2</td>\n",
       "      <td>30.0</td>\n",
       "    </tr>\n",
       "    <tr>\n",
       "      <th>678992</th>\n",
       "      <td>6321</td>\n",
       "      <td>20487</td>\n",
       "      <td>39</td>\n",
       "      <td>3</td>\n",
       "      <td>2</td>\n",
       "      <td>14.0</td>\n",
       "    </tr>\n",
       "  </tbody>\n",
       "</table>\n",
       "<p>179 rows × 6 columns</p>\n",
       "</div>"
      ],
      "text/plain": [
       "        order_id  user_id  order_number  order_dow  order_hour_of_day  \\\n",
       "1447     2988378    63642             7          3                  2   \n",
       "2233      300460   171540             3          3                  2   \n",
       "7219     2577985    26069             1          3                  2   \n",
       "14048     158232    30351            14          3                  2   \n",
       "20018    1378085    75705            21          3                  2   \n",
       "...          ...      ...           ...        ...                ...   \n",
       "655418    727057    91944             2          3                  2   \n",
       "662826    465863     3871             4          3                  2   \n",
       "665268      8003   129540             7          3                  2   \n",
       "674129   1910684    85829             2          3                  2   \n",
       "678992      6321    20487            39          3                  2   \n",
       "\n",
       "        days_since_prior_order  \n",
       "1447                       8.0  \n",
       "2233                       5.0  \n",
       "7219                       NaN  \n",
       "14048                     18.0  \n",
       "20018                      5.0  \n",
       "...                        ...  \n",
       "655418                     3.0  \n",
       "662826                     9.0  \n",
       "665268                    11.0  \n",
       "674129                    30.0  \n",
       "678992                    14.0  \n",
       "\n",
       "[179 rows x 6 columns]"
      ]
     },
     "execution_count": 16,
     "metadata": {},
     "output_type": "execute_result"
    }
   ],
   "source": [
    "# Check for all orders placed Wednesday at 2:00 AM\n",
    "orders[(orders['order_dow'] == 3) & (orders['order_hour_of_day'] == 2)]"
   ]
  },
  {
   "cell_type": "code",
   "execution_count": 17,
   "id": "480563c7",
   "metadata": {},
   "outputs": [],
   "source": [
    "# Remove duplicate orders (I removed the duplicate rows up top.)\n"
   ]
  },
  {
   "cell_type": "code",
   "execution_count": 18,
   "id": "0b2396a2",
   "metadata": {},
   "outputs": [
    {
     "data": {
      "text/html": [
       "<div>\n",
       "<style scoped>\n",
       "    .dataframe tbody tr th:only-of-type {\n",
       "        vertical-align: middle;\n",
       "    }\n",
       "\n",
       "    .dataframe tbody tr th {\n",
       "        vertical-align: top;\n",
       "    }\n",
       "\n",
       "    .dataframe thead th {\n",
       "        text-align: right;\n",
       "    }\n",
       "</style>\n",
       "<table border=\"1\" class=\"dataframe\">\n",
       "  <thead>\n",
       "    <tr style=\"text-align: right;\">\n",
       "      <th></th>\n",
       "      <th>order_id</th>\n",
       "      <th>user_id</th>\n",
       "      <th>order_number</th>\n",
       "      <th>order_dow</th>\n",
       "      <th>order_hour_of_day</th>\n",
       "      <th>days_since_prior_order</th>\n",
       "    </tr>\n",
       "  </thead>\n",
       "  <tbody>\n",
       "  </tbody>\n",
       "</table>\n",
       "</div>"
      ],
      "text/plain": [
       "Empty DataFrame\n",
       "Columns: [order_id, user_id, order_number, order_dow, order_hour_of_day, days_since_prior_order]\n",
       "Index: []"
      ]
     },
     "execution_count": 18,
     "metadata": {},
     "output_type": "execute_result"
    }
   ],
   "source": [
    "# Double check for duplicate rows\n",
    "orders[orders.duplicated()]"
   ]
  },
  {
   "cell_type": "code",
   "execution_count": 19,
   "id": "f6113ef1",
   "metadata": {},
   "outputs": [
    {
     "data": {
      "text/html": [
       "<div>\n",
       "<style scoped>\n",
       "    .dataframe tbody tr th:only-of-type {\n",
       "        vertical-align: middle;\n",
       "    }\n",
       "\n",
       "    .dataframe tbody tr th {\n",
       "        vertical-align: top;\n",
       "    }\n",
       "\n",
       "    .dataframe thead th {\n",
       "        text-align: right;\n",
       "    }\n",
       "</style>\n",
       "<table border=\"1\" class=\"dataframe\">\n",
       "  <thead>\n",
       "    <tr style=\"text-align: right;\">\n",
       "      <th></th>\n",
       "      <th>order_id</th>\n",
       "      <th>user_id</th>\n",
       "      <th>order_number</th>\n",
       "      <th>order_dow</th>\n",
       "      <th>order_hour_of_day</th>\n",
       "      <th>days_since_prior_order</th>\n",
       "    </tr>\n",
       "  </thead>\n",
       "  <tbody>\n",
       "  </tbody>\n",
       "</table>\n",
       "</div>"
      ],
      "text/plain": [
       "Empty DataFrame\n",
       "Columns: [order_id, user_id, order_number, order_dow, order_hour_of_day, days_since_prior_order]\n",
       "Index: []"
      ]
     },
     "execution_count": 19,
     "metadata": {},
     "output_type": "execute_result"
    }
   ],
   "source": [
    "# Double check for duplicate order IDs only\n",
    "orders[orders.duplicated(subset='order_id')]"
   ]
  },
  {
   "cell_type": "markdown",
   "id": "45e6bc46",
   "metadata": {},
   "source": [
    "### `products` data frame"
   ]
  },
  {
   "cell_type": "code",
   "execution_count": 20,
   "id": "5f526b5b-8175-46fa-a0fd-441767d50e64",
   "metadata": {},
   "outputs": [
    {
     "data": {
      "text/html": [
       "<div>\n",
       "<style scoped>\n",
       "    .dataframe tbody tr th:only-of-type {\n",
       "        vertical-align: middle;\n",
       "    }\n",
       "\n",
       "    .dataframe tbody tr th {\n",
       "        vertical-align: top;\n",
       "    }\n",
       "\n",
       "    .dataframe thead th {\n",
       "        text-align: right;\n",
       "    }\n",
       "</style>\n",
       "<table border=\"1\" class=\"dataframe\">\n",
       "  <thead>\n",
       "    <tr style=\"text-align: right;\">\n",
       "      <th></th>\n",
       "      <th>product_id</th>\n",
       "      <th>product_name</th>\n",
       "      <th>aisle_id</th>\n",
       "      <th>department_id</th>\n",
       "    </tr>\n",
       "  </thead>\n",
       "  <tbody>\n",
       "  </tbody>\n",
       "</table>\n",
       "</div>"
      ],
      "text/plain": [
       "Empty DataFrame\n",
       "Columns: [product_id, product_name, aisle_id, department_id]\n",
       "Index: []"
      ]
     },
     "execution_count": 20,
     "metadata": {},
     "output_type": "execute_result"
    }
   ],
   "source": [
    "# Check for fully duplicate rows\n",
    "products[products.duplicated()]\n"
   ]
  },
  {
   "cell_type": "code",
   "execution_count": 21,
   "id": "88daa4f4",
   "metadata": {},
   "outputs": [
    {
     "data": {
      "text/html": [
       "<div>\n",
       "<style scoped>\n",
       "    .dataframe tbody tr th:only-of-type {\n",
       "        vertical-align: middle;\n",
       "    }\n",
       "\n",
       "    .dataframe tbody tr th {\n",
       "        vertical-align: top;\n",
       "    }\n",
       "\n",
       "    .dataframe thead th {\n",
       "        text-align: right;\n",
       "    }\n",
       "</style>\n",
       "<table border=\"1\" class=\"dataframe\">\n",
       "  <thead>\n",
       "    <tr style=\"text-align: right;\">\n",
       "      <th></th>\n",
       "      <th>product_id</th>\n",
       "      <th>product_name</th>\n",
       "      <th>aisle_id</th>\n",
       "      <th>department_id</th>\n",
       "    </tr>\n",
       "  </thead>\n",
       "  <tbody>\n",
       "  </tbody>\n",
       "</table>\n",
       "</div>"
      ],
      "text/plain": [
       "Empty DataFrame\n",
       "Columns: [product_id, product_name, aisle_id, department_id]\n",
       "Index: []"
      ]
     },
     "execution_count": 21,
     "metadata": {},
     "output_type": "execute_result"
    }
   ],
   "source": [
    "# Check for just duplicate product IDs\n",
    "products[products.duplicated(subset='product_id')]"
   ]
  },
  {
   "cell_type": "code",
   "execution_count": 22,
   "id": "c773f0bf",
   "metadata": {},
   "outputs": [
    {
     "data": {
      "text/html": [
       "<div>\n",
       "<style scoped>\n",
       "    .dataframe tbody tr th:only-of-type {\n",
       "        vertical-align: middle;\n",
       "    }\n",
       "\n",
       "    .dataframe tbody tr th {\n",
       "        vertical-align: top;\n",
       "    }\n",
       "\n",
       "    .dataframe thead th {\n",
       "        text-align: right;\n",
       "    }\n",
       "</style>\n",
       "<table border=\"1\" class=\"dataframe\">\n",
       "  <thead>\n",
       "    <tr style=\"text-align: right;\">\n",
       "      <th></th>\n",
       "      <th>product_id</th>\n",
       "      <th>product_name</th>\n",
       "      <th>aisle_id</th>\n",
       "      <th>department_id</th>\n",
       "    </tr>\n",
       "  </thead>\n",
       "  <tbody>\n",
       "    <tr>\n",
       "      <th>2058</th>\n",
       "      <td>2059</td>\n",
       "      <td>Biotin 1000 Mcg</td>\n",
       "      <td>47</td>\n",
       "      <td>11</td>\n",
       "    </tr>\n",
       "    <tr>\n",
       "      <th>5455</th>\n",
       "      <td>5456</td>\n",
       "      <td>Green Tea With Ginseng and Honey</td>\n",
       "      <td>96</td>\n",
       "      <td>20</td>\n",
       "    </tr>\n",
       "    <tr>\n",
       "      <th>5558</th>\n",
       "      <td>5559</td>\n",
       "      <td>Cream Of Mushroom Soup</td>\n",
       "      <td>69</td>\n",
       "      <td>15</td>\n",
       "    </tr>\n",
       "    <tr>\n",
       "      <th>7558</th>\n",
       "      <td>7559</td>\n",
       "      <td>Cinnamon Rolls with Icing</td>\n",
       "      <td>105</td>\n",
       "      <td>13</td>\n",
       "    </tr>\n",
       "    <tr>\n",
       "      <th>9037</th>\n",
       "      <td>9038</td>\n",
       "      <td>American Cheese slices</td>\n",
       "      <td>21</td>\n",
       "      <td>16</td>\n",
       "    </tr>\n",
       "    <tr>\n",
       "      <th>...</th>\n",
       "      <td>...</td>\n",
       "      <td>...</td>\n",
       "      <td>...</td>\n",
       "      <td>...</td>\n",
       "    </tr>\n",
       "    <tr>\n",
       "      <th>48748</th>\n",
       "      <td>48749</td>\n",
       "      <td>Vitamin D3 1000 IU</td>\n",
       "      <td>47</td>\n",
       "      <td>11</td>\n",
       "    </tr>\n",
       "    <tr>\n",
       "      <th>48824</th>\n",
       "      <td>48825</td>\n",
       "      <td>Bag of Organic Lemons</td>\n",
       "      <td>24</td>\n",
       "      <td>4</td>\n",
       "    </tr>\n",
       "    <tr>\n",
       "      <th>49226</th>\n",
       "      <td>49227</td>\n",
       "      <td>Sour Cream and Onion Potato Chips</td>\n",
       "      <td>107</td>\n",
       "      <td>19</td>\n",
       "    </tr>\n",
       "    <tr>\n",
       "      <th>49442</th>\n",
       "      <td>49443</td>\n",
       "      <td>Vitamin D3 5000 Iu</td>\n",
       "      <td>47</td>\n",
       "      <td>11</td>\n",
       "    </tr>\n",
       "    <tr>\n",
       "      <th>49530</th>\n",
       "      <td>49531</td>\n",
       "      <td>Anchovy Fillets In Olive Oil</td>\n",
       "      <td>95</td>\n",
       "      <td>15</td>\n",
       "    </tr>\n",
       "  </tbody>\n",
       "</table>\n",
       "<p>100 rows × 4 columns</p>\n",
       "</div>"
      ],
      "text/plain": [
       "       product_id                       product_name  aisle_id  department_id\n",
       "2058         2059                    Biotin 1000 Mcg        47             11\n",
       "5455         5456   Green Tea With Ginseng and Honey        96             20\n",
       "5558         5559             Cream Of Mushroom Soup        69             15\n",
       "7558         7559          Cinnamon Rolls with Icing       105             13\n",
       "9037         9038             American Cheese slices        21             16\n",
       "...           ...                                ...       ...            ...\n",
       "48748       48749                 Vitamin D3 1000 IU        47             11\n",
       "48824       48825              Bag of Organic Lemons        24              4\n",
       "49226       49227  Sour Cream and Onion Potato Chips       107             19\n",
       "49442       49443                 Vitamin D3 5000 Iu        47             11\n",
       "49530       49531       Anchovy Fillets In Olive Oil        95             15\n",
       "\n",
       "[100 rows x 4 columns]"
      ]
     },
     "execution_count": 22,
     "metadata": {},
     "output_type": "execute_result"
    }
   ],
   "source": [
    "# Check for just duplicate product names (convert names to lowercase to compare better)\n",
    "products[products['product_name'].str.lower().duplicated()]"
   ]
  },
  {
   "cell_type": "code",
   "execution_count": 23,
   "id": "01efd02e",
   "metadata": {},
   "outputs": [
    {
     "data": {
      "text/html": [
       "<div>\n",
       "<style scoped>\n",
       "    .dataframe tbody tr th:only-of-type {\n",
       "        vertical-align: middle;\n",
       "    }\n",
       "\n",
       "    .dataframe tbody tr th {\n",
       "        vertical-align: top;\n",
       "    }\n",
       "\n",
       "    .dataframe thead th {\n",
       "        text-align: right;\n",
       "    }\n",
       "</style>\n",
       "<table border=\"1\" class=\"dataframe\">\n",
       "  <thead>\n",
       "    <tr style=\"text-align: right;\">\n",
       "      <th></th>\n",
       "      <th>product_id</th>\n",
       "      <th>product_name</th>\n",
       "      <th>aisle_id</th>\n",
       "      <th>department_id</th>\n",
       "    </tr>\n",
       "  </thead>\n",
       "  <tbody>\n",
       "  </tbody>\n",
       "</table>\n",
       "</div>"
      ],
      "text/plain": [
       "Empty DataFrame\n",
       "Columns: [product_id, product_name, aisle_id, department_id]\n",
       "Index: []"
      ]
     },
     "execution_count": 23,
     "metadata": {},
     "output_type": "execute_result"
    }
   ],
   "source": [
    "# Check for duplicate product names that aren't missing\n",
    "products[products['product_name'].duplicated()]"
   ]
  },
  {
   "cell_type": "markdown",
   "id": "60f30db1",
   "metadata": {},
   "source": [
    "### `departments` data frame"
   ]
  },
  {
   "cell_type": "code",
   "execution_count": 24,
   "id": "fb410ad4-0fbf-4b80-bb09-23fdea79afe3",
   "metadata": {},
   "outputs": [
    {
     "name": "stdout",
     "output_type": "stream",
     "text": [
      "<class 'pandas.core.frame.DataFrame'>\n",
      "RangeIndex: 21 entries, 0 to 20\n",
      "Data columns (total 1 columns):\n",
      " #   Column                    Non-Null Count  Dtype \n",
      "---  ------                    --------------  ----- \n",
      " 0   department_id;department  21 non-null     object\n",
      "dtypes: object(1)\n",
      "memory usage: 296.0+ bytes\n"
     ]
    }
   ],
   "source": [
    "departments = pd.read_csv('/datasets/departments.csv')\n",
    "departments.info()"
   ]
  },
  {
   "cell_type": "code",
   "execution_count": 25,
   "id": "332b12bb",
   "metadata": {},
   "outputs": [
    {
     "data": {
      "text/html": [
       "<div>\n",
       "<style scoped>\n",
       "    .dataframe tbody tr th:only-of-type {\n",
       "        vertical-align: middle;\n",
       "    }\n",
       "\n",
       "    .dataframe tbody tr th {\n",
       "        vertical-align: top;\n",
       "    }\n",
       "\n",
       "    .dataframe thead th {\n",
       "        text-align: right;\n",
       "    }\n",
       "</style>\n",
       "<table border=\"1\" class=\"dataframe\">\n",
       "  <thead>\n",
       "    <tr style=\"text-align: right;\">\n",
       "      <th></th>\n",
       "      <th>department_id;department</th>\n",
       "    </tr>\n",
       "  </thead>\n",
       "  <tbody>\n",
       "    <tr>\n",
       "      <th>0</th>\n",
       "      <td>1;frozen</td>\n",
       "    </tr>\n",
       "    <tr>\n",
       "      <th>1</th>\n",
       "      <td>2;other</td>\n",
       "    </tr>\n",
       "    <tr>\n",
       "      <th>2</th>\n",
       "      <td>3;bakery</td>\n",
       "    </tr>\n",
       "    <tr>\n",
       "      <th>3</th>\n",
       "      <td>4;produce</td>\n",
       "    </tr>\n",
       "    <tr>\n",
       "      <th>4</th>\n",
       "      <td>5;alcohol</td>\n",
       "    </tr>\n",
       "    <tr>\n",
       "      <th>5</th>\n",
       "      <td>6;international</td>\n",
       "    </tr>\n",
       "    <tr>\n",
       "      <th>6</th>\n",
       "      <td>7;beverages</td>\n",
       "    </tr>\n",
       "    <tr>\n",
       "      <th>7</th>\n",
       "      <td>8;pets</td>\n",
       "    </tr>\n",
       "    <tr>\n",
       "      <th>8</th>\n",
       "      <td>9;dry goods pasta</td>\n",
       "    </tr>\n",
       "    <tr>\n",
       "      <th>9</th>\n",
       "      <td>10;bulk</td>\n",
       "    </tr>\n",
       "    <tr>\n",
       "      <th>10</th>\n",
       "      <td>11;personal care</td>\n",
       "    </tr>\n",
       "    <tr>\n",
       "      <th>11</th>\n",
       "      <td>12;meat seafood</td>\n",
       "    </tr>\n",
       "    <tr>\n",
       "      <th>12</th>\n",
       "      <td>13;pantry</td>\n",
       "    </tr>\n",
       "    <tr>\n",
       "      <th>13</th>\n",
       "      <td>14;breakfast</td>\n",
       "    </tr>\n",
       "    <tr>\n",
       "      <th>14</th>\n",
       "      <td>15;canned goods</td>\n",
       "    </tr>\n",
       "    <tr>\n",
       "      <th>15</th>\n",
       "      <td>16;dairy eggs</td>\n",
       "    </tr>\n",
       "    <tr>\n",
       "      <th>16</th>\n",
       "      <td>17;household</td>\n",
       "    </tr>\n",
       "    <tr>\n",
       "      <th>17</th>\n",
       "      <td>18;babies</td>\n",
       "    </tr>\n",
       "    <tr>\n",
       "      <th>18</th>\n",
       "      <td>19;snacks</td>\n",
       "    </tr>\n",
       "    <tr>\n",
       "      <th>19</th>\n",
       "      <td>20;deli</td>\n",
       "    </tr>\n",
       "    <tr>\n",
       "      <th>20</th>\n",
       "      <td>21;missing</td>\n",
       "    </tr>\n",
       "  </tbody>\n",
       "</table>\n",
       "</div>"
      ],
      "text/plain": [
       "   department_id;department\n",
       "0                  1;frozen\n",
       "1                   2;other\n",
       "2                  3;bakery\n",
       "3                 4;produce\n",
       "4                 5;alcohol\n",
       "5           6;international\n",
       "6               7;beverages\n",
       "7                    8;pets\n",
       "8         9;dry goods pasta\n",
       "9                   10;bulk\n",
       "10         11;personal care\n",
       "11          12;meat seafood\n",
       "12                13;pantry\n",
       "13             14;breakfast\n",
       "14          15;canned goods\n",
       "15            16;dairy eggs\n",
       "16             17;household\n",
       "17                18;babies\n",
       "18                19;snacks\n",
       "19                  20;deli\n",
       "20               21;missing"
      ]
     },
     "execution_count": 25,
     "metadata": {},
     "output_type": "execute_result"
    }
   ],
   "source": [
    "departments"
   ]
  },
  {
   "cell_type": "markdown",
   "id": "bd30d78e",
   "metadata": {},
   "source": []
  },
  {
   "cell_type": "markdown",
   "id": "889349c1",
   "metadata": {},
   "source": [
    "### `aisles` data frame"
   ]
  },
  {
   "cell_type": "code",
   "execution_count": 26,
   "id": "9da89fb9-4679-40f5-ad0d-c34df753a3f8",
   "metadata": {},
   "outputs": [
    {
     "name": "stdout",
     "output_type": "stream",
     "text": [
      "<class 'pandas.core.frame.DataFrame'>\n",
      "RangeIndex: 134 entries, 0 to 133\n",
      "Data columns (total 1 columns):\n",
      " #   Column          Non-Null Count  Dtype \n",
      "---  ------          --------------  ----- \n",
      " 0   aisle_id;aisle  134 non-null    object\n",
      "dtypes: object(1)\n",
      "memory usage: 1.2+ KB\n"
     ]
    }
   ],
   "source": [
    "aisles = pd.read_csv('/datasets/aisles.csv')\n",
    "aisles.info()"
   ]
  },
  {
   "cell_type": "code",
   "execution_count": 27,
   "id": "da7c2822",
   "metadata": {},
   "outputs": [
    {
     "data": {
      "text/html": [
       "<div>\n",
       "<style scoped>\n",
       "    .dataframe tbody tr th:only-of-type {\n",
       "        vertical-align: middle;\n",
       "    }\n",
       "\n",
       "    .dataframe tbody tr th {\n",
       "        vertical-align: top;\n",
       "    }\n",
       "\n",
       "    .dataframe thead th {\n",
       "        text-align: right;\n",
       "    }\n",
       "</style>\n",
       "<table border=\"1\" class=\"dataframe\">\n",
       "  <thead>\n",
       "    <tr style=\"text-align: right;\">\n",
       "      <th></th>\n",
       "      <th>aisle_id;aisle</th>\n",
       "    </tr>\n",
       "  </thead>\n",
       "  <tbody>\n",
       "    <tr>\n",
       "      <th>0</th>\n",
       "      <td>1;prepared soups salads</td>\n",
       "    </tr>\n",
       "    <tr>\n",
       "      <th>1</th>\n",
       "      <td>2;specialty cheeses</td>\n",
       "    </tr>\n",
       "    <tr>\n",
       "      <th>2</th>\n",
       "      <td>3;energy granola bars</td>\n",
       "    </tr>\n",
       "    <tr>\n",
       "      <th>3</th>\n",
       "      <td>4;instant foods</td>\n",
       "    </tr>\n",
       "    <tr>\n",
       "      <th>4</th>\n",
       "      <td>5;marinades meat preparation</td>\n",
       "    </tr>\n",
       "    <tr>\n",
       "      <th>...</th>\n",
       "      <td>...</td>\n",
       "    </tr>\n",
       "    <tr>\n",
       "      <th>129</th>\n",
       "      <td>130;hot cereal pancake mixes</td>\n",
       "    </tr>\n",
       "    <tr>\n",
       "      <th>130</th>\n",
       "      <td>131;dry pasta</td>\n",
       "    </tr>\n",
       "    <tr>\n",
       "      <th>131</th>\n",
       "      <td>132;beauty</td>\n",
       "    </tr>\n",
       "    <tr>\n",
       "      <th>132</th>\n",
       "      <td>133;muscles joints pain relief</td>\n",
       "    </tr>\n",
       "    <tr>\n",
       "      <th>133</th>\n",
       "      <td>134;specialty wines champagnes</td>\n",
       "    </tr>\n",
       "  </tbody>\n",
       "</table>\n",
       "<p>134 rows × 1 columns</p>\n",
       "</div>"
      ],
      "text/plain": [
       "                     aisle_id;aisle\n",
       "0           1;prepared soups salads\n",
       "1               2;specialty cheeses\n",
       "2             3;energy granola bars\n",
       "3                   4;instant foods\n",
       "4      5;marinades meat preparation\n",
       "..                              ...\n",
       "129    130;hot cereal pancake mixes\n",
       "130                   131;dry pasta\n",
       "131                      132;beauty\n",
       "132  133;muscles joints pain relief\n",
       "133  134;specialty wines champagnes\n",
       "\n",
       "[134 rows x 1 columns]"
      ]
     },
     "execution_count": 27,
     "metadata": {},
     "output_type": "execute_result"
    }
   ],
   "source": [
    "aisles"
   ]
  },
  {
   "cell_type": "markdown",
   "id": "ac63826f",
   "metadata": {},
   "source": []
  },
  {
   "cell_type": "markdown",
   "id": "274cd06a",
   "metadata": {},
   "source": [
    "### `order_products` data frame"
   ]
  },
  {
   "cell_type": "code",
   "execution_count": 28,
   "id": "52326689-84a8-4b8f-a881-7c68780f62c9",
   "metadata": {},
   "outputs": [
    {
     "data": {
      "text/html": [
       "<div>\n",
       "<style scoped>\n",
       "    .dataframe tbody tr th:only-of-type {\n",
       "        vertical-align: middle;\n",
       "    }\n",
       "\n",
       "    .dataframe tbody tr th {\n",
       "        vertical-align: top;\n",
       "    }\n",
       "\n",
       "    .dataframe thead th {\n",
       "        text-align: right;\n",
       "    }\n",
       "</style>\n",
       "<table border=\"1\" class=\"dataframe\">\n",
       "  <thead>\n",
       "    <tr style=\"text-align: right;\">\n",
       "      <th></th>\n",
       "      <th>order_id</th>\n",
       "      <th>product_id</th>\n",
       "      <th>add_to_cart_order</th>\n",
       "      <th>reordered</th>\n",
       "    </tr>\n",
       "  </thead>\n",
       "  <tbody>\n",
       "  </tbody>\n",
       "</table>\n",
       "</div>"
      ],
      "text/plain": [
       "Empty DataFrame\n",
       "Columns: [order_id, product_id, add_to_cart_order, reordered]\n",
       "Index: []"
      ]
     },
     "execution_count": 28,
     "metadata": {},
     "output_type": "execute_result"
    }
   ],
   "source": [
    "# Check for fullly duplicate rows\n",
    "order_products[order_products.duplicated()]"
   ]
  },
  {
   "cell_type": "code",
   "execution_count": 29,
   "id": "7b861391",
   "metadata": {},
   "outputs": [
    {
     "data": {
      "text/html": [
       "<div>\n",
       "<style scoped>\n",
       "    .dataframe tbody tr th:only-of-type {\n",
       "        vertical-align: middle;\n",
       "    }\n",
       "\n",
       "    .dataframe tbody tr th {\n",
       "        vertical-align: top;\n",
       "    }\n",
       "\n",
       "    .dataframe thead th {\n",
       "        text-align: right;\n",
       "    }\n",
       "</style>\n",
       "<table border=\"1\" class=\"dataframe\">\n",
       "  <thead>\n",
       "    <tr style=\"text-align: right;\">\n",
       "      <th></th>\n",
       "      <th>order_id</th>\n",
       "      <th>product_id</th>\n",
       "      <th>add_to_cart_order</th>\n",
       "      <th>reordered</th>\n",
       "    </tr>\n",
       "  </thead>\n",
       "  <tbody>\n",
       "    <tr>\n",
       "      <th>19</th>\n",
       "      <td>2500729</td>\n",
       "      <td>21616</td>\n",
       "      <td>5.0</td>\n",
       "      <td>1</td>\n",
       "    </tr>\n",
       "    <tr>\n",
       "      <th>20</th>\n",
       "      <td>1687771</td>\n",
       "      <td>22963</td>\n",
       "      <td>5.0</td>\n",
       "      <td>1</td>\n",
       "    </tr>\n",
       "    <tr>\n",
       "      <th>75</th>\n",
       "      <td>2186234</td>\n",
       "      <td>13176</td>\n",
       "      <td>2.0</td>\n",
       "      <td>1</td>\n",
       "    </tr>\n",
       "    <tr>\n",
       "      <th>78</th>\n",
       "      <td>145751</td>\n",
       "      <td>47626</td>\n",
       "      <td>8.0</td>\n",
       "      <td>1</td>\n",
       "    </tr>\n",
       "    <tr>\n",
       "      <th>80</th>\n",
       "      <td>497429</td>\n",
       "      <td>26209</td>\n",
       "      <td>9.0</td>\n",
       "      <td>1</td>\n",
       "    </tr>\n",
       "    <tr>\n",
       "      <th>...</th>\n",
       "      <td>...</td>\n",
       "      <td>...</td>\n",
       "      <td>...</td>\n",
       "      <td>...</td>\n",
       "    </tr>\n",
       "    <tr>\n",
       "      <th>4545002</th>\n",
       "      <td>577211</td>\n",
       "      <td>15290</td>\n",
       "      <td>12.0</td>\n",
       "      <td>1</td>\n",
       "    </tr>\n",
       "    <tr>\n",
       "      <th>4545003</th>\n",
       "      <td>1219554</td>\n",
       "      <td>21914</td>\n",
       "      <td>9.0</td>\n",
       "      <td>0</td>\n",
       "    </tr>\n",
       "    <tr>\n",
       "      <th>4545004</th>\n",
       "      <td>692640</td>\n",
       "      <td>47766</td>\n",
       "      <td>4.0</td>\n",
       "      <td>1</td>\n",
       "    </tr>\n",
       "    <tr>\n",
       "      <th>4545005</th>\n",
       "      <td>319435</td>\n",
       "      <td>691</td>\n",
       "      <td>8.0</td>\n",
       "      <td>1</td>\n",
       "    </tr>\n",
       "    <tr>\n",
       "      <th>4545006</th>\n",
       "      <td>1398151</td>\n",
       "      <td>28733</td>\n",
       "      <td>9.0</td>\n",
       "      <td>0</td>\n",
       "    </tr>\n",
       "  </tbody>\n",
       "</table>\n",
       "<p>4499434 rows × 4 columns</p>\n",
       "</div>"
      ],
      "text/plain": [
       "         order_id  product_id  add_to_cart_order  reordered\n",
       "19        2500729       21616                5.0          1\n",
       "20        1687771       22963                5.0          1\n",
       "75        2186234       13176                2.0          1\n",
       "78         145751       47626                8.0          1\n",
       "80         497429       26209                9.0          1\n",
       "...           ...         ...                ...        ...\n",
       "4545002    577211       15290               12.0          1\n",
       "4545003   1219554       21914                9.0          0\n",
       "4545004    692640       47766                4.0          1\n",
       "4545005    319435         691                8.0          1\n",
       "4545006   1398151       28733                9.0          0\n",
       "\n",
       "[4499434 rows x 4 columns]"
      ]
     },
     "execution_count": 29,
     "metadata": {},
     "output_type": "execute_result"
    }
   ],
   "source": [
    "# Double check for any other tricky duplicates\n",
    "order_products[order_products['product_id'].duplicated()]"
   ]
  },
  {
   "cell_type": "markdown",
   "id": "0b890492",
   "metadata": {},
   "source": []
  },
  {
   "cell_type": "markdown",
   "id": "1e46de76",
   "metadata": {},
   "source": [
    "## Find and remove missing values\n"
   ]
  },
  {
   "cell_type": "markdown",
   "id": "c0aebd78",
   "metadata": {},
   "source": [
    "### `products` data frame"
   ]
  },
  {
   "cell_type": "code",
   "execution_count": 30,
   "id": "e96167bc",
   "metadata": {},
   "outputs": [
    {
     "data": {
      "text/html": [
       "<div>\n",
       "<style scoped>\n",
       "    .dataframe tbody tr th:only-of-type {\n",
       "        vertical-align: middle;\n",
       "    }\n",
       "\n",
       "    .dataframe tbody tr th {\n",
       "        vertical-align: top;\n",
       "    }\n",
       "\n",
       "    .dataframe thead th {\n",
       "        text-align: right;\n",
       "    }\n",
       "</style>\n",
       "<table border=\"1\" class=\"dataframe\">\n",
       "  <thead>\n",
       "    <tr style=\"text-align: right;\">\n",
       "      <th></th>\n",
       "      <th>product_id</th>\n",
       "      <th>product_name</th>\n",
       "      <th>aisle_id</th>\n",
       "      <th>department_id</th>\n",
       "    </tr>\n",
       "  </thead>\n",
       "  <tbody>\n",
       "  </tbody>\n",
       "</table>\n",
       "</div>"
      ],
      "text/plain": [
       "Empty DataFrame\n",
       "Columns: [product_id, product_name, aisle_id, department_id]\n",
       "Index: []"
      ]
     },
     "execution_count": 30,
     "metadata": {},
     "output_type": "execute_result"
    }
   ],
   "source": [
    "# Are all of the missing product names associated with aisle ID 100?\n",
    "products[(products['product_name'].isna()) & (['aisle_id'] != 100)]"
   ]
  },
  {
   "cell_type": "code",
   "execution_count": 31,
   "id": "8fd0a541",
   "metadata": {},
   "outputs": [
    {
     "data": {
      "text/html": [
       "<div>\n",
       "<style scoped>\n",
       "    .dataframe tbody tr th:only-of-type {\n",
       "        vertical-align: middle;\n",
       "    }\n",
       "\n",
       "    .dataframe tbody tr th {\n",
       "        vertical-align: top;\n",
       "    }\n",
       "\n",
       "    .dataframe thead th {\n",
       "        text-align: right;\n",
       "    }\n",
       "</style>\n",
       "<table border=\"1\" class=\"dataframe\">\n",
       "  <thead>\n",
       "    <tr style=\"text-align: right;\">\n",
       "      <th></th>\n",
       "      <th>product_id</th>\n",
       "      <th>product_name</th>\n",
       "      <th>aisle_id</th>\n",
       "      <th>department_id</th>\n",
       "    </tr>\n",
       "  </thead>\n",
       "  <tbody>\n",
       "  </tbody>\n",
       "</table>\n",
       "</div>"
      ],
      "text/plain": [
       "Empty DataFrame\n",
       "Columns: [product_id, product_name, aisle_id, department_id]\n",
       "Index: []"
      ]
     },
     "execution_count": 31,
     "metadata": {},
     "output_type": "execute_result"
    }
   ],
   "source": [
    "# Are all of the missing product names associated with department ID 21?\n",
    "products[(products['product_name'].isna()) & (['department_id'] != 21)]"
   ]
  },
  {
   "cell_type": "code",
   "execution_count": 32,
   "id": "325c3464",
   "metadata": {},
   "outputs": [
    {
     "data": {
      "text/html": [
       "<div>\n",
       "<style scoped>\n",
       "    .dataframe tbody tr th:only-of-type {\n",
       "        vertical-align: middle;\n",
       "    }\n",
       "\n",
       "    .dataframe tbody tr th {\n",
       "        vertical-align: top;\n",
       "    }\n",
       "\n",
       "    .dataframe thead th {\n",
       "        text-align: right;\n",
       "    }\n",
       "</style>\n",
       "<table border=\"1\" class=\"dataframe\">\n",
       "  <thead>\n",
       "    <tr style=\"text-align: right;\">\n",
       "      <th></th>\n",
       "      <th>product_id</th>\n",
       "      <th>product_name</th>\n",
       "      <th>aisle_id</th>\n",
       "      <th>department_id</th>\n",
       "    </tr>\n",
       "  </thead>\n",
       "  <tbody>\n",
       "    <tr>\n",
       "      <th>37</th>\n",
       "      <td>38</td>\n",
       "      <td>Ultra Antibacterial Dish Liquid</td>\n",
       "      <td>100</td>\n",
       "      <td>21</td>\n",
       "    </tr>\n",
       "    <tr>\n",
       "      <th>71</th>\n",
       "      <td>72</td>\n",
       "      <td>Organic Honeycrisp Apples</td>\n",
       "      <td>100</td>\n",
       "      <td>21</td>\n",
       "    </tr>\n",
       "    <tr>\n",
       "      <th>109</th>\n",
       "      <td>110</td>\n",
       "      <td>Uncured Turkey Bologna</td>\n",
       "      <td>100</td>\n",
       "      <td>21</td>\n",
       "    </tr>\n",
       "    <tr>\n",
       "      <th>296</th>\n",
       "      <td>297</td>\n",
       "      <td>Write Bros Ball Point Pens, Cap-Pen, Medium (1...</td>\n",
       "      <td>100</td>\n",
       "      <td>21</td>\n",
       "    </tr>\n",
       "    <tr>\n",
       "      <th>416</th>\n",
       "      <td>417</td>\n",
       "      <td>Classics Baby Binks Easter Chocolate Bunny</td>\n",
       "      <td>100</td>\n",
       "      <td>21</td>\n",
       "    </tr>\n",
       "    <tr>\n",
       "      <th>...</th>\n",
       "      <td>...</td>\n",
       "      <td>...</td>\n",
       "      <td>...</td>\n",
       "      <td>...</td>\n",
       "    </tr>\n",
       "    <tr>\n",
       "      <th>49552</th>\n",
       "      <td>49553</td>\n",
       "      <td>Organic Plain Skyr</td>\n",
       "      <td>100</td>\n",
       "      <td>21</td>\n",
       "    </tr>\n",
       "    <tr>\n",
       "      <th>49574</th>\n",
       "      <td>49575</td>\n",
       "      <td>Chocolate Vanilla Malt Custard</td>\n",
       "      <td>100</td>\n",
       "      <td>21</td>\n",
       "    </tr>\n",
       "    <tr>\n",
       "      <th>49640</th>\n",
       "      <td>49641</td>\n",
       "      <td>8\\\" Pecan Pie</td>\n",
       "      <td>100</td>\n",
       "      <td>21</td>\n",
       "    </tr>\n",
       "    <tr>\n",
       "      <th>49663</th>\n",
       "      <td>49664</td>\n",
       "      <td>Lemon Cayenne Drinking Vinegar</td>\n",
       "      <td>100</td>\n",
       "      <td>21</td>\n",
       "    </tr>\n",
       "    <tr>\n",
       "      <th>49668</th>\n",
       "      <td>49669</td>\n",
       "      <td>K Cup Dark Blend</td>\n",
       "      <td>100</td>\n",
       "      <td>21</td>\n",
       "    </tr>\n",
       "  </tbody>\n",
       "</table>\n",
       "<p>1258 rows × 4 columns</p>\n",
       "</div>"
      ],
      "text/plain": [
       "       product_id                                       product_name  \\\n",
       "37             38                    Ultra Antibacterial Dish Liquid   \n",
       "71             72                          Organic Honeycrisp Apples   \n",
       "109           110                             Uncured Turkey Bologna   \n",
       "296           297  Write Bros Ball Point Pens, Cap-Pen, Medium (1...   \n",
       "416           417         Classics Baby Binks Easter Chocolate Bunny   \n",
       "...           ...                                                ...   \n",
       "49552       49553                                 Organic Plain Skyr   \n",
       "49574       49575                     Chocolate Vanilla Malt Custard   \n",
       "49640       49641                                      8\\\" Pecan Pie   \n",
       "49663       49664                     Lemon Cayenne Drinking Vinegar   \n",
       "49668       49669                                   K Cup Dark Blend   \n",
       "\n",
       "       aisle_id  department_id  \n",
       "37          100             21  \n",
       "71          100             21  \n",
       "109         100             21  \n",
       "296         100             21  \n",
       "416         100             21  \n",
       "...         ...            ...  \n",
       "49552       100             21  \n",
       "49574       100             21  \n",
       "49640       100             21  \n",
       "49663       100             21  \n",
       "49668       100             21  \n",
       "\n",
       "[1258 rows x 4 columns]"
      ]
     },
     "execution_count": 32,
     "metadata": {},
     "output_type": "execute_result"
    }
   ],
   "source": [
    "# What is this aisle and department?\n",
    "products[products['department_id'] == 21]\n",
    "\n",
    "products[products['aisle_id'] == 100]"
   ]
  },
  {
   "cell_type": "code",
   "execution_count": 33,
   "id": "6b295120",
   "metadata": {},
   "outputs": [],
   "source": [
    "# Fill missing product names with 'Unknown', I already filled the product names in up top. \n"
   ]
  },
  {
   "cell_type": "markdown",
   "id": "7eb45c86",
   "metadata": {},
   "source": [
    "### `orders` data frame"
   ]
  },
  {
   "cell_type": "code",
   "execution_count": 34,
   "id": "166e5a86",
   "metadata": {},
   "outputs": [
    {
     "data": {
      "text/html": [
       "<div>\n",
       "<style scoped>\n",
       "    .dataframe tbody tr th:only-of-type {\n",
       "        vertical-align: middle;\n",
       "    }\n",
       "\n",
       "    .dataframe tbody tr th {\n",
       "        vertical-align: top;\n",
       "    }\n",
       "\n",
       "    .dataframe thead th {\n",
       "        text-align: right;\n",
       "    }\n",
       "</style>\n",
       "<table border=\"1\" class=\"dataframe\">\n",
       "  <thead>\n",
       "    <tr style=\"text-align: right;\">\n",
       "      <th></th>\n",
       "      <th>order_id</th>\n",
       "      <th>user_id</th>\n",
       "      <th>order_number</th>\n",
       "      <th>order_dow</th>\n",
       "      <th>order_hour_of_day</th>\n",
       "      <th>days_since_prior_order</th>\n",
       "    </tr>\n",
       "  </thead>\n",
       "  <tbody>\n",
       "  </tbody>\n",
       "</table>\n",
       "</div>"
      ],
      "text/plain": [
       "Empty DataFrame\n",
       "Columns: [order_id, user_id, order_number, order_dow, order_hour_of_day, days_since_prior_order]\n",
       "Index: []"
      ]
     },
     "execution_count": 34,
     "metadata": {},
     "output_type": "execute_result"
    }
   ],
   "source": [
    "# Are there any missing values where it's not a customer's first order? No because I took out the missing values up top.\n",
    "orders[(orders['days_since_prior_order'].isna()) & (orders['order_number']!= 1)]"
   ]
  },
  {
   "cell_type": "markdown",
   "id": "4e23d089",
   "metadata": {},
   "source": []
  },
  {
   "cell_type": "markdown",
   "id": "69dc9ca4",
   "metadata": {},
   "source": [
    "### `order_products` data frame"
   ]
  },
  {
   "cell_type": "code",
   "execution_count": 35,
   "id": "b8240253",
   "metadata": {},
   "outputs": [
    {
     "name": "stdout",
     "output_type": "stream",
     "text": [
      "<class 'pandas.core.frame.DataFrame'>\n",
      "RangeIndex: 4545007 entries, 0 to 4545006\n",
      "Data columns (total 4 columns):\n",
      " #   Column             Dtype  \n",
      "---  ------             -----  \n",
      " 0   order_id           int64  \n",
      " 1   product_id         int64  \n",
      " 2   add_to_cart_order  float64\n",
      " 3   reordered          int64  \n",
      "dtypes: float64(1), int64(3)\n",
      "memory usage: 138.7 MB\n"
     ]
    },
    {
     "data": {
      "text/plain": [
       "0          17.0\n",
       "1           1.0\n",
       "2           1.0\n",
       "3          35.0\n",
       "4           5.0\n",
       "           ... \n",
       "4545002    12.0\n",
       "4545003     9.0\n",
       "4545004     4.0\n",
       "4545005     8.0\n",
       "4545006     9.0\n",
       "Name: add_to_cart_order, Length: 4545007, dtype: float64"
      ]
     },
     "execution_count": 35,
     "metadata": {},
     "output_type": "execute_result"
    }
   ],
   "source": [
    "order_products.info()\n",
    "order_products['add_to_cart_order']"
   ]
  },
  {
   "cell_type": "code",
   "execution_count": 36,
   "id": "9a78e5ee",
   "metadata": {},
   "outputs": [
    {
     "name": "stdout",
     "output_type": "stream",
     "text": [
      "The minimum add to cart order is 1.0 and the max is 999.0.\n"
     ]
    }
   ],
   "source": [
    "# What are the min and max values in this column?\n",
    "max_order_to_cart = order_products['add_to_cart_order'].max()\n",
    "min_order_to_cart = order_products['add_to_cart_order'].min()\n",
    "print(f\"The minimum add to cart order is {min_order_to_cart} and the max is {max_order_to_cart}.\")"
   ]
  },
  {
   "cell_type": "code",
   "execution_count": 37,
   "id": "ab9d0c2b",
   "metadata": {},
   "outputs": [
    {
     "data": {
      "text/plain": [
       "0          False\n",
       "1          False\n",
       "2          False\n",
       "3          False\n",
       "4          False\n",
       "           ...  \n",
       "4545002    False\n",
       "4545003    False\n",
       "4545004    False\n",
       "4545005    False\n",
       "4545006    False\n",
       "Name: order_id, Length: 4545007, dtype: bool"
      ]
     },
     "execution_count": 37,
     "metadata": {},
     "output_type": "execute_result"
    }
   ],
   "source": [
    "# Save all order IDs with at least one missing value in 'add_to_cart_order'\n",
    "order_products['order_id'].isna()"
   ]
  },
  {
   "cell_type": "code",
   "execution_count": 38,
   "id": "54c31695",
   "metadata": {},
   "outputs": [],
   "source": [
    "# Do all orders with missing values have more than 64 products?\n"
   ]
  },
  {
   "cell_type": "code",
   "execution_count": 39,
   "id": "7a987d08",
   "metadata": {},
   "outputs": [
    {
     "name": "stdout",
     "output_type": "stream",
     "text": [
      "<class 'pandas.core.series.Series'>\n",
      "<class 'pandas.core.frame.DataFrame'>\n",
      "RangeIndex: 4545007 entries, 0 to 4545006\n",
      "Data columns (total 4 columns):\n",
      " #   Column             Dtype  \n",
      "---  ------             -----  \n",
      " 0   order_id           int64  \n",
      " 1   product_id         int64  \n",
      " 2   add_to_cart_order  float64\n",
      " 3   reordered          int64  \n",
      "dtypes: float64(1), int64(3)\n",
      "memory usage: 138.7 MB\n",
      "None\n",
      "<class 'pandas.core.frame.DataFrame'>\n",
      "RangeIndex: 4545007 entries, 0 to 4545006\n",
      "Data columns (total 4 columns):\n",
      " #   Column             Dtype\n",
      "---  ------             -----\n",
      " 0   order_id           int64\n",
      " 1   product_id         int64\n",
      " 2   add_to_cart_order  int64\n",
      " 3   reordered          int64\n",
      "dtypes: int64(4)\n",
      "memory usage: 138.7 MB\n",
      "None\n"
     ]
    }
   ],
   "source": [
    "# Replace missing values with 999 and convert column to integer type\n",
    "print(type(order_products['add_to_cart_order']))\n",
    "print(order_products.info())\n",
    "order_products.add_to_cart_order = order_products.add_to_cart_order.astype('int64')\n",
    "print(order_products.info())"
   ]
  },
  {
   "cell_type": "markdown",
   "id": "b5d10444",
   "metadata": {},
   "source": [
    "#### All of the datasets are clear of duplicates and missing values are filled in. We have multiple dataframes to work with inside of the Instacart to answer the following questions. "
   ]
  },
  {
   "cell_type": "markdown",
   "id": "turkish-kidney",
   "metadata": {},
   "source": [
    "# [A] Easy (must complete all to pass)"
   ]
  },
  {
   "cell_type": "markdown",
   "id": "short-capability",
   "metadata": {},
   "source": [
    "### [A1] Verify that the `'order_hour_of_day'` and `'order_dow'` values in the `orders` tables are sensible (i.e. `'order_hour_of_day'` ranges from 0 to 23 and `'order_dow'` ranges from 0 to 6)"
   ]
  },
  {
   "cell_type": "code",
   "execution_count": 40,
   "id": "growing-fruit",
   "metadata": {},
   "outputs": [
    {
     "name": "stdout",
     "output_type": "stream",
     "text": [
      "<class 'pandas.core.frame.DataFrame'>\n",
      "RangeIndex: 684217 entries, 0 to 684216\n",
      "Data columns (total 6 columns):\n",
      " #   Column                  Non-Null Count   Dtype  \n",
      "---  ------                  --------------   -----  \n",
      " 0   order_id                684217 non-null  int64  \n",
      " 1   user_id                 684217 non-null  int64  \n",
      " 2   order_number            684217 non-null  int64  \n",
      " 3   order_dow               684217 non-null  int64  \n",
      " 4   order_hour_of_day       684217 non-null  int64  \n",
      " 5   days_since_prior_order  642800 non-null  float64\n",
      "dtypes: float64(1), int64(5)\n",
      "memory usage: 31.3 MB\n",
      "[0, 1, 2, 3, 4, 5, 6, 7, 8, 9, 10, 11, 12, 13, 14, 15, 16, 17, 18, 19, 20, 21, 22, 23]\n"
     ]
    }
   ],
   "source": [
    "orders.info()\n",
    "order_hour_of_day_range = orders['order_hour_of_day'].unique()\n",
    "print(sorted(order_hour_of_day_range))"
   ]
  },
  {
   "cell_type": "code",
   "execution_count": 41,
   "id": "accessory-malaysia",
   "metadata": {},
   "outputs": [
    {
     "name": "stdout",
     "output_type": "stream",
     "text": [
      "[0, 1, 2, 3, 4, 5, 6]\n"
     ]
    }
   ],
   "source": [
    "order_dow_range = orders['order_dow'].unique()\n",
    "print(sorted(order_dow_range))"
   ]
  },
  {
   "cell_type": "markdown",
   "id": "566f0af0",
   "metadata": {},
   "source": [
    "### [A2] What time of day do people shop for groceries?"
   ]
  },
  {
   "cell_type": "code",
   "execution_count": 42,
   "id": "a36cca27",
   "metadata": {
    "scrolled": true
   },
   "outputs": [
    {
     "data": {
      "image/png": "[encoded data removed]",
      "text/plain": [
       "<Figure size 720x504 with 1 Axes>"
      ]
     },
     "metadata": {
      "needs_background": "light"
     },
     "output_type": "display_data"
    }
   ],
   "source": [
    "hour_of_day = orders['order_hour_of_day'].value_counts().sort_index()\n",
    "#print(hour_of_day)\n",
    "hour_of_day.plot.bar(figsize=[10,7], title='Time of Day People Shop for Groceries', xlabel='Time of Day', ylabel='Frequency', rot=45)\n",
    "plt.show()"
   ]
  },
  {
   "cell_type": "markdown",
   "id": "40588d02",
   "metadata": {},
   "source": [
    "#### Based on our graph 10-11 a.m. is the most popular time to shop for groceries with most people shopping between 9 a.m. and 4 p.m."
   ]
  },
  {
   "cell_type": "markdown",
   "id": "documented-command",
   "metadata": {},
   "source": [
    "### [A3] What day of the week do people shop for groceries?"
   ]
  },
  {
   "cell_type": "code",
   "execution_count": 43,
   "id": "chief-digit",
   "metadata": {},
   "outputs": [
    {
     "name": "stdout",
     "output_type": "stream",
     "text": [
      "0    120219\n",
      "1    117778\n",
      "2     93424\n",
      "3     87319\n",
      "4     85303\n",
      "5     90472\n",
      "6     89702\n",
      "Name: order_dow, dtype: int64\n"
     ]
    },
    {
     "data": {
      "image/png": "[encoded data removed]",
      "text/plain": [
       "<Figure size 720x504 with 1 Axes>"
      ]
     },
     "metadata": {
      "needs_background": "light"
     },
     "output_type": "display_data"
    }
   ],
   "source": [
    "dow_groceries = orders['order_dow'].value_counts().sort_index()\n",
    "print(dow_groceries)\n",
    "dow_groceries.plot.bar(figsize=[10,7], title='Most Popular Shopping Day', xlabel='Day of the Week', ylabel='Frequency', color = 'goldenrod', rot=0)\n",
    "plt.show()"
   ]
  },
  {
   "cell_type": "markdown",
   "id": "00f25851",
   "metadata": {},
   "source": [
    "#### Based on our graph, Monday and Tuesday are the most popular days to shop for groceries."
   ]
  },
  {
   "cell_type": "markdown",
   "id": "cutting-concert",
   "metadata": {},
   "source": [
    "### [A4] How long do people wait until placing another order?"
   ]
  },
  {
   "cell_type": "code",
   "execution_count": 44,
   "id": "c231f523",
   "metadata": {
    "scrolled": true
   },
   "outputs": [
    {
     "data": {
      "image/png": "[encoded data removed]",
      "text/plain": [
       "<Figure size 432x288 with 1 Axes>"
      ]
     },
     "metadata": {
      "needs_background": "light"
     },
     "output_type": "display_data"
    }
   ],
   "source": [
    "dspo_groceries = orders['days_since_prior_order'].mean()\n",
    "orders['days_since_prior_order'].plot(kind='hist', bins = 15,color = 'forestgreen', title = 'Days Before Ordering Another Product')\n",
    "                                                                                    \n",
    "plt.show()"
   ]
  },
  {
   "cell_type": "code",
   "execution_count": 45,
   "id": "6c0ab808",
   "metadata": {},
   "outputs": [
    {
     "data": {
      "image/png": "[encoded data removed]",
      "text/plain": [
       "<Figure size 720x504 with 1 Axes>"
      ]
     },
     "metadata": {
      "needs_background": "light"
     },
     "output_type": "display_data"
    }
   ],
   "source": [
    "fig = plt.figure(figsize=(10,7))\n",
    "#plt.boxplot(orders['days_since_prior_order']) #Didn't show anything.\n",
    "orders.boxplot(column = \"days_since_prior_order\")\n",
    "plt.show()"
   ]
  },
  {
   "cell_type": "markdown",
   "id": "423fdf82",
   "metadata": {},
   "source": [
    "#### People wait around 2 - 7 days to place another order  with the 7th day being the average day of placing another order. The 7th day is also the highest frequency of re-orders. The re-orders generally spike around the 30th day as well. "
   ]
  },
  {
   "cell_type": "markdown",
   "id": "tight-staff",
   "metadata": {},
   "source": [
    "# [B] Medium (must complete all to pass)"
   ]
  },
  {
   "cell_type": "markdown",
   "id": "packed-classic",
   "metadata": {},
   "source": [
    "### [B1] Is there a difference in `'order_hour_of_day'` distributions on Wednesdays and Saturdays? Plot the histograms for both days and describe the differences that you see."
   ]
  },
  {
   "cell_type": "code",
   "execution_count": 46,
   "id": "d89b8403",
   "metadata": {},
   "outputs": [
    {
     "data": {
      "text/html": [
       "<div>\n",
       "<style scoped>\n",
       "    .dataframe tbody tr th:only-of-type {\n",
       "        vertical-align: middle;\n",
       "    }\n",
       "\n",
       "    .dataframe tbody tr th {\n",
       "        vertical-align: top;\n",
       "    }\n",
       "\n",
       "    .dataframe thead th {\n",
       "        text-align: right;\n",
       "    }\n",
       "</style>\n",
       "<table border=\"1\" class=\"dataframe\">\n",
       "  <thead>\n",
       "    <tr style=\"text-align: right;\">\n",
       "      <th></th>\n",
       "      <th>order_id</th>\n",
       "      <th>user_id</th>\n",
       "      <th>order_number</th>\n",
       "      <th>order_dow</th>\n",
       "      <th>order_hour_of_day</th>\n",
       "      <th>days_since_prior_order</th>\n",
       "    </tr>\n",
       "  </thead>\n",
       "  <tbody>\n",
       "    <tr>\n",
       "      <th>5</th>\n",
       "      <td>2070296</td>\n",
       "      <td>51891</td>\n",
       "      <td>5</td>\n",
       "      <td>3</td>\n",
       "      <td>16</td>\n",
       "      <td>29.0</td>\n",
       "    </tr>\n",
       "    <tr>\n",
       "      <th>18</th>\n",
       "      <td>1065683</td>\n",
       "      <td>101171</td>\n",
       "      <td>3</td>\n",
       "      <td>3</td>\n",
       "      <td>15</td>\n",
       "      <td>13.0</td>\n",
       "    </tr>\n",
       "    <tr>\n",
       "      <th>19</th>\n",
       "      <td>2556377</td>\n",
       "      <td>176611</td>\n",
       "      <td>11</td>\n",
       "      <td>3</td>\n",
       "      <td>17</td>\n",
       "      <td>7.0</td>\n",
       "    </tr>\n",
       "    <tr>\n",
       "      <th>20</th>\n",
       "      <td>3287220</td>\n",
       "      <td>127451</td>\n",
       "      <td>15</td>\n",
       "      <td>3</td>\n",
       "      <td>15</td>\n",
       "      <td>28.0</td>\n",
       "    </tr>\n",
       "    <tr>\n",
       "      <th>28</th>\n",
       "      <td>2428778</td>\n",
       "      <td>162721</td>\n",
       "      <td>4</td>\n",
       "      <td>3</td>\n",
       "      <td>19</td>\n",
       "      <td>30.0</td>\n",
       "    </tr>\n",
       "    <tr>\n",
       "      <th>...</th>\n",
       "      <td>...</td>\n",
       "      <td>...</td>\n",
       "      <td>...</td>\n",
       "      <td>...</td>\n",
       "      <td>...</td>\n",
       "      <td>...</td>\n",
       "    </tr>\n",
       "    <tr>\n",
       "      <th>684170</th>\n",
       "      <td>2231079</td>\n",
       "      <td>21662</td>\n",
       "      <td>24</td>\n",
       "      <td>3</td>\n",
       "      <td>19</td>\n",
       "      <td>2.0</td>\n",
       "    </tr>\n",
       "    <tr>\n",
       "      <th>684172</th>\n",
       "      <td>1699694</td>\n",
       "      <td>149863</td>\n",
       "      <td>34</td>\n",
       "      <td>3</td>\n",
       "      <td>10</td>\n",
       "      <td>8.0</td>\n",
       "    </tr>\n",
       "    <tr>\n",
       "      <th>684180</th>\n",
       "      <td>1348728</td>\n",
       "      <td>85544</td>\n",
       "      <td>25</td>\n",
       "      <td>3</td>\n",
       "      <td>11</td>\n",
       "      <td>30.0</td>\n",
       "    </tr>\n",
       "    <tr>\n",
       "      <th>684181</th>\n",
       "      <td>1563911</td>\n",
       "      <td>20331</td>\n",
       "      <td>3</td>\n",
       "      <td>3</td>\n",
       "      <td>12</td>\n",
       "      <td>30.0</td>\n",
       "    </tr>\n",
       "    <tr>\n",
       "      <th>684194</th>\n",
       "      <td>1474548</td>\n",
       "      <td>110860</td>\n",
       "      <td>7</td>\n",
       "      <td>3</td>\n",
       "      <td>8</td>\n",
       "      <td>8.0</td>\n",
       "    </tr>\n",
       "  </tbody>\n",
       "</table>\n",
       "<p>87319 rows × 6 columns</p>\n",
       "</div>"
      ],
      "text/plain": [
       "        order_id  user_id  order_number  order_dow  order_hour_of_day  \\\n",
       "5        2070296    51891             5          3                 16   \n",
       "18       1065683   101171             3          3                 15   \n",
       "19       2556377   176611            11          3                 17   \n",
       "20       3287220   127451            15          3                 15   \n",
       "28       2428778   162721             4          3                 19   \n",
       "...          ...      ...           ...        ...                ...   \n",
       "684170   2231079    21662            24          3                 19   \n",
       "684172   1699694   149863            34          3                 10   \n",
       "684180   1348728    85544            25          3                 11   \n",
       "684181   1563911    20331             3          3                 12   \n",
       "684194   1474548   110860             7          3                  8   \n",
       "\n",
       "        days_since_prior_order  \n",
       "5                         29.0  \n",
       "18                        13.0  \n",
       "19                         7.0  \n",
       "20                        28.0  \n",
       "28                        30.0  \n",
       "...                        ...  \n",
       "684170                     2.0  \n",
       "684172                     8.0  \n",
       "684180                    30.0  \n",
       "684181                    30.0  \n",
       "684194                     8.0  \n",
       "\n",
       "[87319 rows x 6 columns]"
      ]
     },
     "execution_count": 46,
     "metadata": {},
     "output_type": "execute_result"
    }
   ],
   "source": [
    "wednesdays = orders[orders['order_dow'] == 3]\n",
    "wednesdays"
   ]
  },
  {
   "cell_type": "code",
   "execution_count": 47,
   "id": "94e54e8a",
   "metadata": {},
   "outputs": [
    {
     "data": {
      "image/png": "[encoded data removed]",
      "text/plain": [
       "<Figure size 720x504 with 1 Axes>"
      ]
     },
     "metadata": {
      "needs_background": "light"
     },
     "output_type": "display_data"
    }
   ],
   "source": [
    "wednesday_hour_of_day = wednesdays['order_hour_of_day'].value_counts().sort_index()\n",
    "#print(wednesday_hour_of_day)\n",
    "wednesday_hour_of_day.plot.bar(figsize = [10,7], title = 'Wednesday Order Distributions', xlabel = 'Hour of Day', ylabel = 'Amount of Orders', rot = 45)\n",
    "plt.show()"
   ]
  },
  {
   "cell_type": "code",
   "execution_count": 48,
   "id": "797c90a8",
   "metadata": {},
   "outputs": [
    {
     "data": {
      "text/html": [
       "<div>\n",
       "<style scoped>\n",
       "    .dataframe tbody tr th:only-of-type {\n",
       "        vertical-align: middle;\n",
       "    }\n",
       "\n",
       "    .dataframe tbody tr th {\n",
       "        vertical-align: top;\n",
       "    }\n",
       "\n",
       "    .dataframe thead th {\n",
       "        text-align: right;\n",
       "    }\n",
       "</style>\n",
       "<table border=\"1\" class=\"dataframe\">\n",
       "  <thead>\n",
       "    <tr style=\"text-align: right;\">\n",
       "      <th></th>\n",
       "      <th>order_id</th>\n",
       "      <th>user_id</th>\n",
       "      <th>order_number</th>\n",
       "      <th>order_dow</th>\n",
       "      <th>order_hour_of_day</th>\n",
       "      <th>days_since_prior_order</th>\n",
       "    </tr>\n",
       "  </thead>\n",
       "  <tbody>\n",
       "    <tr>\n",
       "      <th>8</th>\n",
       "      <td>144611</td>\n",
       "      <td>39682</td>\n",
       "      <td>12</td>\n",
       "      <td>6</td>\n",
       "      <td>16</td>\n",
       "      <td>9.0</td>\n",
       "    </tr>\n",
       "    <tr>\n",
       "      <th>21</th>\n",
       "      <td>2638219</td>\n",
       "      <td>39460</td>\n",
       "      <td>44</td>\n",
       "      <td>6</td>\n",
       "      <td>15</td>\n",
       "      <td>6.0</td>\n",
       "    </tr>\n",
       "    <tr>\n",
       "      <th>25</th>\n",
       "      <td>3143027</td>\n",
       "      <td>74962</td>\n",
       "      <td>76</td>\n",
       "      <td>6</td>\n",
       "      <td>21</td>\n",
       "      <td>10.0</td>\n",
       "    </tr>\n",
       "    <tr>\n",
       "      <th>26</th>\n",
       "      <td>2488393</td>\n",
       "      <td>52904</td>\n",
       "      <td>16</td>\n",
       "      <td>6</td>\n",
       "      <td>17</td>\n",
       "      <td>2.0</td>\n",
       "    </tr>\n",
       "    <tr>\n",
       "      <th>35</th>\n",
       "      <td>982286</td>\n",
       "      <td>28847</td>\n",
       "      <td>34</td>\n",
       "      <td>6</td>\n",
       "      <td>16</td>\n",
       "      <td>7.0</td>\n",
       "    </tr>\n",
       "    <tr>\n",
       "      <th>...</th>\n",
       "      <td>...</td>\n",
       "      <td>...</td>\n",
       "      <td>...</td>\n",
       "      <td>...</td>\n",
       "      <td>...</td>\n",
       "      <td>...</td>\n",
       "    </tr>\n",
       "    <tr>\n",
       "      <th>684196</th>\n",
       "      <td>886855</td>\n",
       "      <td>348</td>\n",
       "      <td>13</td>\n",
       "      <td>6</td>\n",
       "      <td>10</td>\n",
       "      <td>16.0</td>\n",
       "    </tr>\n",
       "    <tr>\n",
       "      <th>684200</th>\n",
       "      <td>3246745</td>\n",
       "      <td>137875</td>\n",
       "      <td>11</td>\n",
       "      <td>6</td>\n",
       "      <td>14</td>\n",
       "      <td>24.0</td>\n",
       "    </tr>\n",
       "    <tr>\n",
       "      <th>684207</th>\n",
       "      <td>419852</td>\n",
       "      <td>186584</td>\n",
       "      <td>6</td>\n",
       "      <td>6</td>\n",
       "      <td>9</td>\n",
       "      <td>7.0</td>\n",
       "    </tr>\n",
       "    <tr>\n",
       "      <th>684215</th>\n",
       "      <td>3064014</td>\n",
       "      <td>60807</td>\n",
       "      <td>30</td>\n",
       "      <td>6</td>\n",
       "      <td>17</td>\n",
       "      <td>2.0</td>\n",
       "    </tr>\n",
       "    <tr>\n",
       "      <th>684216</th>\n",
       "      <td>3084798</td>\n",
       "      <td>31163</td>\n",
       "      <td>2</td>\n",
       "      <td>6</td>\n",
       "      <td>15</td>\n",
       "      <td>30.0</td>\n",
       "    </tr>\n",
       "  </tbody>\n",
       "</table>\n",
       "<p>89702 rows × 6 columns</p>\n",
       "</div>"
      ],
      "text/plain": [
       "        order_id  user_id  order_number  order_dow  order_hour_of_day  \\\n",
       "8         144611    39682            12          6                 16   \n",
       "21       2638219    39460            44          6                 15   \n",
       "25       3143027    74962            76          6                 21   \n",
       "26       2488393    52904            16          6                 17   \n",
       "35        982286    28847            34          6                 16   \n",
       "...          ...      ...           ...        ...                ...   \n",
       "684196    886855      348            13          6                 10   \n",
       "684200   3246745   137875            11          6                 14   \n",
       "684207    419852   186584             6          6                  9   \n",
       "684215   3064014    60807            30          6                 17   \n",
       "684216   3084798    31163             2          6                 15   \n",
       "\n",
       "        days_since_prior_order  \n",
       "8                          9.0  \n",
       "21                         6.0  \n",
       "25                        10.0  \n",
       "26                         2.0  \n",
       "35                         7.0  \n",
       "...                        ...  \n",
       "684196                    16.0  \n",
       "684200                    24.0  \n",
       "684207                     7.0  \n",
       "684215                     2.0  \n",
       "684216                    30.0  \n",
       "\n",
       "[89702 rows x 6 columns]"
      ]
     },
     "execution_count": 48,
     "metadata": {},
     "output_type": "execute_result"
    }
   ],
   "source": [
    "saturdays = orders[orders['order_dow'] == 6]\n",
    "saturdays"
   ]
  },
  {
   "cell_type": "code",
   "execution_count": 49,
   "id": "35bcea30",
   "metadata": {},
   "outputs": [
    {
     "data": {
      "image/png": "[encoded data removed]",
      "text/plain": [
       "<Figure size 720x504 with 1 Axes>"
      ]
     },
     "metadata": {
      "needs_background": "light"
     },
     "output_type": "display_data"
    }
   ],
   "source": [
    "saturday_hour_of_day = saturdays['order_hour_of_day'].value_counts().sort_index()\n",
    "saturday_hour_of_day\n",
    "saturday_hour_of_day.plot.bar(figsize = [10,7], title = 'Saturday Order Distributions', xlabel = 'Hour of Day', ylabel = 'Amount of Orders', rot = 45)\n",
    "plt.show()"
   ]
  },
  {
   "cell_type": "code",
   "execution_count": 50,
   "id": "07f86ab6",
   "metadata": {},
   "outputs": [
    {
     "data": {
      "image/png": "[encoded data removed]",
      "text/plain": [
       "<Figure size 432x288 with 1 Axes>"
      ]
     },
     "metadata": {
      "needs_background": "light"
     },
     "output_type": "display_data"
    }
   ],
   "source": [
    "\n",
    "plt.bar(range(0,24), wednesday_hour_of_day)\n",
    "plt.bar(range(0,24), saturday_hour_of_day)\n",
    "plt.legend(['Wednesday', 'Saturday'])\n",
    "\n",
    "\n",
    "plt.show()"
   ]
  },
  {
   "cell_type": "markdown",
   "id": "ed219ab0",
   "metadata": {},
   "source": [
    "#### The difference in the 'order_hour_of_day' distributions on Wednesdays and Saturdays are subtle but on Wednesdays from 12 pm to 2 pm the orders take a slight dip to around 4500, whereas on Saturdays the orders increase from 12 pm to 2 pm to just over 5000. "
   ]
  },
  {
   "cell_type": "markdown",
   "id": "e3891143",
   "metadata": {},
   "source": [
    "### [B2] What's the distribution for the number of orders per customer?"
   ]
  },
  {
   "cell_type": "code",
   "execution_count": 51,
   "id": "d8c26c23",
   "metadata": {},
   "outputs": [],
   "source": [
    "#orders.info()\n",
    "order_distribution = orders.groupby('user_id')['order_number'].count().sort_values()"
   ]
  },
  {
   "cell_type": "code",
   "execution_count": 52,
   "id": "00e69a66",
   "metadata": {},
   "outputs": [
    {
     "data": {
      "image/png": "[encoded data removed]",
      "text/plain": [
       "<Figure size 432x288 with 1 Axes>"
      ]
     },
     "metadata": {
      "needs_background": "light"
     },
     "output_type": "display_data"
    }
   ],
   "source": [
    "order_distribution.plot(kind='hist', bins = 25)\n",
    "plt.show()"
   ]
  },
  {
   "cell_type": "markdown",
   "id": "3b59d025",
   "metadata": {},
   "source": [
    "#### The frequency of the number of orders ordered per customer is between 1 and 15 orders with the number quickly declining from 1 order. "
   ]
  },
  {
   "cell_type": "markdown",
   "id": "54a0319c",
   "metadata": {},
   "source": [
    "### [B3] What are the top 20 popular products (display their id and name)?"
   ]
  },
  {
   "cell_type": "code",
   "execution_count": 53,
   "id": "exterior-arizona",
   "metadata": {
    "scrolled": true
   },
   "outputs": [
    {
     "data": {
      "text/html": [
       "<div>\n",
       "<style scoped>\n",
       "    .dataframe tbody tr th:only-of-type {\n",
       "        vertical-align: middle;\n",
       "    }\n",
       "\n",
       "    .dataframe tbody tr th {\n",
       "        vertical-align: top;\n",
       "    }\n",
       "\n",
       "    .dataframe thead th {\n",
       "        text-align: right;\n",
       "    }\n",
       "</style>\n",
       "<table border=\"1\" class=\"dataframe\">\n",
       "  <thead>\n",
       "    <tr style=\"text-align: right;\">\n",
       "      <th></th>\n",
       "      <th>order_id</th>\n",
       "      <th>product_id</th>\n",
       "      <th>add_to_cart_order</th>\n",
       "      <th>reordered</th>\n",
       "      <th>product_name</th>\n",
       "      <th>aisle_id</th>\n",
       "      <th>department_id</th>\n",
       "    </tr>\n",
       "  </thead>\n",
       "  <tbody>\n",
       "    <tr>\n",
       "      <th>0</th>\n",
       "      <td>2141543</td>\n",
       "      <td>11440</td>\n",
       "      <td>17</td>\n",
       "      <td>0</td>\n",
       "      <td>Chicken Breast Tenders Breaded</td>\n",
       "      <td>129</td>\n",
       "      <td>1</td>\n",
       "    </tr>\n",
       "    <tr>\n",
       "      <th>1</th>\n",
       "      <td>147172</td>\n",
       "      <td>11440</td>\n",
       "      <td>7</td>\n",
       "      <td>1</td>\n",
       "      <td>Chicken Breast Tenders Breaded</td>\n",
       "      <td>129</td>\n",
       "      <td>1</td>\n",
       "    </tr>\n",
       "    <tr>\n",
       "      <th>2</th>\n",
       "      <td>3341719</td>\n",
       "      <td>11440</td>\n",
       "      <td>4</td>\n",
       "      <td>1</td>\n",
       "      <td>Chicken Breast Tenders Breaded</td>\n",
       "      <td>129</td>\n",
       "      <td>1</td>\n",
       "    </tr>\n",
       "    <tr>\n",
       "      <th>3</th>\n",
       "      <td>1938779</td>\n",
       "      <td>11440</td>\n",
       "      <td>8</td>\n",
       "      <td>1</td>\n",
       "      <td>Chicken Breast Tenders Breaded</td>\n",
       "      <td>129</td>\n",
       "      <td>1</td>\n",
       "    </tr>\n",
       "    <tr>\n",
       "      <th>4</th>\n",
       "      <td>1728338</td>\n",
       "      <td>11440</td>\n",
       "      <td>23</td>\n",
       "      <td>0</td>\n",
       "      <td>Chicken Breast Tenders Breaded</td>\n",
       "      <td>129</td>\n",
       "      <td>1</td>\n",
       "    </tr>\n",
       "    <tr>\n",
       "      <th>5</th>\n",
       "      <td>847715</td>\n",
       "      <td>11440</td>\n",
       "      <td>13</td>\n",
       "      <td>0</td>\n",
       "      <td>Chicken Breast Tenders Breaded</td>\n",
       "      <td>129</td>\n",
       "      <td>1</td>\n",
       "    </tr>\n",
       "    <tr>\n",
       "      <th>6</th>\n",
       "      <td>1463503</td>\n",
       "      <td>11440</td>\n",
       "      <td>1</td>\n",
       "      <td>0</td>\n",
       "      <td>Chicken Breast Tenders Breaded</td>\n",
       "      <td>129</td>\n",
       "      <td>1</td>\n",
       "    </tr>\n",
       "    <tr>\n",
       "      <th>7</th>\n",
       "      <td>331884</td>\n",
       "      <td>11440</td>\n",
       "      <td>5</td>\n",
       "      <td>1</td>\n",
       "      <td>Chicken Breast Tenders Breaded</td>\n",
       "      <td>129</td>\n",
       "      <td>1</td>\n",
       "    </tr>\n",
       "    <tr>\n",
       "      <th>8</th>\n",
       "      <td>1869056</td>\n",
       "      <td>11440</td>\n",
       "      <td>12</td>\n",
       "      <td>1</td>\n",
       "      <td>Chicken Breast Tenders Breaded</td>\n",
       "      <td>129</td>\n",
       "      <td>1</td>\n",
       "    </tr>\n",
       "    <tr>\n",
       "      <th>9</th>\n",
       "      <td>1772832</td>\n",
       "      <td>11440</td>\n",
       "      <td>3</td>\n",
       "      <td>1</td>\n",
       "      <td>Chicken Breast Tenders Breaded</td>\n",
       "      <td>129</td>\n",
       "      <td>1</td>\n",
       "    </tr>\n",
       "  </tbody>\n",
       "</table>\n",
       "</div>"
      ],
      "text/plain": [
       "   order_id  product_id  add_to_cart_order  reordered  \\\n",
       "0   2141543       11440                 17          0   \n",
       "1    147172       11440                  7          1   \n",
       "2   3341719       11440                  4          1   \n",
       "3   1938779       11440                  8          1   \n",
       "4   1728338       11440                 23          0   \n",
       "5    847715       11440                 13          0   \n",
       "6   1463503       11440                  1          0   \n",
       "7    331884       11440                  5          1   \n",
       "8   1869056       11440                 12          1   \n",
       "9   1772832       11440                  3          1   \n",
       "\n",
       "                     product_name  aisle_id  department_id  \n",
       "0  Chicken Breast Tenders Breaded       129              1  \n",
       "1  Chicken Breast Tenders Breaded       129              1  \n",
       "2  Chicken Breast Tenders Breaded       129              1  \n",
       "3  Chicken Breast Tenders Breaded       129              1  \n",
       "4  Chicken Breast Tenders Breaded       129              1  \n",
       "5  Chicken Breast Tenders Breaded       129              1  \n",
       "6  Chicken Breast Tenders Breaded       129              1  \n",
       "7  Chicken Breast Tenders Breaded       129              1  \n",
       "8  Chicken Breast Tenders Breaded       129              1  \n",
       "9  Chicken Breast Tenders Breaded       129              1  "
      ]
     },
     "execution_count": 53,
     "metadata": {},
     "output_type": "execute_result"
    }
   ],
   "source": [
    "#orders.info()\n",
    "#products.info()\n",
    "#order_products.info()\n",
    "merged_orders = order_products.merge(products)\n",
    "merged_orders.head(10)"
   ]
  },
  {
   "cell_type": "code",
   "execution_count": 54,
   "id": "universal-facial",
   "metadata": {},
   "outputs": [
    {
     "data": {
      "text/plain": [
       "product_id  product_name            \n",
       "24852       Banana                      66050\n",
       "13176       Bag of Organic Bananas      53297\n",
       "21137       Organic Strawberries        37039\n",
       "21903       Organic Baby Spinach        33971\n",
       "47209       Organic Hass Avocado        29773\n",
       "47766       Organic Avocado             24689\n",
       "47626       Large Lemon                 21495\n",
       "16797       Strawberries                20018\n",
       "26209       Limes                       19690\n",
       "27845       Organic Whole Milk          19600\n",
       "27966       Organic Raspberries         19197\n",
       "22935       Organic Yellow Onion        15898\n",
       "24964       Organic Garlic              15292\n",
       "45007       Organic Zucchini            14584\n",
       "39275       Organic Blueberries         13879\n",
       "49683       Cucumber Kirby              13675\n",
       "28204       Organic Fuji Apple          12544\n",
       "5876        Organic Lemon               12232\n",
       "8277        Apple Honeycrisp Organic    11993\n",
       "40706       Organic Grape Tomatoes      11781\n",
       "Name: add_to_cart_order, dtype: int64"
      ]
     },
     "execution_count": 54,
     "metadata": {},
     "output_type": "execute_result"
    }
   ],
   "source": [
    "most_popular_orders = merged_orders.groupby(['product_id', 'product_name'])['add_to_cart_order'].count().sort_values(ascending=False)\n",
    "most_popular_orders.head(20)"
   ]
  },
  {
   "cell_type": "code",
   "execution_count": 55,
   "id": "bbcdd20b",
   "metadata": {},
   "outputs": [
    {
     "data": {
      "text/plain": [
       "<AxesSubplot:title={'center':'Top 20 Grocery Store Purchases'}, xlabel='product_id,product_name', ylabel='Frequency'>"
      ]
     },
     "execution_count": 55,
     "metadata": {},
     "output_type": "execute_result"
    },
    {
     "data": {
      "image/png": "[encoded data removed]",
      "text/plain": [
       "<Figure size 432x288 with 1 Axes>"
      ]
     },
     "metadata": {
      "needs_background": "light"
     },
     "output_type": "display_data"
    }
   ],
   "source": [
    "most_popular_orders.head(20).plot(kind='bar', title='Top 20 Grocery Store Purchases', ylabel = 'Frequency')"
   ]
  },
  {
   "cell_type": "markdown",
   "id": "28c1eeda",
   "metadata": {},
   "source": [
    "#### The 20 most popular items on Instacart consists of produce items, milk, and vegetables."
   ]
  },
  {
   "cell_type": "markdown",
   "id": "gross-theme",
   "metadata": {},
   "source": [
    "# [C] Hard (must complete at least two to pass)"
   ]
  },
  {
   "cell_type": "markdown",
   "id": "romantic-deposit",
   "metadata": {},
   "source": [
    "### [C1] How many items do people typically buy in one order? What does the distribution look like?"
   ]
  },
  {
   "cell_type": "code",
   "execution_count": 56,
   "id": "virtual-punch",
   "metadata": {},
   "outputs": [],
   "source": [
    "#order_products.info()\n",
    "product_count = order_products.groupby('order_id').count()['product_id']\n",
    "product_sorted = product_count.value_counts().sort_index()"
   ]
  },
  {
   "cell_type": "code",
   "execution_count": 57,
   "id": "sensitive-breathing",
   "metadata": {},
   "outputs": [],
   "source": [
    "#product_count.plot(kind='bar', figsize = [15,8], title='# of Items People Buy in an Order', xlabel='Items', ylabel='# of Items in Order')\n",
    "#plt.show()"
   ]
  },
  {
   "cell_type": "code",
   "execution_count": 58,
   "id": "completed-frank",
   "metadata": {},
   "outputs": [
    {
     "data": {
      "text/plain": [
       "<AxesSubplot:title={'center':'# of Items People Buy in an Order'}, xlabel='Items', ylabel='# of Items in Order'>"
      ]
     },
     "execution_count": 58,
     "metadata": {},
     "output_type": "execute_result"
    },
    {
     "data": {
      "image/png": "[encoded data removed]",
      "text/plain": [
       "<Figure size 1080x576 with 1 Axes>"
      ]
     },
     "metadata": {
      "needs_background": "light"
     },
     "output_type": "display_data"
    }
   ],
   "source": [
    "product_sorted.plot(kind='bar', figsize = [15,8], title='# of Items People Buy in an Order', xlabel='Items', ylabel='# of Items in Order')"
   ]
  },
  {
   "cell_type": "code",
   "execution_count": 59,
   "id": "9b4e6ca8",
   "metadata": {},
   "outputs": [
    {
     "data": {
      "text/plain": [
       "<AxesSubplot:title={'center':'# of Items People Buy in an Order'}, xlabel='# of Items', ylabel='Orders'>"
      ]
     },
     "execution_count": 59,
     "metadata": {},
     "output_type": "execute_result"
    },
    {
     "data": {
      "image/png": "[encoded data removed]",
      "text/plain": [
       "<Figure size 864x576 with 1 Axes>"
      ]
     },
     "metadata": {
      "needs_background": "light"
     },
     "output_type": "display_data"
    }
   ],
   "source": [
    "# Taking the top 50 items to make it look cleaner.\n",
    "product_50 = product_sorted[product_sorted.index < 50]\n",
    "product_50.plot(kind='bar', figsize = [12,8], title='# of Items People Buy in an Order', xlabel='# of Items', ylabel='Orders')"
   ]
  },
  {
   "cell_type": "markdown",
   "id": "e6ffb13a",
   "metadata": {},
   "source": [
    "#### The typical amount of items in an order is from 4 to 7 items, with 5 being the most frequent amount of items ordered."
   ]
  },
  {
   "cell_type": "markdown",
   "id": "5e6b5537",
   "metadata": {},
   "source": [
    "### [C2] What are the top 20 items that are reordered most frequently (display their names and product IDs)?"
   ]
  },
  {
   "cell_type": "code",
   "execution_count": 60,
   "id": "9374e55a",
   "metadata": {},
   "outputs": [
    {
     "data": {
      "text/html": [
       "<div>\n",
       "<style scoped>\n",
       "    .dataframe tbody tr th:only-of-type {\n",
       "        vertical-align: middle;\n",
       "    }\n",
       "\n",
       "    .dataframe tbody tr th {\n",
       "        vertical-align: top;\n",
       "    }\n",
       "\n",
       "    .dataframe thead th {\n",
       "        text-align: right;\n",
       "    }\n",
       "</style>\n",
       "<table border=\"1\" class=\"dataframe\">\n",
       "  <thead>\n",
       "    <tr style=\"text-align: right;\">\n",
       "      <th></th>\n",
       "      <th>order_id</th>\n",
       "      <th>product_id</th>\n",
       "      <th>add_to_cart_order</th>\n",
       "      <th>reordered</th>\n",
       "    </tr>\n",
       "  </thead>\n",
       "  <tbody>\n",
       "    <tr>\n",
       "      <th>1</th>\n",
       "      <td>567889</td>\n",
       "      <td>1560</td>\n",
       "      <td>1</td>\n",
       "      <td>1</td>\n",
       "    </tr>\n",
       "    <tr>\n",
       "      <th>2</th>\n",
       "      <td>2261212</td>\n",
       "      <td>26683</td>\n",
       "      <td>1</td>\n",
       "      <td>1</td>\n",
       "    </tr>\n",
       "    <tr>\n",
       "      <th>3</th>\n",
       "      <td>491251</td>\n",
       "      <td>8670</td>\n",
       "      <td>35</td>\n",
       "      <td>1</td>\n",
       "    </tr>\n",
       "    <tr>\n",
       "      <th>4</th>\n",
       "      <td>2571142</td>\n",
       "      <td>1940</td>\n",
       "      <td>5</td>\n",
       "      <td>1</td>\n",
       "    </tr>\n",
       "    <tr>\n",
       "      <th>5</th>\n",
       "      <td>2456893</td>\n",
       "      <td>21616</td>\n",
       "      <td>4</td>\n",
       "      <td>1</td>\n",
       "    </tr>\n",
       "    <tr>\n",
       "      <th>...</th>\n",
       "      <td>...</td>\n",
       "      <td>...</td>\n",
       "      <td>...</td>\n",
       "      <td>...</td>\n",
       "    </tr>\n",
       "    <tr>\n",
       "      <th>4544999</th>\n",
       "      <td>1622300</td>\n",
       "      <td>24852</td>\n",
       "      <td>1</td>\n",
       "      <td>1</td>\n",
       "    </tr>\n",
       "    <tr>\n",
       "      <th>4545000</th>\n",
       "      <td>1125324</td>\n",
       "      <td>40600</td>\n",
       "      <td>6</td>\n",
       "      <td>1</td>\n",
       "    </tr>\n",
       "    <tr>\n",
       "      <th>4545002</th>\n",
       "      <td>577211</td>\n",
       "      <td>15290</td>\n",
       "      <td>12</td>\n",
       "      <td>1</td>\n",
       "    </tr>\n",
       "    <tr>\n",
       "      <th>4545004</th>\n",
       "      <td>692640</td>\n",
       "      <td>47766</td>\n",
       "      <td>4</td>\n",
       "      <td>1</td>\n",
       "    </tr>\n",
       "    <tr>\n",
       "      <th>4545005</th>\n",
       "      <td>319435</td>\n",
       "      <td>691</td>\n",
       "      <td>8</td>\n",
       "      <td>1</td>\n",
       "    </tr>\n",
       "  </tbody>\n",
       "</table>\n",
       "<p>2683838 rows × 4 columns</p>\n",
       "</div>"
      ],
      "text/plain": [
       "         order_id  product_id  add_to_cart_order  reordered\n",
       "1          567889        1560                  1          1\n",
       "2         2261212       26683                  1          1\n",
       "3          491251        8670                 35          1\n",
       "4         2571142        1940                  5          1\n",
       "5         2456893       21616                  4          1\n",
       "...           ...         ...                ...        ...\n",
       "4544999   1622300       24852                  1          1\n",
       "4545000   1125324       40600                  6          1\n",
       "4545002    577211       15290                 12          1\n",
       "4545004    692640       47766                  4          1\n",
       "4545005    319435         691                  8          1\n",
       "\n",
       "[2683838 rows x 4 columns]"
      ]
     },
     "execution_count": 60,
     "metadata": {},
     "output_type": "execute_result"
    }
   ],
   "source": [
    "# order_products.max() = 1 So the biggest reorders are items with value 1.\n",
    "re_ordered = order_products[order_products.reordered == 1]\n",
    "re_ordered\n"
   ]
  },
  {
   "cell_type": "code",
   "execution_count": 61,
   "id": "possible-change",
   "metadata": {
    "scrolled": true
   },
   "outputs": [
    {
     "data": {
      "text/html": [
       "<div>\n",
       "<style scoped>\n",
       "    .dataframe tbody tr th:only-of-type {\n",
       "        vertical-align: middle;\n",
       "    }\n",
       "\n",
       "    .dataframe tbody tr th {\n",
       "        vertical-align: top;\n",
       "    }\n",
       "\n",
       "    .dataframe thead th {\n",
       "        text-align: right;\n",
       "    }\n",
       "</style>\n",
       "<table border=\"1\" class=\"dataframe\">\n",
       "  <thead>\n",
       "    <tr style=\"text-align: right;\">\n",
       "      <th></th>\n",
       "      <th>order_id</th>\n",
       "      <th>product_id</th>\n",
       "      <th>add_to_cart_order</th>\n",
       "      <th>reordered</th>\n",
       "      <th>product_name</th>\n",
       "      <th>aisle_id</th>\n",
       "      <th>department_id</th>\n",
       "    </tr>\n",
       "  </thead>\n",
       "  <tbody>\n",
       "    <tr>\n",
       "      <th>0</th>\n",
       "      <td>567889</td>\n",
       "      <td>1560</td>\n",
       "      <td>1</td>\n",
       "      <td>1</td>\n",
       "      <td>Bag Of Ice</td>\n",
       "      <td>37</td>\n",
       "      <td>1</td>\n",
       "    </tr>\n",
       "    <tr>\n",
       "      <th>1</th>\n",
       "      <td>761899</td>\n",
       "      <td>1560</td>\n",
       "      <td>2</td>\n",
       "      <td>1</td>\n",
       "      <td>Bag Of Ice</td>\n",
       "      <td>37</td>\n",
       "      <td>1</td>\n",
       "    </tr>\n",
       "    <tr>\n",
       "      <th>2</th>\n",
       "      <td>1388514</td>\n",
       "      <td>1560</td>\n",
       "      <td>8</td>\n",
       "      <td>1</td>\n",
       "      <td>Bag Of Ice</td>\n",
       "      <td>37</td>\n",
       "      <td>1</td>\n",
       "    </tr>\n",
       "    <tr>\n",
       "      <th>3</th>\n",
       "      <td>2629631</td>\n",
       "      <td>1560</td>\n",
       "      <td>1</td>\n",
       "      <td>1</td>\n",
       "      <td>Bag Of Ice</td>\n",
       "      <td>37</td>\n",
       "      <td>1</td>\n",
       "    </tr>\n",
       "    <tr>\n",
       "      <th>4</th>\n",
       "      <td>866921</td>\n",
       "      <td>1560</td>\n",
       "      <td>6</td>\n",
       "      <td>1</td>\n",
       "      <td>Bag Of Ice</td>\n",
       "      <td>37</td>\n",
       "      <td>1</td>\n",
       "    </tr>\n",
       "    <tr>\n",
       "      <th>...</th>\n",
       "      <td>...</td>\n",
       "      <td>...</td>\n",
       "      <td>...</td>\n",
       "      <td>...</td>\n",
       "      <td>...</td>\n",
       "      <td>...</td>\n",
       "      <td>...</td>\n",
       "    </tr>\n",
       "    <tr>\n",
       "      <th>2683779</th>\n",
       "      <td>1338379</td>\n",
       "      <td>33506</td>\n",
       "      <td>3</td>\n",
       "      <td>1</td>\n",
       "      <td>Simply 9 White Meat Chicken &amp; Whole Barley Rec...</td>\n",
       "      <td>40</td>\n",
       "      <td>8</td>\n",
       "    </tr>\n",
       "    <tr>\n",
       "      <th>2683780</th>\n",
       "      <td>191894</td>\n",
       "      <td>27878</td>\n",
       "      <td>3</td>\n",
       "      <td>1</td>\n",
       "      <td>Crackers Wheat Sundried Tomato Basil Crispy</td>\n",
       "      <td>78</td>\n",
       "      <td>19</td>\n",
       "    </tr>\n",
       "    <tr>\n",
       "      <th>2683781</th>\n",
       "      <td>3041739</td>\n",
       "      <td>31751</td>\n",
       "      <td>14</td>\n",
       "      <td>1</td>\n",
       "      <td>French Style Cut Green Beans</td>\n",
       "      <td>116</td>\n",
       "      <td>1</td>\n",
       "    </tr>\n",
       "    <tr>\n",
       "      <th>2683782</th>\n",
       "      <td>949244</td>\n",
       "      <td>24384</td>\n",
       "      <td>18</td>\n",
       "      <td>1</td>\n",
       "      <td>Invisible Matte Finish Tape</td>\n",
       "      <td>10</td>\n",
       "      <td>17</td>\n",
       "    </tr>\n",
       "    <tr>\n",
       "      <th>2683783</th>\n",
       "      <td>1078099</td>\n",
       "      <td>47673</td>\n",
       "      <td>11</td>\n",
       "      <td>1</td>\n",
       "      <td>Toast Chee Peanut Butter Sandwich Crackers</td>\n",
       "      <td>78</td>\n",
       "      <td>19</td>\n",
       "    </tr>\n",
       "  </tbody>\n",
       "</table>\n",
       "<p>2683784 rows × 7 columns</p>\n",
       "</div>"
      ],
      "text/plain": [
       "         order_id  product_id  add_to_cart_order  reordered  \\\n",
       "0          567889        1560                  1          1   \n",
       "1          761899        1560                  2          1   \n",
       "2         1388514        1560                  8          1   \n",
       "3         2629631        1560                  1          1   \n",
       "4          866921        1560                  6          1   \n",
       "...           ...         ...                ...        ...   \n",
       "2683779   1338379       33506                  3          1   \n",
       "2683780    191894       27878                  3          1   \n",
       "2683781   3041739       31751                 14          1   \n",
       "2683782    949244       24384                 18          1   \n",
       "2683783   1078099       47673                 11          1   \n",
       "\n",
       "                                              product_name  aisle_id  \\\n",
       "0                                               Bag Of Ice        37   \n",
       "1                                               Bag Of Ice        37   \n",
       "2                                               Bag Of Ice        37   \n",
       "3                                               Bag Of Ice        37   \n",
       "4                                               Bag Of Ice        37   \n",
       "...                                                    ...       ...   \n",
       "2683779  Simply 9 White Meat Chicken & Whole Barley Rec...        40   \n",
       "2683780        Crackers Wheat Sundried Tomato Basil Crispy        78   \n",
       "2683781                       French Style Cut Green Beans       116   \n",
       "2683782                        Invisible Matte Finish Tape        10   \n",
       "2683783         Toast Chee Peanut Butter Sandwich Crackers        78   \n",
       "\n",
       "         department_id  \n",
       "0                    1  \n",
       "1                    1  \n",
       "2                    1  \n",
       "3                    1  \n",
       "4                    1  \n",
       "...                ...  \n",
       "2683779              8  \n",
       "2683780             19  \n",
       "2683781              1  \n",
       "2683782             17  \n",
       "2683783             19  \n",
       "\n",
       "[2683784 rows x 7 columns]"
      ]
     },
     "execution_count": 61,
     "metadata": {},
     "output_type": "execute_result"
    }
   ],
   "source": [
    "# Need to merge with another dataset to get the names for the product_id.\n",
    "merged_reorder = re_ordered.merge(products, on='product_id')\n",
    "merged_reorder\n"
   ]
  },
  {
   "cell_type": "code",
   "execution_count": 62,
   "id": "professional-surfing",
   "metadata": {
    "scrolled": true
   },
   "outputs": [
    {
     "data": {
      "text/plain": [
       "product_id  product_name            \n",
       "24852       Banana                      55763\n",
       "13176       Bag of Organic Bananas      44450\n",
       "21137       Organic Strawberries        28639\n",
       "21903       Organic Baby Spinach        26233\n",
       "47209       Organic Hass Avocado        23629\n",
       "47766       Organic Avocado             18743\n",
       "27845       Organic Whole Milk          16251\n",
       "47626       Large Lemon                 15044\n",
       "27966       Organic Raspberries         14748\n",
       "16797       Strawberries                13945\n",
       "26209       Limes                       13327\n",
       "22935       Organic Yellow Onion        11145\n",
       "24964       Organic Garlic              10411\n",
       "45007       Organic Zucchini            10076\n",
       "49683       Cucumber Kirby               9538\n",
       "28204       Organic Fuji Apple           8989\n",
       "8277        Apple Honeycrisp Organic     8836\n",
       "39275       Organic Blueberries          8799\n",
       "5876        Organic Lemon                8412\n",
       "49235       Organic Half & Half          8389\n",
       "dtype: int64"
      ]
     },
     "execution_count": 62,
     "metadata": {},
     "output_type": "execute_result"
    }
   ],
   "source": [
    "grouped_items = merged_reorder.groupby(['product_id', 'product_name']).size().sort_values(ascending=False)\n",
    "top_20 = grouped_items.head(20)\n",
    "top_20"
   ]
  },
  {
   "cell_type": "code",
   "execution_count": 63,
   "id": "35d5fa3f",
   "metadata": {},
   "outputs": [
    {
     "data": {
      "text/plain": [
       "<AxesSubplot:xlabel='product_id,product_name'>"
      ]
     },
     "execution_count": 63,
     "metadata": {},
     "output_type": "execute_result"
    },
    {
     "data": {
      "image/png": "[encoded data removed]",
      "text/plain": [
       "<Figure size 432x288 with 1 Axes>"
      ]
     },
     "metadata": {
      "needs_background": "light"
     },
     "output_type": "display_data"
    }
   ],
   "source": [
    "top_20.plot(kind='bar')"
   ]
  },
  {
   "cell_type": "markdown",
   "id": "0be44ef3",
   "metadata": {},
   "source": [
    "#### The top 20 most reordered products that were reordered most frequently were produce, vegetables, and milk."
   ]
  },
  {
   "cell_type": "markdown",
   "id": "9d312b14",
   "metadata": {},
   "source": [
    "### [C3] For each product, what proportion of its orders are reorders?"
   ]
  },
  {
   "cell_type": "code",
   "execution_count": 67,
   "id": "8ae9f4b1",
   "metadata": {
    "scrolled": true
   },
   "outputs": [
    {
     "data": {
      "text/plain": [
       "product_name\n",
       "Snack, Sweet Chili, Original                                         1.0\n",
       "Honey Ham & Smoked White Turkey Sub Sandwich Kit                     1.0\n",
       "Garlic Olives                                                        1.0\n",
       "Honey Flake & Oat Clusters                                           1.0\n",
       "Honey French Dressing                                                1.0\n",
       "Medium Roast Hazelnut Herbal Coffee Alternative All-Purpose Grind    1.0\n",
       "Vegetable Oil Cooking Spray                                          1.0\n",
       "All Hair Types Pure Clean Styling Gel                                1.0\n",
       "Ruby Grapefruit Segments                                             1.0\n",
       "Vegetable Pancakes                                                   1.0\n",
       "All Good Coconut Oil Skin Food Coconut                               1.0\n",
       "Dark Chocolate Noir Sorbetto                                         1.0\n",
       "Garlic Mill Spices                                                   1.0\n",
       "Organic Carrots Baby Food                                            1.0\n",
       "Organic Ceremonial Matcha Green Tea                                  1.0\n",
       "Sweetened Green Tea Made With Real Matcha                            1.0\n",
       "Sweet Vidalia Onion Barbecue Sauce                                   1.0\n",
       "Ruled White Index Cards                                              1.0\n",
       "Medium Roast Breakfast Blend Coffee                                  1.0\n",
       "Honey Lemon Cough Drops                                              1.0\n",
       "Name: reordered, dtype: float64"
      ]
     },
     "execution_count": 67,
     "metadata": {},
     "output_type": "execute_result"
    }
   ],
   "source": [
    "#products\n",
    "#re_ordered\n",
    "#order_products\n",
    "re_ordered = order_products[order_products.reordered == 1]\n",
    "merged_products = order_products.merge(products, how='inner')\n",
    "merged_products\n",
    "#total = 0\n",
    "#if merged_products.reordered == 1:\n",
    "#    total += merged_products.add_to_cart_order\n",
    "# This didn't work but I realized that I was just trying to find the mean of the dataset.\n",
    "# merged_products['reordered'].mean() but I have to do it for the entire dataset, need to use groupby with reordered.mean() at the end.\n",
    "# mean_of_orders_reordered = merged_products.groupby(['product_name', 'add_to_cart_order'])['reordered'].mean() close but add_to_cart doesn't make sense to use\n",
    "mean_of_orders_reordered = merged_products.groupby('product_name')['reordered'].mean()\n",
    "mean_of_orders_reordered.sort_values(ascending=False).head(20)\n",
    "\n"
   ]
  },
  {
   "cell_type": "markdown",
   "id": "e87a4cc4",
   "metadata": {},
   "source": [
    "#### The top products that are reordered 100% of the time don't have any correlation to each other."
   ]
  },
  {
   "cell_type": "markdown",
   "id": "subject-boxing",
   "metadata": {},
   "source": [
    "### [C4] For each customer, what proportion of their products ordered are reorders?"
   ]
  },
  {
   "cell_type": "code",
   "execution_count": 68,
   "id": "24253dd1",
   "metadata": {
    "scrolled": true
   },
   "outputs": [
    {
     "data": {
      "text/html": [
       "<div>\n",
       "<style scoped>\n",
       "    .dataframe tbody tr th:only-of-type {\n",
       "        vertical-align: middle;\n",
       "    }\n",
       "\n",
       "    .dataframe tbody tr th {\n",
       "        vertical-align: top;\n",
       "    }\n",
       "\n",
       "    .dataframe thead th {\n",
       "        text-align: right;\n",
       "    }\n",
       "</style>\n",
       "<table border=\"1\" class=\"dataframe\">\n",
       "  <thead>\n",
       "    <tr style=\"text-align: right;\">\n",
       "      <th></th>\n",
       "      <th>user_id</th>\n",
       "      <th>pct_of_reorder</th>\n",
       "    </tr>\n",
       "  </thead>\n",
       "  <tbody>\n",
       "    <tr>\n",
       "      <th>0</th>\n",
       "      <td>99424</td>\n",
       "      <td>1.0</td>\n",
       "    </tr>\n",
       "    <tr>\n",
       "      <th>1</th>\n",
       "      <td>24402</td>\n",
       "      <td>1.0</td>\n",
       "    </tr>\n",
       "    <tr>\n",
       "      <th>2</th>\n",
       "      <td>24930</td>\n",
       "      <td>1.0</td>\n",
       "    </tr>\n",
       "    <tr>\n",
       "      <th>3</th>\n",
       "      <td>108423</td>\n",
       "      <td>1.0</td>\n",
       "    </tr>\n",
       "    <tr>\n",
       "      <th>4</th>\n",
       "      <td>62393</td>\n",
       "      <td>1.0</td>\n",
       "    </tr>\n",
       "    <tr>\n",
       "      <th>...</th>\n",
       "      <td>...</td>\n",
       "      <td>...</td>\n",
       "    </tr>\n",
       "    <tr>\n",
       "      <th>62504</th>\n",
       "      <td>107969</td>\n",
       "      <td>0.0</td>\n",
       "    </tr>\n",
       "    <tr>\n",
       "      <th>62505</th>\n",
       "      <td>152914</td>\n",
       "      <td>0.0</td>\n",
       "    </tr>\n",
       "    <tr>\n",
       "      <th>62506</th>\n",
       "      <td>182277</td>\n",
       "      <td>0.0</td>\n",
       "    </tr>\n",
       "    <tr>\n",
       "      <th>62507</th>\n",
       "      <td>50289</td>\n",
       "      <td>0.0</td>\n",
       "    </tr>\n",
       "    <tr>\n",
       "      <th>62508</th>\n",
       "      <td>43965</td>\n",
       "      <td>0.0</td>\n",
       "    </tr>\n",
       "  </tbody>\n",
       "</table>\n",
       "<p>62509 rows × 2 columns</p>\n",
       "</div>"
      ],
      "text/plain": [
       "       user_id  pct_of_reorder\n",
       "0        99424             1.0\n",
       "1        24402             1.0\n",
       "2        24930             1.0\n",
       "3       108423             1.0\n",
       "4        62393             1.0\n",
       "...        ...             ...\n",
       "62504   107969             0.0\n",
       "62505   152914             0.0\n",
       "62506   182277             0.0\n",
       "62507    50289             0.0\n",
       "62508    43965             0.0\n",
       "\n",
       "[62509 rows x 2 columns]"
      ]
     },
     "execution_count": 68,
     "metadata": {},
     "output_type": "execute_result"
    }
   ],
   "source": [
    "# Similar to the one above. Need user's id's because we don't have customer information. Another merge.\n",
    "#merged_users = merged_products.merge(orders)\n",
    "#merged_users\n",
    "#pct_of_reordered = merged_users.groupby('user_id')['reordered'].mean()\n",
    "#pct_reordered_sorted = pct_of_reordered.sort_values(ascending=False)\n",
    "#pct_reordered_sorted\n",
    "order_product_orders = order_products.merge(orders)\n",
    "\n",
    "order_product_orders.groupby('user_id')['reordered'].mean().sort_values(ascending=False).reset_index(name='pct_of_reorder')\n"
   ]
  },
  {
   "cell_type": "markdown",
   "id": "c05e22fc",
   "metadata": {},
   "source": [
    "#### This dataframe shows the percentage of reorders per user, ordered in descending order grouped by user_id. Instacart can use this data to see how many reorders typically happen per customer and think of ways to improve the reorder rate if wanting an increase."
   ]
  },
  {
   "cell_type": "markdown",
   "id": "92d35137",
   "metadata": {},
   "source": [
    "### [C5] What are the top 20 items that people put in their carts first? "
   ]
  },
  {
   "cell_type": "code",
   "execution_count": 66,
   "id": "0ae57274",
   "metadata": {
    "scrolled": true
   },
   "outputs": [
    {
     "data": {
      "text/html": [
       "<div>\n",
       "<style scoped>\n",
       "    .dataframe tbody tr th:only-of-type {\n",
       "        vertical-align: middle;\n",
       "    }\n",
       "\n",
       "    .dataframe tbody tr th {\n",
       "        vertical-align: top;\n",
       "    }\n",
       "\n",
       "    .dataframe thead th {\n",
       "        text-align: right;\n",
       "    }\n",
       "</style>\n",
       "<table border=\"1\" class=\"dataframe\">\n",
       "  <thead>\n",
       "    <tr style=\"text-align: right;\">\n",
       "      <th></th>\n",
       "      <th>product_id</th>\n",
       "      <th>product_name</th>\n",
       "      <th>Frequency</th>\n",
       "    </tr>\n",
       "  </thead>\n",
       "  <tbody>\n",
       "    <tr>\n",
       "      <th>0</th>\n",
       "      <td>24852</td>\n",
       "      <td>Banana</td>\n",
       "      <td>15562</td>\n",
       "    </tr>\n",
       "    <tr>\n",
       "      <th>1</th>\n",
       "      <td>13176</td>\n",
       "      <td>Bag of Organic Bananas</td>\n",
       "      <td>11026</td>\n",
       "    </tr>\n",
       "    <tr>\n",
       "      <th>2</th>\n",
       "      <td>27845</td>\n",
       "      <td>Organic Whole Milk</td>\n",
       "      <td>4363</td>\n",
       "    </tr>\n",
       "    <tr>\n",
       "      <th>3</th>\n",
       "      <td>21137</td>\n",
       "      <td>Organic Strawberries</td>\n",
       "      <td>3946</td>\n",
       "    </tr>\n",
       "    <tr>\n",
       "      <th>4</th>\n",
       "      <td>47209</td>\n",
       "      <td>Organic Hass Avocado</td>\n",
       "      <td>3390</td>\n",
       "    </tr>\n",
       "    <tr>\n",
       "      <th>5</th>\n",
       "      <td>21903</td>\n",
       "      <td>Organic Baby Spinach</td>\n",
       "      <td>3336</td>\n",
       "    </tr>\n",
       "    <tr>\n",
       "      <th>6</th>\n",
       "      <td>47766</td>\n",
       "      <td>Organic Avocado</td>\n",
       "      <td>3044</td>\n",
       "    </tr>\n",
       "    <tr>\n",
       "      <th>7</th>\n",
       "      <td>19660</td>\n",
       "      <td>Spring Water</td>\n",
       "      <td>2336</td>\n",
       "    </tr>\n",
       "    <tr>\n",
       "      <th>8</th>\n",
       "      <td>16797</td>\n",
       "      <td>Strawberries</td>\n",
       "      <td>2308</td>\n",
       "    </tr>\n",
       "    <tr>\n",
       "      <th>9</th>\n",
       "      <td>27966</td>\n",
       "      <td>Organic Raspberries</td>\n",
       "      <td>2024</td>\n",
       "    </tr>\n",
       "    <tr>\n",
       "      <th>10</th>\n",
       "      <td>44632</td>\n",
       "      <td>Sparkling Water Grapefruit</td>\n",
       "      <td>1914</td>\n",
       "    </tr>\n",
       "    <tr>\n",
       "      <th>11</th>\n",
       "      <td>49235</td>\n",
       "      <td>Organic Half &amp; Half</td>\n",
       "      <td>1797</td>\n",
       "    </tr>\n",
       "    <tr>\n",
       "      <th>12</th>\n",
       "      <td>47626</td>\n",
       "      <td>Large Lemon</td>\n",
       "      <td>1737</td>\n",
       "    </tr>\n",
       "    <tr>\n",
       "      <th>13</th>\n",
       "      <td>196</td>\n",
       "      <td>Soda</td>\n",
       "      <td>1733</td>\n",
       "    </tr>\n",
       "    <tr>\n",
       "      <th>14</th>\n",
       "      <td>38689</td>\n",
       "      <td>Organic Reduced Fat Milk</td>\n",
       "      <td>1397</td>\n",
       "    </tr>\n",
       "    <tr>\n",
       "      <th>15</th>\n",
       "      <td>26209</td>\n",
       "      <td>Limes</td>\n",
       "      <td>1370</td>\n",
       "    </tr>\n",
       "    <tr>\n",
       "      <th>16</th>\n",
       "      <td>12341</td>\n",
       "      <td>Hass Avocados</td>\n",
       "      <td>1340</td>\n",
       "    </tr>\n",
       "    <tr>\n",
       "      <th>17</th>\n",
       "      <td>5785</td>\n",
       "      <td>Organic Reduced Fat 2% Milk</td>\n",
       "      <td>1310</td>\n",
       "    </tr>\n",
       "    <tr>\n",
       "      <th>18</th>\n",
       "      <td>27086</td>\n",
       "      <td>Half &amp; Half</td>\n",
       "      <td>1309</td>\n",
       "    </tr>\n",
       "    <tr>\n",
       "      <th>19</th>\n",
       "      <td>43352</td>\n",
       "      <td>Raspberries</td>\n",
       "      <td>1246</td>\n",
       "    </tr>\n",
       "  </tbody>\n",
       "</table>\n",
       "</div>"
      ],
      "text/plain": [
       "    product_id                 product_name  Frequency\n",
       "0        24852                       Banana      15562\n",
       "1        13176       Bag of Organic Bananas      11026\n",
       "2        27845           Organic Whole Milk       4363\n",
       "3        21137         Organic Strawberries       3946\n",
       "4        47209         Organic Hass Avocado       3390\n",
       "5        21903         Organic Baby Spinach       3336\n",
       "6        47766              Organic Avocado       3044\n",
       "7        19660                 Spring Water       2336\n",
       "8        16797                 Strawberries       2308\n",
       "9        27966          Organic Raspberries       2024\n",
       "10       44632   Sparkling Water Grapefruit       1914\n",
       "11       49235          Organic Half & Half       1797\n",
       "12       47626                  Large Lemon       1737\n",
       "13         196                         Soda       1733\n",
       "14       38689     Organic Reduced Fat Milk       1397\n",
       "15       26209                        Limes       1370\n",
       "16       12341                Hass Avocados       1340\n",
       "17        5785  Organic Reduced Fat 2% Milk       1310\n",
       "18       27086                  Half & Half       1309\n",
       "19       43352                  Raspberries       1246"
      ]
     },
     "execution_count": 66,
     "metadata": {},
     "output_type": "execute_result"
    }
   ],
   "source": [
    "merged_product_order_prod = order_products.merge(products)\n",
    "add_to_cart_1 = merged_product_order_prod[merged_product_order_prod['add_to_cart_order'] == 1]\n",
    "add_to_cart_1\n",
    "grouped_products = add_to_cart_1.groupby(['product_id', 'product_name'])['add_to_cart_order']\n",
    "top_20_first_in_cart = grouped_products.size().sort_values(ascending=False).reset_index(name='Frequency').head(20)\n",
    "top_20_first_in_cart"
   ]
  },
  {
   "cell_type": "markdown",
   "id": "9f13f8c0",
   "metadata": {},
   "source": [
    "#### The top 20 items that people put into their carts are produce, hydration products including water and soda, and creamers for their coffees."
   ]
  },
  {
   "cell_type": "markdown",
   "id": "fae961b8",
   "metadata": {},
   "source": [
    "### In conclusion, looking at the products that customers are most interested in, I would recommend Instacart advertise and stock produce, vegetables, and drink products for their customers. I would recommend that Instacart have more staff available from 9 a.m. to 4 p.m. for the influx of orders that come at that time. Finally, I would recommend that on Day 0, which I would assume is Sunday and Day 1, which I would assume is Monday that they have more staff on hand because of the influx of shopping orders during those days. "
   ]
  },
  {
   "cell_type": "code",
   "execution_count": null,
   "id": "da8b6c1c",
   "metadata": {},
   "outputs": [],
   "source": []
  }
 ],
 "metadata": {
  "ExecuteTimeLog": [
   {
    "duration": 398,
    "start_time": "2022-09-05T18:55:55.951Z"
   },
   {
    "duration": 6,
    "start_time": "2022-09-05T18:55:57.179Z"
   },
   {
    "duration": 1242,
    "start_time": "2022-09-05T18:56:08.554Z"
   },
   {
    "duration": 439,
    "start_time": "2022-09-05T18:56:13.347Z"
   },
   {
    "duration": 459,
    "start_time": "2022-09-05T18:56:16.096Z"
   },
   {
    "duration": 412,
    "start_time": "2022-09-05T18:56:23.160Z"
   },
   {
    "duration": 211,
    "start_time": "2022-09-05T18:56:31.690Z"
   },
   {
    "duration": 195,
    "start_time": "2022-09-05T18:56:44.482Z"
   },
   {
    "duration": 424,
    "start_time": "2022-09-05T18:57:29.204Z"
   },
   {
    "duration": 1913,
    "start_time": "2022-09-05T18:58:21.563Z"
   },
   {
    "duration": 1166,
    "start_time": "2022-09-05T18:59:31.003Z"
   },
   {
    "duration": 1180,
    "start_time": "2022-09-05T18:59:35.755Z"
   },
   {
    "duration": 1172,
    "start_time": "2022-09-05T18:59:45.710Z"
   },
   {
    "duration": 72,
    "start_time": "2022-09-05T18:59:54.185Z"
   },
   {
    "duration": 77,
    "start_time": "2022-09-05T19:00:00.130Z"
   },
   {
    "duration": 196,
    "start_time": "2022-09-05T19:00:13.952Z"
   },
   {
    "duration": 199,
    "start_time": "2022-09-05T19:03:43.150Z"
   },
   {
    "duration": 406,
    "start_time": "2022-09-05T19:04:16.275Z"
   },
   {
    "duration": 61,
    "start_time": "2022-09-05T19:04:24.308Z"
   },
   {
    "duration": 216,
    "start_time": "2022-09-05T19:04:53.272Z"
   },
   {
    "duration": 208,
    "start_time": "2022-09-05T19:05:02.335Z"
   },
   {
    "duration": 219,
    "start_time": "2022-09-05T19:06:04.786Z"
   },
   {
    "duration": 185,
    "start_time": "2022-09-05T19:06:17.896Z"
   },
   {
    "duration": 198,
    "start_time": "2022-09-05T19:06:21.626Z"
   },
   {
    "duration": 183,
    "start_time": "2022-09-05T19:06:46.318Z"
   },
   {
    "duration": 189,
    "start_time": "2022-09-05T19:06:51.595Z"
   },
   {
    "duration": 202,
    "start_time": "2022-09-05T19:10:35.493Z"
   },
   {
    "duration": 189,
    "start_time": "2022-09-05T19:10:53.444Z"
   },
   {
    "duration": 178,
    "start_time": "2022-09-05T19:11:28.942Z"
   },
   {
    "duration": 189,
    "start_time": "2022-09-05T19:11:39.213Z"
   },
   {
    "duration": 183,
    "start_time": "2022-09-05T19:11:51.828Z"
   },
   {
    "duration": 185,
    "start_time": "2022-09-05T19:12:39.627Z"
   },
   {
    "duration": 2,
    "start_time": "2022-09-05T19:13:34.305Z"
   },
   {
    "duration": 9,
    "start_time": "2022-09-05T19:13:55.165Z"
   },
   {
    "duration": 9,
    "start_time": "2022-09-05T19:14:02.837Z"
   },
   {
    "duration": 10,
    "start_time": "2022-09-05T19:14:18.444Z"
   },
   {
    "duration": 19,
    "start_time": "2022-09-05T19:14:25.681Z"
   },
   {
    "duration": 182,
    "start_time": "2022-09-05T19:15:50.599Z"
   },
   {
    "duration": 44,
    "start_time": "2022-09-05T19:15:55.518Z"
   },
   {
    "duration": 176,
    "start_time": "2022-09-05T19:15:57.858Z"
   },
   {
    "duration": 180,
    "start_time": "2022-09-05T19:16:04.198Z"
   },
   {
    "duration": 176,
    "start_time": "2022-09-05T19:16:11.227Z"
   },
   {
    "duration": 7,
    "start_time": "2022-09-05T19:18:02.290Z"
   },
   {
    "duration": 6,
    "start_time": "2022-09-05T19:18:18.385Z"
   },
   {
    "duration": 169,
    "start_time": "2022-09-05T19:18:46.992Z"
   },
   {
    "duration": 17,
    "start_time": "2022-09-05T19:18:56.712Z"
   },
   {
    "duration": 134,
    "start_time": "2022-09-05T19:19:00.830Z"
   },
   {
    "duration": 115,
    "start_time": "2022-09-05T19:19:06.669Z"
   },
   {
    "duration": 107,
    "start_time": "2022-09-05T19:19:20.136Z"
   },
   {
    "duration": 111,
    "start_time": "2022-09-05T19:19:28.202Z"
   },
   {
    "duration": 18,
    "start_time": "2022-09-05T19:22:06.733Z"
   },
   {
    "duration": 11,
    "start_time": "2022-09-05T19:23:51.007Z"
   },
   {
    "duration": 114,
    "start_time": "2022-09-05T19:23:56.067Z"
   },
   {
    "duration": 28,
    "start_time": "2022-09-05T19:26:22.033Z"
   },
   {
    "duration": 13,
    "start_time": "2022-09-05T19:26:35.140Z"
   },
   {
    "duration": 165,
    "start_time": "2022-09-05T19:27:06.445Z"
   },
   {
    "duration": 152,
    "start_time": "2022-09-05T19:27:17.192Z"
   },
   {
    "duration": 177,
    "start_time": "2022-09-05T19:30:00.482Z"
   },
   {
    "duration": 199,
    "start_time": "2022-09-05T19:30:15.047Z"
   },
   {
    "duration": 197,
    "start_time": "2022-09-05T19:30:26.477Z"
   },
   {
    "duration": 161,
    "start_time": "2022-09-05T19:30:32.511Z"
   },
   {
    "duration": 214,
    "start_time": "2022-09-05T19:31:06.623Z"
   },
   {
    "duration": 14,
    "start_time": "2022-09-05T19:31:51.450Z"
   },
   {
    "duration": 13,
    "start_time": "2022-09-05T19:32:33.312Z"
   },
   {
    "duration": 74,
    "start_time": "2022-09-05T19:33:30.280Z"
   },
   {
    "duration": 926,
    "start_time": "2022-09-05T19:34:24.222Z"
   },
   {
    "duration": 792,
    "start_time": "2022-09-05T19:34:28.767Z"
   },
   {
    "duration": 5,
    "start_time": "2022-09-05T19:34:42.167Z"
   },
   {
    "duration": 7,
    "start_time": "2022-09-05T19:36:34.665Z"
   },
   {
    "duration": 17,
    "start_time": "2022-09-05T19:36:43.302Z"
   },
   {
    "duration": 15,
    "start_time": "2022-09-05T19:36:49.471Z"
   },
   {
    "duration": 16,
    "start_time": "2022-09-05T19:36:51.430Z"
   },
   {
    "duration": 18,
    "start_time": "2022-09-05T19:42:21.055Z"
   },
   {
    "duration": 8,
    "start_time": "2022-09-05T19:42:26.330Z"
   },
   {
    "duration": 17,
    "start_time": "2022-09-05T19:42:34.156Z"
   },
   {
    "duration": 57,
    "start_time": "2022-09-05T19:43:06.896Z"
   },
   {
    "duration": 72,
    "start_time": "2022-09-05T19:43:09.946Z"
   },
   {
    "duration": 20,
    "start_time": "2022-09-05T19:43:12.637Z"
   },
   {
    "duration": 9,
    "start_time": "2022-09-05T19:44:06.680Z"
   },
   {
    "duration": 41,
    "start_time": "2022-09-05T19:44:16.285Z"
   },
   {
    "duration": 19,
    "start_time": "2022-09-05T19:44:42.755Z"
   },
   {
    "duration": 31,
    "start_time": "2022-09-05T19:45:06.541Z"
   },
   {
    "duration": 38,
    "start_time": "2022-09-05T19:45:12.157Z"
   },
   {
    "duration": 41,
    "start_time": "2022-09-05T19:46:02.224Z"
   },
   {
    "duration": 1122,
    "start_time": "2022-09-05T19:46:08.871Z"
   },
   {
    "duration": 1295,
    "start_time": "2022-09-05T19:46:24.005Z"
   },
   {
    "duration": 1037,
    "start_time": "2022-09-05T19:46:33.639Z"
   },
   {
    "duration": 1037,
    "start_time": "2022-09-05T19:46:41.278Z"
   },
   {
    "duration": 1047,
    "start_time": "2022-09-05T19:46:47.783Z"
   },
   {
    "duration": 1129,
    "start_time": "2022-09-05T19:47:10.093Z"
   },
   {
    "duration": 1107,
    "start_time": "2022-09-05T19:47:14.541Z"
   },
   {
    "duration": 1064,
    "start_time": "2022-09-05T19:47:23.059Z"
   },
   {
    "duration": 1102,
    "start_time": "2022-09-05T19:48:06.977Z"
   },
   {
    "duration": 1110,
    "start_time": "2022-09-05T19:48:31.810Z"
   },
   {
    "duration": 1084,
    "start_time": "2022-09-05T19:48:39.436Z"
   },
   {
    "duration": 8,
    "start_time": "2022-09-05T19:48:57.511Z"
   },
   {
    "duration": 6,
    "start_time": "2022-09-05T19:49:14.111Z"
   },
   {
    "duration": 1211,
    "start_time": "2022-09-05T19:49:38.306Z"
   },
   {
    "duration": 17,
    "start_time": "2022-09-05T19:52:12.094Z"
   },
   {
    "duration": 44,
    "start_time": "2022-09-05T19:52:16.105Z"
   },
   {
    "duration": 6,
    "start_time": "2022-09-05T19:52:31.588Z"
   },
   {
    "duration": 15,
    "start_time": "2022-09-05T19:52:54.867Z"
   },
   {
    "duration": 7,
    "start_time": "2022-09-05T19:53:49.975Z"
   },
   {
    "duration": 15,
    "start_time": "2022-09-05T19:53:55.857Z"
   },
   {
    "duration": 27,
    "start_time": "2022-09-05T19:53:58.900Z"
   },
   {
    "duration": 1258,
    "start_time": "2022-09-05T19:54:26.115Z"
   },
   {
    "duration": 37,
    "start_time": "2022-09-05T19:54:32.828Z"
   },
   {
    "duration": 36,
    "start_time": "2022-09-05T19:54:38.536Z"
   },
   {
    "duration": 28,
    "start_time": "2022-09-05T19:54:45.384Z"
   },
   {
    "duration": 33,
    "start_time": "2022-09-05T19:55:25.223Z"
   },
   {
    "duration": 26,
    "start_time": "2022-09-05T19:56:00.467Z"
   },
   {
    "duration": 27,
    "start_time": "2022-09-05T19:56:30.157Z"
   },
   {
    "duration": 29,
    "start_time": "2022-09-05T19:56:39.977Z"
   },
   {
    "duration": 872,
    "start_time": "2022-09-05T19:56:54.792Z"
   },
   {
    "duration": 769,
    "start_time": "2022-09-05T19:57:04.780Z"
   },
   {
    "duration": 931,
    "start_time": "2022-09-05T19:57:15.063Z"
   },
   {
    "duration": 79,
    "start_time": "2022-09-05T19:57:30.272Z"
   },
   {
    "duration": 80,
    "start_time": "2022-09-05T19:57:42.110Z"
   },
   {
    "duration": 56,
    "start_time": "2022-09-05T19:57:50.664Z"
   },
   {
    "duration": 101,
    "start_time": "2022-09-05T19:57:53.382Z"
   },
   {
    "duration": 1122,
    "start_time": "2022-09-05T19:58:18.883Z"
   },
   {
    "duration": 150,
    "start_time": "2022-09-05T20:05:27.053Z"
   },
   {
    "duration": 8,
    "start_time": "2022-09-05T20:05:52.643Z"
   },
   {
    "duration": 7,
    "start_time": "2022-09-05T20:05:57.137Z"
   },
   {
    "duration": 26,
    "start_time": "2022-09-05T20:06:28.160Z"
   },
   {
    "duration": 75,
    "start_time": "2022-09-05T20:07:07.335Z"
   },
   {
    "duration": 11,
    "start_time": "2022-09-05T20:07:11.448Z"
   },
   {
    "duration": 9,
    "start_time": "2022-09-05T20:07:18.825Z"
   },
   {
    "duration": 13,
    "start_time": "2022-09-05T20:07:46.753Z"
   },
   {
    "duration": 142,
    "start_time": "2022-09-05T20:08:27.777Z"
   },
   {
    "duration": 44,
    "start_time": "2022-09-05T20:08:42.380Z"
   },
   {
    "duration": 67,
    "start_time": "2022-09-05T20:09:37.423Z"
   },
   {
    "duration": 3,
    "start_time": "2022-09-05T20:10:39.510Z"
   },
   {
    "duration": 191,
    "start_time": "2022-09-05T20:10:39.515Z"
   },
   {
    "duration": 19,
    "start_time": "2022-09-05T20:10:39.709Z"
   },
   {
    "duration": 119,
    "start_time": "2022-09-05T20:10:40.721Z"
   },
   {
    "duration": 225,
    "start_time": "2022-09-05T20:10:40.842Z"
   },
   {
    "duration": 13,
    "start_time": "2022-09-05T20:10:41.069Z"
   },
   {
    "duration": 72,
    "start_time": "2022-09-05T20:10:41.084Z"
   },
   {
    "duration": 14,
    "start_time": "2022-09-05T20:10:41.158Z"
   },
   {
    "duration": 36,
    "start_time": "2022-09-05T20:10:46.509Z"
   },
   {
    "duration": 20,
    "start_time": "2022-09-05T20:10:57.492Z"
   },
   {
    "duration": 8,
    "start_time": "2022-09-05T20:11:16.831Z"
   },
   {
    "duration": 17,
    "start_time": "2022-09-05T20:11:58.553Z"
   },
   {
    "duration": 31,
    "start_time": "2022-09-05T20:12:16.962Z"
   },
   {
    "duration": 17,
    "start_time": "2022-09-05T20:13:36.748Z"
   },
   {
    "duration": 1116,
    "start_time": "2022-09-05T20:14:43.807Z"
   },
   {
    "duration": 179,
    "start_time": "2022-09-05T20:15:04.263Z"
   },
   {
    "duration": 42,
    "start_time": "2022-09-05T20:19:29.865Z"
   },
   {
    "duration": 77,
    "start_time": "2022-09-05T20:19:40.871Z"
   },
   {
    "duration": 33,
    "start_time": "2022-09-05T20:19:47.715Z"
   },
   {
    "duration": 34,
    "start_time": "2022-09-05T20:19:54.086Z"
   },
   {
    "duration": 7,
    "start_time": "2022-09-05T20:20:00.294Z"
   },
   {
    "duration": 10,
    "start_time": "2022-09-05T20:20:07.310Z"
   },
   {
    "duration": 8,
    "start_time": "2022-09-05T20:29:19.987Z"
   },
   {
    "duration": 7,
    "start_time": "2022-09-05T20:29:25.712Z"
   },
   {
    "duration": 1147,
    "start_time": "2022-09-05T20:29:53.363Z"
   },
   {
    "duration": 7,
    "start_time": "2022-09-05T20:30:05.840Z"
   },
   {
    "duration": 69,
    "start_time": "2022-09-05T20:30:35.307Z"
   },
   {
    "duration": 9,
    "start_time": "2022-09-05T20:30:41.575Z"
   },
   {
    "duration": 10,
    "start_time": "2022-09-05T20:30:46.305Z"
   },
   {
    "duration": 8,
    "start_time": "2022-09-05T20:30:54.378Z"
   },
   {
    "duration": 11,
    "start_time": "2022-09-05T20:37:45.350Z"
   },
   {
    "duration": 19,
    "start_time": "2022-09-05T20:39:48.207Z"
   },
   {
    "duration": 4,
    "start_time": "2022-09-05T20:40:55.054Z"
   },
   {
    "duration": 15,
    "start_time": "2022-09-05T20:41:10.678Z"
   },
   {
    "duration": 12,
    "start_time": "2022-09-05T20:41:35.700Z"
   },
   {
    "duration": 33,
    "start_time": "2022-09-05T20:43:07.426Z"
   },
   {
    "duration": 108,
    "start_time": "2022-09-05T20:43:31.200Z"
   },
   {
    "duration": 12,
    "start_time": "2022-09-05T20:43:45.795Z"
   },
   {
    "duration": 11,
    "start_time": "2022-09-05T20:44:05.525Z"
   },
   {
    "duration": 13,
    "start_time": "2022-09-05T20:44:45.222Z"
   },
   {
    "duration": 15,
    "start_time": "2022-09-05T20:45:02.336Z"
   },
   {
    "duration": 31,
    "start_time": "2022-09-05T20:45:38.623Z"
   },
   {
    "duration": 18,
    "start_time": "2022-09-05T20:47:05.465Z"
   },
   {
    "duration": 10,
    "start_time": "2022-09-05T20:47:11.520Z"
   },
   {
    "duration": 7,
    "start_time": "2022-09-05T20:47:28.523Z"
   },
   {
    "duration": 11,
    "start_time": "2022-09-05T20:48:17.428Z"
   },
   {
    "duration": 15,
    "start_time": "2022-09-05T20:48:40.760Z"
   },
   {
    "duration": 13,
    "start_time": "2022-09-05T20:49:03.769Z"
   },
   {
    "duration": 26,
    "start_time": "2022-09-05T20:49:37.679Z"
   },
   {
    "duration": 56,
    "start_time": "2022-09-05T20:50:00.737Z"
   },
   {
    "duration": 95,
    "start_time": "2022-09-05T20:50:04.380Z"
   },
   {
    "duration": 28,
    "start_time": "2022-09-05T20:50:07.653Z"
   },
   {
    "duration": 951,
    "start_time": "2022-09-05T20:50:38.608Z"
   },
   {
    "duration": 6,
    "start_time": "2022-09-05T20:51:02.423Z"
   },
   {
    "duration": 8,
    "start_time": "2022-09-05T20:51:07.383Z"
   },
   {
    "duration": 102,
    "start_time": "2022-09-05T20:53:09.045Z"
   },
   {
    "duration": 28,
    "start_time": "2022-09-05T20:53:19.703Z"
   },
   {
    "duration": 27,
    "start_time": "2022-09-05T20:53:20.743Z"
   },
   {
    "duration": 7,
    "start_time": "2022-09-05T20:53:22.852Z"
   },
   {
    "duration": 1270,
    "start_time": "2022-09-05T20:54:12.851Z"
   },
   {
    "duration": 6,
    "start_time": "2022-09-05T20:54:19.851Z"
   },
   {
    "duration": 4,
    "start_time": "2022-09-05T20:54:27.228Z"
   },
   {
    "duration": 9,
    "start_time": "2022-09-05T20:54:35.346Z"
   },
   {
    "duration": 32,
    "start_time": "2022-09-05T20:56:38.097Z"
   },
   {
    "duration": 10,
    "start_time": "2022-09-05T20:56:58.926Z"
   },
   {
    "duration": 11,
    "start_time": "2022-09-05T20:58:11.959Z"
   },
   {
    "duration": 9,
    "start_time": "2022-09-05T20:58:41.108Z"
   },
   {
    "duration": 3,
    "start_time": "2022-09-05T21:00:43.817Z"
   },
   {
    "duration": 192,
    "start_time": "2022-09-05T21:00:43.822Z"
   },
   {
    "duration": 17,
    "start_time": "2022-09-05T21:00:44.015Z"
   },
   {
    "duration": 140,
    "start_time": "2022-09-05T21:00:44.034Z"
   },
   {
    "duration": 216,
    "start_time": "2022-09-05T21:00:44.176Z"
   },
   {
    "duration": 18,
    "start_time": "2022-09-05T21:00:44.394Z"
   },
   {
    "duration": 58,
    "start_time": "2022-09-05T21:00:44.413Z"
   },
   {
    "duration": 14,
    "start_time": "2022-09-05T21:00:44.473Z"
   },
   {
    "duration": 44,
    "start_time": "2022-09-05T21:00:44.489Z"
   },
   {
    "duration": 1014,
    "start_time": "2022-09-05T21:00:44.534Z"
   },
   {
    "duration": 116,
    "start_time": "2022-09-05T21:00:45.550Z"
   },
   {
    "duration": 1262,
    "start_time": "2022-09-05T21:00:45.668Z"
   },
   {
    "duration": 131,
    "start_time": "2022-09-05T21:00:46.931Z"
   },
   {
    "duration": 12,
    "start_time": "2022-09-05T21:00:47.064Z"
   },
   {
    "duration": 2,
    "start_time": "2022-09-05T21:00:47.079Z"
   },
   {
    "duration": 144,
    "start_time": "2022-09-05T21:00:47.083Z"
   },
   {
    "duration": 90,
    "start_time": "2022-09-05T21:00:47.229Z"
   },
   {
    "duration": 24,
    "start_time": "2022-09-05T21:00:47.321Z"
   },
   {
    "duration": 10,
    "start_time": "2022-09-05T21:00:47.347Z"
   },
   {
    "duration": 57,
    "start_time": "2022-09-05T21:00:47.359Z"
   },
   {
    "duration": 17,
    "start_time": "2022-09-05T21:00:47.418Z"
   },
   {
    "duration": 34,
    "start_time": "2022-09-05T21:00:47.436Z"
   },
   {
    "duration": 6,
    "start_time": "2022-09-05T21:00:47.471Z"
   },
   {
    "duration": 24,
    "start_time": "2022-09-05T21:00:47.479Z"
   },
   {
    "duration": 8,
    "start_time": "2022-09-05T21:00:47.504Z"
   },
   {
    "duration": 1142,
    "start_time": "2022-09-05T21:00:47.513Z"
   },
   {
    "duration": 184,
    "start_time": "2022-09-05T21:00:48.657Z"
   },
   {
    "duration": 7,
    "start_time": "2022-09-05T21:00:48.843Z"
   },
   {
    "duration": 12,
    "start_time": "2022-09-05T21:00:48.852Z"
   },
   {
    "duration": 19,
    "start_time": "2022-09-05T21:00:48.865Z"
   },
   {
    "duration": 2,
    "start_time": "2022-09-05T21:00:48.886Z"
   },
   {
    "duration": 23,
    "start_time": "2022-09-05T21:00:48.890Z"
   },
   {
    "duration": 11,
    "start_time": "2022-09-05T21:00:48.914Z"
   },
   {
    "duration": 31,
    "start_time": "2022-09-05T21:00:48.926Z"
   },
   {
    "duration": 7,
    "start_time": "2022-09-05T21:00:48.959Z"
   },
   {
    "duration": 7,
    "start_time": "2022-09-05T21:00:48.968Z"
   },
   {
    "duration": 74,
    "start_time": "2022-09-05T21:00:48.977Z"
   },
   {
    "duration": 204,
    "start_time": "2022-09-05T21:03:09.865Z"
   },
   {
    "duration": 9,
    "start_time": "2022-09-05T21:03:25.302Z"
   },
   {
    "duration": 18,
    "start_time": "2022-09-05T21:03:33.481Z"
   },
   {
    "duration": 18,
    "start_time": "2022-09-05T21:04:08.315Z"
   },
   {
    "duration": 17,
    "start_time": "2022-09-05T21:04:18.938Z"
   },
   {
    "duration": 21,
    "start_time": "2022-09-05T21:04:27.193Z"
   },
   {
    "duration": 8,
    "start_time": "2022-09-05T21:04:55.949Z"
   },
   {
    "duration": 8,
    "start_time": "2022-09-05T21:07:13.519Z"
   },
   {
    "duration": 411,
    "start_time": "2022-09-05T21:07:44.369Z"
   },
   {
    "duration": 16,
    "start_time": "2022-09-05T21:07:58.829Z"
   },
   {
    "duration": 7,
    "start_time": "2022-09-05T21:08:19.737Z"
   },
   {
    "duration": 56,
    "start_time": "2022-09-05T21:09:48.276Z"
   },
   {
    "duration": 0,
    "start_time": "2022-09-05T21:09:48.335Z"
   },
   {
    "duration": 0,
    "start_time": "2022-09-05T21:09:48.337Z"
   },
   {
    "duration": 0,
    "start_time": "2022-09-05T21:09:48.338Z"
   },
   {
    "duration": 0,
    "start_time": "2022-09-05T21:09:48.339Z"
   },
   {
    "duration": 0,
    "start_time": "2022-09-05T21:09:48.341Z"
   },
   {
    "duration": 0,
    "start_time": "2022-09-05T21:09:48.342Z"
   },
   {
    "duration": 0,
    "start_time": "2022-09-05T21:09:48.343Z"
   },
   {
    "duration": 0,
    "start_time": "2022-09-05T21:09:48.345Z"
   },
   {
    "duration": 0,
    "start_time": "2022-09-05T21:09:48.346Z"
   },
   {
    "duration": 0,
    "start_time": "2022-09-05T21:09:48.348Z"
   },
   {
    "duration": 0,
    "start_time": "2022-09-05T21:09:48.349Z"
   },
   {
    "duration": 1,
    "start_time": "2022-09-05T21:09:48.350Z"
   },
   {
    "duration": 0,
    "start_time": "2022-09-05T21:09:48.352Z"
   },
   {
    "duration": 0,
    "start_time": "2022-09-05T21:09:48.353Z"
   },
   {
    "duration": 0,
    "start_time": "2022-09-05T21:09:48.355Z"
   },
   {
    "duration": 0,
    "start_time": "2022-09-05T21:09:48.356Z"
   },
   {
    "duration": 1,
    "start_time": "2022-09-05T21:09:48.357Z"
   },
   {
    "duration": 0,
    "start_time": "2022-09-05T21:09:48.359Z"
   },
   {
    "duration": 0,
    "start_time": "2022-09-05T21:09:48.360Z"
   },
   {
    "duration": 0,
    "start_time": "2022-09-05T21:09:48.362Z"
   },
   {
    "duration": 0,
    "start_time": "2022-09-05T21:09:48.363Z"
   },
   {
    "duration": 93,
    "start_time": "2022-09-05T21:09:48.369Z"
   },
   {
    "duration": 0,
    "start_time": "2022-09-05T21:09:48.464Z"
   },
   {
    "duration": 0,
    "start_time": "2022-09-05T21:09:48.510Z"
   },
   {
    "duration": 0,
    "start_time": "2022-09-05T21:09:48.510Z"
   },
   {
    "duration": 0,
    "start_time": "2022-09-05T21:09:48.512Z"
   },
   {
    "duration": 0,
    "start_time": "2022-09-05T21:09:48.513Z"
   },
   {
    "duration": 0,
    "start_time": "2022-09-05T21:09:48.513Z"
   },
   {
    "duration": 0,
    "start_time": "2022-09-05T21:09:48.514Z"
   },
   {
    "duration": 0,
    "start_time": "2022-09-05T21:09:48.515Z"
   },
   {
    "duration": 1,
    "start_time": "2022-09-05T21:09:48.516Z"
   },
   {
    "duration": 0,
    "start_time": "2022-09-05T21:09:48.517Z"
   },
   {
    "duration": 0,
    "start_time": "2022-09-05T21:09:48.518Z"
   },
   {
    "duration": 0,
    "start_time": "2022-09-05T21:09:48.519Z"
   },
   {
    "duration": 0,
    "start_time": "2022-09-05T21:09:48.520Z"
   },
   {
    "duration": 0,
    "start_time": "2022-09-05T21:09:48.521Z"
   },
   {
    "duration": 0,
    "start_time": "2022-09-05T21:09:48.523Z"
   },
   {
    "duration": 0,
    "start_time": "2022-09-05T21:09:48.524Z"
   },
   {
    "duration": 0,
    "start_time": "2022-09-05T21:09:48.525Z"
   },
   {
    "duration": 657,
    "start_time": "2022-09-05T21:10:09.795Z"
   },
   {
    "duration": 3,
    "start_time": "2022-09-05T21:10:12.788Z"
   },
   {
    "duration": 923,
    "start_time": "2022-09-05T21:10:12.794Z"
   },
   {
    "duration": 40,
    "start_time": "2022-09-05T21:10:13.718Z"
   },
   {
    "duration": 0,
    "start_time": "2022-09-05T21:10:13.761Z"
   },
   {
    "duration": 0,
    "start_time": "2022-09-05T21:10:13.762Z"
   },
   {
    "duration": 0,
    "start_time": "2022-09-05T21:10:13.763Z"
   },
   {
    "duration": 0,
    "start_time": "2022-09-05T21:10:13.765Z"
   },
   {
    "duration": 0,
    "start_time": "2022-09-05T21:10:13.766Z"
   },
   {
    "duration": 0,
    "start_time": "2022-09-05T21:10:13.767Z"
   },
   {
    "duration": 0,
    "start_time": "2022-09-05T21:10:13.768Z"
   },
   {
    "duration": 0,
    "start_time": "2022-09-05T21:10:13.769Z"
   },
   {
    "duration": 0,
    "start_time": "2022-09-05T21:10:13.770Z"
   },
   {
    "duration": 0,
    "start_time": "2022-09-05T21:10:13.771Z"
   },
   {
    "duration": 0,
    "start_time": "2022-09-05T21:10:13.772Z"
   },
   {
    "duration": 0,
    "start_time": "2022-09-05T21:10:13.773Z"
   },
   {
    "duration": 0,
    "start_time": "2022-09-05T21:10:13.774Z"
   },
   {
    "duration": 0,
    "start_time": "2022-09-05T21:10:13.775Z"
   },
   {
    "duration": 0,
    "start_time": "2022-09-05T21:10:13.809Z"
   },
   {
    "duration": 0,
    "start_time": "2022-09-05T21:10:13.811Z"
   },
   {
    "duration": 0,
    "start_time": "2022-09-05T21:10:13.812Z"
   },
   {
    "duration": 0,
    "start_time": "2022-09-05T21:10:13.813Z"
   },
   {
    "duration": 0,
    "start_time": "2022-09-05T21:10:13.814Z"
   },
   {
    "duration": 0,
    "start_time": "2022-09-05T21:10:13.815Z"
   },
   {
    "duration": 0,
    "start_time": "2022-09-05T21:10:13.816Z"
   },
   {
    "duration": 0,
    "start_time": "2022-09-05T21:10:13.817Z"
   },
   {
    "duration": 0,
    "start_time": "2022-09-05T21:10:13.818Z"
   },
   {
    "duration": 0,
    "start_time": "2022-09-05T21:10:13.819Z"
   },
   {
    "duration": 0,
    "start_time": "2022-09-05T21:10:13.820Z"
   },
   {
    "duration": 0,
    "start_time": "2022-09-05T21:10:13.821Z"
   },
   {
    "duration": 0,
    "start_time": "2022-09-05T21:10:13.822Z"
   },
   {
    "duration": 0,
    "start_time": "2022-09-05T21:10:13.822Z"
   },
   {
    "duration": 0,
    "start_time": "2022-09-05T21:10:13.824Z"
   },
   {
    "duration": 0,
    "start_time": "2022-09-05T21:10:13.824Z"
   },
   {
    "duration": 0,
    "start_time": "2022-09-05T21:10:13.825Z"
   },
   {
    "duration": 0,
    "start_time": "2022-09-05T21:10:13.826Z"
   },
   {
    "duration": 0,
    "start_time": "2022-09-05T21:10:13.827Z"
   },
   {
    "duration": 0,
    "start_time": "2022-09-05T21:10:13.828Z"
   },
   {
    "duration": 0,
    "start_time": "2022-09-05T21:10:13.829Z"
   },
   {
    "duration": 0,
    "start_time": "2022-09-05T21:10:13.830Z"
   },
   {
    "duration": 0,
    "start_time": "2022-09-05T21:10:13.830Z"
   },
   {
    "duration": 3,
    "start_time": "2022-09-05T21:10:41.426Z"
   },
   {
    "duration": 230,
    "start_time": "2022-09-05T21:10:41.431Z"
   },
   {
    "duration": 17,
    "start_time": "2022-09-05T21:10:41.662Z"
   },
   {
    "duration": 150,
    "start_time": "2022-09-05T21:10:41.681Z"
   },
   {
    "duration": 217,
    "start_time": "2022-09-05T21:10:41.833Z"
   },
   {
    "duration": 13,
    "start_time": "2022-09-05T21:10:42.052Z"
   },
   {
    "duration": 238,
    "start_time": "2022-09-05T21:10:42.066Z"
   },
   {
    "duration": 15,
    "start_time": "2022-09-05T21:10:42.306Z"
   },
   {
    "duration": 36,
    "start_time": "2022-09-05T21:10:42.323Z"
   },
   {
    "duration": 1607,
    "start_time": "2022-09-05T21:10:42.361Z"
   },
   {
    "duration": 103,
    "start_time": "2022-09-05T21:10:43.970Z"
   },
   {
    "duration": 1213,
    "start_time": "2022-09-05T21:10:44.075Z"
   },
   {
    "duration": 120,
    "start_time": "2022-09-05T21:10:45.289Z"
   },
   {
    "duration": 14,
    "start_time": "2022-09-05T21:10:45.411Z"
   },
   {
    "duration": 2,
    "start_time": "2022-09-05T21:10:45.428Z"
   },
   {
    "duration": 135,
    "start_time": "2022-09-05T21:10:45.431Z"
   },
   {
    "duration": 75,
    "start_time": "2022-09-05T21:10:45.568Z"
   },
   {
    "duration": 18,
    "start_time": "2022-09-05T21:10:45.645Z"
   },
   {
    "duration": 9,
    "start_time": "2022-09-05T21:10:45.665Z"
   },
   {
    "duration": 14,
    "start_time": "2022-09-05T21:10:45.675Z"
   },
   {
    "duration": 0,
    "start_time": "2022-09-05T21:10:45.690Z"
   },
   {
    "duration": 0,
    "start_time": "2022-09-05T21:10:45.709Z"
   },
   {
    "duration": 0,
    "start_time": "2022-09-05T21:10:45.710Z"
   },
   {
    "duration": 0,
    "start_time": "2022-09-05T21:10:45.711Z"
   },
   {
    "duration": 0,
    "start_time": "2022-09-05T21:10:45.713Z"
   },
   {
    "duration": 0,
    "start_time": "2022-09-05T21:10:45.715Z"
   },
   {
    "duration": 0,
    "start_time": "2022-09-05T21:10:45.716Z"
   },
   {
    "duration": 0,
    "start_time": "2022-09-05T21:10:45.717Z"
   },
   {
    "duration": 0,
    "start_time": "2022-09-05T21:10:45.717Z"
   },
   {
    "duration": 0,
    "start_time": "2022-09-05T21:10:45.718Z"
   },
   {
    "duration": 0,
    "start_time": "2022-09-05T21:10:45.719Z"
   },
   {
    "duration": 0,
    "start_time": "2022-09-05T21:10:45.720Z"
   },
   {
    "duration": 0,
    "start_time": "2022-09-05T21:10:45.721Z"
   },
   {
    "duration": 0,
    "start_time": "2022-09-05T21:10:45.721Z"
   },
   {
    "duration": 0,
    "start_time": "2022-09-05T21:10:45.722Z"
   },
   {
    "duration": 0,
    "start_time": "2022-09-05T21:10:45.723Z"
   },
   {
    "duration": 0,
    "start_time": "2022-09-05T21:10:45.724Z"
   },
   {
    "duration": 0,
    "start_time": "2022-09-05T21:10:45.725Z"
   },
   {
    "duration": 0,
    "start_time": "2022-09-05T21:10:45.726Z"
   },
   {
    "duration": 1,
    "start_time": "2022-09-05T21:10:45.726Z"
   },
   {
    "duration": 34,
    "start_time": "2022-09-05T21:11:04.704Z"
   },
   {
    "duration": 20,
    "start_time": "2022-09-05T21:11:08.825Z"
   },
   {
    "duration": 3,
    "start_time": "2022-09-05T21:11:11.589Z"
   },
   {
    "duration": 233,
    "start_time": "2022-09-05T21:11:11.596Z"
   },
   {
    "duration": 16,
    "start_time": "2022-09-05T21:11:11.831Z"
   },
   {
    "duration": 134,
    "start_time": "2022-09-05T21:11:11.850Z"
   },
   {
    "duration": 250,
    "start_time": "2022-09-05T21:11:11.986Z"
   },
   {
    "duration": 16,
    "start_time": "2022-09-05T21:11:12.239Z"
   },
   {
    "duration": 87,
    "start_time": "2022-09-05T21:11:12.257Z"
   },
   {
    "duration": 16,
    "start_time": "2022-09-05T21:11:12.346Z"
   },
   {
    "duration": 56,
    "start_time": "2022-09-05T21:11:12.365Z"
   },
   {
    "duration": 1081,
    "start_time": "2022-09-05T21:11:12.422Z"
   },
   {
    "duration": 115,
    "start_time": "2022-09-05T21:11:13.508Z"
   },
   {
    "duration": 3,
    "start_time": "2022-09-05T21:11:15.378Z"
   },
   {
    "duration": 218,
    "start_time": "2022-09-05T21:11:15.383Z"
   },
   {
    "duration": 22,
    "start_time": "2022-09-05T21:11:15.603Z"
   },
   {
    "duration": 149,
    "start_time": "2022-09-05T21:11:15.626Z"
   },
   {
    "duration": 252,
    "start_time": "2022-09-05T21:11:15.777Z"
   },
   {
    "duration": 14,
    "start_time": "2022-09-05T21:11:16.031Z"
   },
   {
    "duration": 71,
    "start_time": "2022-09-05T21:11:16.047Z"
   },
   {
    "duration": 16,
    "start_time": "2022-09-05T21:11:16.120Z"
   },
   {
    "duration": 47,
    "start_time": "2022-09-05T21:11:16.138Z"
   },
   {
    "duration": 1060,
    "start_time": "2022-09-05T21:11:16.187Z"
   },
   {
    "duration": 128,
    "start_time": "2022-09-05T21:11:17.251Z"
   },
   {
    "duration": 1220,
    "start_time": "2022-09-05T21:11:17.381Z"
   },
   {
    "duration": 129,
    "start_time": "2022-09-05T21:11:18.603Z"
   },
   {
    "duration": 11,
    "start_time": "2022-09-05T21:11:18.734Z"
   },
   {
    "duration": 7,
    "start_time": "2022-09-05T21:11:18.747Z"
   },
   {
    "duration": 133,
    "start_time": "2022-09-05T21:11:18.755Z"
   },
   {
    "duration": 73,
    "start_time": "2022-09-05T21:11:18.890Z"
   },
   {
    "duration": 20,
    "start_time": "2022-09-05T21:11:18.965Z"
   },
   {
    "duration": 25,
    "start_time": "2022-09-05T21:11:18.986Z"
   },
   {
    "duration": 32,
    "start_time": "2022-09-05T21:11:19.013Z"
   },
   {
    "duration": 20,
    "start_time": "2022-09-05T21:11:19.047Z"
   },
   {
    "duration": 77,
    "start_time": "2022-09-05T21:11:19.070Z"
   },
   {
    "duration": 7,
    "start_time": "2022-09-05T21:11:19.149Z"
   },
   {
    "duration": 61,
    "start_time": "2022-09-05T21:11:19.158Z"
   },
   {
    "duration": 7,
    "start_time": "2022-09-05T21:11:19.221Z"
   },
   {
    "duration": 1197,
    "start_time": "2022-09-05T21:11:19.230Z"
   },
   {
    "duration": 219,
    "start_time": "2022-09-05T21:11:20.429Z"
   },
   {
    "duration": 8,
    "start_time": "2022-09-05T21:11:20.650Z"
   },
   {
    "duration": 20,
    "start_time": "2022-09-05T21:11:20.659Z"
   },
   {
    "duration": 18,
    "start_time": "2022-09-05T21:11:20.681Z"
   },
   {
    "duration": 2,
    "start_time": "2022-09-05T21:11:20.708Z"
   },
   {
    "duration": 14,
    "start_time": "2022-09-05T21:11:20.712Z"
   },
   {
    "duration": 10,
    "start_time": "2022-09-05T21:11:20.728Z"
   },
   {
    "duration": 34,
    "start_time": "2022-09-05T21:11:20.740Z"
   },
   {
    "duration": 6,
    "start_time": "2022-09-05T21:11:20.776Z"
   },
   {
    "duration": 29,
    "start_time": "2022-09-05T21:11:20.783Z"
   },
   {
    "duration": 58,
    "start_time": "2022-09-05T21:11:20.813Z"
   },
   {
    "duration": 16,
    "start_time": "2022-09-05T21:11:20.873Z"
   },
   {
    "duration": 22,
    "start_time": "2022-09-05T21:11:20.890Z"
   },
   {
    "duration": 46,
    "start_time": "2022-09-05T21:13:51.073Z"
   },
   {
    "duration": 8,
    "start_time": "2022-09-05T21:13:53.020Z"
   },
   {
    "duration": 7,
    "start_time": "2022-09-05T21:13:54.788Z"
   },
   {
    "duration": 7,
    "start_time": "2022-09-05T21:13:56.031Z"
   },
   {
    "duration": 629,
    "start_time": "2022-09-05T21:14:04.183Z"
   },
   {
    "duration": 887,
    "start_time": "2022-09-05T21:14:04.814Z"
   },
   {
    "duration": 23,
    "start_time": "2022-09-05T21:14:05.703Z"
   },
   {
    "duration": 188,
    "start_time": "2022-09-05T21:14:05.729Z"
   },
   {
    "duration": 343,
    "start_time": "2022-09-05T21:14:05.920Z"
   },
   {
    "duration": 13,
    "start_time": "2022-09-05T21:14:06.266Z"
   },
   {
    "duration": 217,
    "start_time": "2022-09-05T21:14:06.280Z"
   },
   {
    "duration": 15,
    "start_time": "2022-09-05T21:14:06.499Z"
   },
   {
    "duration": 45,
    "start_time": "2022-09-05T21:14:06.516Z"
   },
   {
    "duration": 1642,
    "start_time": "2022-09-05T21:14:06.564Z"
   },
   {
    "duration": 106,
    "start_time": "2022-09-05T21:14:08.208Z"
   },
   {
    "duration": 1259,
    "start_time": "2022-09-05T21:14:08.316Z"
   },
   {
    "duration": 131,
    "start_time": "2022-09-05T21:14:09.577Z"
   },
   {
    "duration": 15,
    "start_time": "2022-09-05T21:14:09.710Z"
   },
   {
    "duration": 4,
    "start_time": "2022-09-05T21:14:09.727Z"
   },
   {
    "duration": 134,
    "start_time": "2022-09-05T21:14:09.732Z"
   },
   {
    "duration": 72,
    "start_time": "2022-09-05T21:14:09.868Z"
   },
   {
    "duration": 20,
    "start_time": "2022-09-05T21:14:09.941Z"
   },
   {
    "duration": 8,
    "start_time": "2022-09-05T21:14:09.963Z"
   },
   {
    "duration": 57,
    "start_time": "2022-09-05T21:14:09.973Z"
   },
   {
    "duration": 35,
    "start_time": "2022-09-05T21:14:10.031Z"
   },
   {
    "duration": 82,
    "start_time": "2022-09-05T21:14:10.068Z"
   },
   {
    "duration": 6,
    "start_time": "2022-09-05T21:14:10.152Z"
   },
   {
    "duration": 70,
    "start_time": "2022-09-05T21:14:10.160Z"
   },
   {
    "duration": 9,
    "start_time": "2022-09-05T21:14:10.231Z"
   },
   {
    "duration": 1202,
    "start_time": "2022-09-05T21:14:10.242Z"
   },
   {
    "duration": 196,
    "start_time": "2022-09-05T21:14:11.446Z"
   },
   {
    "duration": 8,
    "start_time": "2022-09-05T21:14:11.646Z"
   },
   {
    "duration": 10,
    "start_time": "2022-09-05T21:14:11.656Z"
   },
   {
    "duration": 16,
    "start_time": "2022-09-05T21:14:11.668Z"
   },
   {
    "duration": 2,
    "start_time": "2022-09-05T21:14:11.708Z"
   },
   {
    "duration": 20,
    "start_time": "2022-09-05T21:14:11.712Z"
   },
   {
    "duration": 10,
    "start_time": "2022-09-05T21:14:11.733Z"
   },
   {
    "duration": 33,
    "start_time": "2022-09-05T21:14:11.745Z"
   },
   {
    "duration": 5,
    "start_time": "2022-09-05T21:14:11.779Z"
   },
   {
    "duration": 19,
    "start_time": "2022-09-05T21:14:11.786Z"
   },
   {
    "duration": 65,
    "start_time": "2022-09-05T21:14:11.807Z"
   },
   {
    "duration": 16,
    "start_time": "2022-09-05T21:14:11.873Z"
   },
   {
    "duration": 5,
    "start_time": "2022-09-05T21:14:11.890Z"
   },
   {
    "duration": 14,
    "start_time": "2022-09-05T21:14:11.897Z"
   },
   {
    "duration": 7,
    "start_time": "2022-09-05T21:14:29.086Z"
   },
   {
    "duration": 42,
    "start_time": "2022-09-05T21:14:51.028Z"
   },
   {
    "duration": 245,
    "start_time": "2022-09-05T21:15:30.418Z"
   },
   {
    "duration": 228,
    "start_time": "2022-09-05T21:15:39.167Z"
   },
   {
    "duration": 211,
    "start_time": "2022-09-05T21:16:11.833Z"
   },
   {
    "duration": 236,
    "start_time": "2022-09-05T21:16:15.568Z"
   },
   {
    "duration": 302,
    "start_time": "2022-09-05T21:16:22.481Z"
   },
   {
    "duration": 6,
    "start_time": "2022-09-05T21:18:01.333Z"
   },
   {
    "duration": 8,
    "start_time": "2022-09-05T21:18:09.692Z"
   },
   {
    "duration": 13,
    "start_time": "2022-09-05T21:18:27.979Z"
   },
   {
    "duration": 127,
    "start_time": "2022-09-05T21:18:31.732Z"
   },
   {
    "duration": 143,
    "start_time": "2022-09-05T21:18:43.227Z"
   },
   {
    "duration": 13,
    "start_time": "2022-09-05T21:20:24.049Z"
   },
   {
    "duration": 12,
    "start_time": "2022-09-05T21:20:31.274Z"
   },
   {
    "duration": 7,
    "start_time": "2022-09-05T21:20:49.325Z"
   },
   {
    "duration": 122,
    "start_time": "2022-09-05T21:22:19.758Z"
   },
   {
    "duration": 8,
    "start_time": "2022-09-05T21:22:33.639Z"
   },
   {
    "duration": 121,
    "start_time": "2022-09-05T21:22:42.163Z"
   },
   {
    "duration": 156,
    "start_time": "2022-09-05T21:23:12.624Z"
   },
   {
    "duration": 122,
    "start_time": "2022-09-05T21:23:20.983Z"
   },
   {
    "duration": 128,
    "start_time": "2022-09-05T21:23:33.999Z"
   },
   {
    "duration": 123,
    "start_time": "2022-09-05T21:24:09.027Z"
   },
   {
    "duration": 121,
    "start_time": "2022-09-05T21:24:51.443Z"
   },
   {
    "duration": 155,
    "start_time": "2022-09-05T21:25:29.899Z"
   },
   {
    "duration": 212,
    "start_time": "2022-09-05T21:25:35.719Z"
   },
   {
    "duration": 158,
    "start_time": "2022-09-05T21:25:43.393Z"
   },
   {
    "duration": 146,
    "start_time": "2022-09-05T21:25:54.254Z"
   },
   {
    "duration": 123,
    "start_time": "2022-09-05T21:26:04.248Z"
   },
   {
    "duration": 144,
    "start_time": "2022-09-05T21:26:09.917Z"
   },
   {
    "duration": 148,
    "start_time": "2022-09-05T21:26:18.496Z"
   },
   {
    "duration": 146,
    "start_time": "2022-09-05T21:26:25.488Z"
   },
   {
    "duration": 163,
    "start_time": "2022-09-05T21:26:31.718Z"
   },
   {
    "duration": 143,
    "start_time": "2022-09-05T21:26:38.898Z"
   },
   {
    "duration": 144,
    "start_time": "2022-09-05T21:26:48.035Z"
   },
   {
    "duration": 119,
    "start_time": "2022-09-05T21:26:55.475Z"
   },
   {
    "duration": 231,
    "start_time": "2022-09-05T21:28:34.679Z"
   },
   {
    "duration": 136,
    "start_time": "2022-09-05T21:28:40.503Z"
   },
   {
    "duration": 134,
    "start_time": "2022-09-05T21:29:32.662Z"
   },
   {
    "duration": 115,
    "start_time": "2022-09-05T21:29:39.380Z"
   },
   {
    "duration": 154,
    "start_time": "2022-09-05T21:29:53.232Z"
   },
   {
    "duration": 146,
    "start_time": "2022-09-05T21:29:57.583Z"
   },
   {
    "duration": 106,
    "start_time": "2022-09-05T21:35:20.501Z"
   },
   {
    "duration": 18,
    "start_time": "2022-09-05T21:35:26.707Z"
   },
   {
    "duration": 12,
    "start_time": "2022-09-05T21:36:03.333Z"
   },
   {
    "duration": 15,
    "start_time": "2022-09-05T21:36:11.762Z"
   },
   {
    "duration": 6,
    "start_time": "2022-09-05T21:36:38.950Z"
   },
   {
    "duration": 119,
    "start_time": "2022-09-05T21:37:41.262Z"
   },
   {
    "duration": 141,
    "start_time": "2022-09-05T21:37:55.579Z"
   },
   {
    "duration": 193,
    "start_time": "2022-09-05T21:38:34.433Z"
   },
   {
    "duration": 202,
    "start_time": "2022-09-05T21:38:46.360Z"
   },
   {
    "duration": 194,
    "start_time": "2022-09-05T21:38:51.379Z"
   },
   {
    "duration": 23,
    "start_time": "2022-09-05T21:39:26.393Z"
   },
   {
    "duration": 8,
    "start_time": "2022-09-05T21:40:08.352Z"
   },
   {
    "duration": 5,
    "start_time": "2022-09-05T21:40:18.526Z"
   },
   {
    "duration": 8,
    "start_time": "2022-09-05T21:40:24.795Z"
   },
   {
    "duration": 11,
    "start_time": "2022-09-05T21:40:30.219Z"
   },
   {
    "duration": 188,
    "start_time": "2022-09-05T21:40:44.710Z"
   },
   {
    "duration": 235,
    "start_time": "2022-09-05T21:40:53.099Z"
   },
   {
    "duration": 103,
    "start_time": "2022-09-05T21:40:58.442Z"
   },
   {
    "duration": 204,
    "start_time": "2022-09-05T21:41:16.817Z"
   },
   {
    "duration": 153,
    "start_time": "2022-09-05T21:41:41.568Z"
   },
   {
    "duration": 151,
    "start_time": "2022-09-05T21:42:01.547Z"
   },
   {
    "duration": 149,
    "start_time": "2022-09-05T21:42:36.692Z"
   },
   {
    "duration": 137,
    "start_time": "2022-09-05T21:43:14.720Z"
   },
   {
    "duration": 194,
    "start_time": "2022-09-05T21:44:00.251Z"
   },
   {
    "duration": 204,
    "start_time": "2022-09-05T21:44:08.962Z"
   },
   {
    "duration": 192,
    "start_time": "2022-09-05T21:44:19.729Z"
   },
   {
    "duration": 205,
    "start_time": "2022-09-05T21:44:44.609Z"
   },
   {
    "duration": 200,
    "start_time": "2022-09-05T21:45:08.855Z"
   },
   {
    "duration": 201,
    "start_time": "2022-09-05T21:45:18.835Z"
   },
   {
    "duration": 199,
    "start_time": "2022-09-05T21:45:25.065Z"
   },
   {
    "duration": 249,
    "start_time": "2022-09-05T21:45:35.850Z"
   },
   {
    "duration": 486,
    "start_time": "2022-09-05T21:45:45.792Z"
   },
   {
    "duration": 214,
    "start_time": "2022-09-05T21:46:25.311Z"
   },
   {
    "duration": 192,
    "start_time": "2022-09-05T21:47:45.995Z"
   },
   {
    "duration": 67,
    "start_time": "2022-09-05T21:48:40.006Z"
   },
   {
    "duration": 44,
    "start_time": "2022-09-05T21:48:47.645Z"
   },
   {
    "duration": 62,
    "start_time": "2022-09-05T21:49:01.909Z"
   },
   {
    "duration": 193,
    "start_time": "2022-09-05T21:49:27.776Z"
   },
   {
    "duration": 189,
    "start_time": "2022-09-05T21:49:32.735Z"
   },
   {
    "duration": 183,
    "start_time": "2022-09-05T21:49:37.944Z"
   },
   {
    "duration": 217,
    "start_time": "2022-09-05T21:50:11.204Z"
   },
   {
    "duration": 186,
    "start_time": "2022-09-05T21:50:26.950Z"
   },
   {
    "duration": 196,
    "start_time": "2022-09-05T21:50:35.727Z"
   },
   {
    "duration": 195,
    "start_time": "2022-09-05T21:51:28.174Z"
   },
   {
    "duration": 153,
    "start_time": "2022-09-05T21:52:21.876Z"
   },
   {
    "duration": 153,
    "start_time": "2022-09-05T21:53:00.810Z"
   },
   {
    "duration": 206,
    "start_time": "2022-09-05T21:53:22.769Z"
   },
   {
    "duration": 214,
    "start_time": "2022-09-05T21:53:39.909Z"
   },
   {
    "duration": 218,
    "start_time": "2022-09-05T21:53:51.217Z"
   },
   {
    "duration": 140,
    "start_time": "2022-09-05T21:54:19.322Z"
   },
   {
    "duration": 158,
    "start_time": "2022-09-05T21:54:25.755Z"
   },
   {
    "duration": 151,
    "start_time": "2022-09-05T21:54:36.279Z"
   },
   {
    "duration": 140,
    "start_time": "2022-09-05T21:54:42.525Z"
   },
   {
    "duration": 331,
    "start_time": "2022-09-05T21:54:47.211Z"
   },
   {
    "duration": 141,
    "start_time": "2022-09-05T21:54:56.323Z"
   },
   {
    "duration": 147,
    "start_time": "2022-09-05T21:55:03.948Z"
   },
   {
    "duration": 155,
    "start_time": "2022-09-05T21:55:12.840Z"
   },
   {
    "duration": 151,
    "start_time": "2022-09-05T21:55:20.204Z"
   },
   {
    "duration": 139,
    "start_time": "2022-09-05T21:55:26.518Z"
   },
   {
    "duration": 15,
    "start_time": "2022-09-05T21:56:46.617Z"
   },
   {
    "duration": 128,
    "start_time": "2022-09-05T21:57:27.861Z"
   },
   {
    "duration": 49,
    "start_time": "2022-09-05T21:57:45.159Z"
   },
   {
    "duration": 39,
    "start_time": "2022-09-05T21:57:51.788Z"
   },
   {
    "duration": 14,
    "start_time": "2022-09-05T21:58:58.345Z"
   },
   {
    "duration": 18,
    "start_time": "2022-09-05T21:59:16.363Z"
   },
   {
    "duration": 65,
    "start_time": "2022-09-05T22:00:50.830Z"
   },
   {
    "duration": 63,
    "start_time": "2022-09-05T22:01:09.025Z"
   },
   {
    "duration": 46,
    "start_time": "2022-09-05T22:01:33.407Z"
   },
   {
    "duration": 41,
    "start_time": "2022-09-05T22:01:42.273Z"
   },
   {
    "duration": 75,
    "start_time": "2022-09-05T22:02:13.095Z"
   },
   {
    "duration": 55,
    "start_time": "2022-09-05T22:02:45.539Z"
   },
   {
    "duration": 8,
    "start_time": "2022-09-05T22:03:10.942Z"
   },
   {
    "duration": 3,
    "start_time": "2022-09-05T22:03:17.723Z"
   },
   {
    "duration": 230,
    "start_time": "2022-09-05T22:03:17.728Z"
   },
   {
    "duration": 17,
    "start_time": "2022-09-05T22:03:17.960Z"
   },
   {
    "duration": 146,
    "start_time": "2022-09-05T22:03:17.978Z"
   },
   {
    "duration": 220,
    "start_time": "2022-09-05T22:03:18.125Z"
   },
   {
    "duration": 13,
    "start_time": "2022-09-05T22:03:18.348Z"
   },
   {
    "duration": 63,
    "start_time": "2022-09-05T22:03:18.363Z"
   },
   {
    "duration": 17,
    "start_time": "2022-09-05T22:03:18.428Z"
   },
   {
    "duration": 40,
    "start_time": "2022-09-05T22:03:18.447Z"
   },
   {
    "duration": 1045,
    "start_time": "2022-09-05T22:03:18.509Z"
   },
   {
    "duration": 121,
    "start_time": "2022-09-05T22:03:19.556Z"
   },
   {
    "duration": 1276,
    "start_time": "2022-09-05T22:03:19.679Z"
   },
   {
    "duration": 127,
    "start_time": "2022-09-05T22:03:20.957Z"
   },
   {
    "duration": 11,
    "start_time": "2022-09-05T22:03:21.086Z"
   },
   {
    "duration": 3,
    "start_time": "2022-09-05T22:03:21.108Z"
   },
   {
    "duration": 122,
    "start_time": "2022-09-05T22:03:21.112Z"
   },
   {
    "duration": 63,
    "start_time": "2022-09-05T22:03:21.236Z"
   },
   {
    "duration": 20,
    "start_time": "2022-09-05T22:03:21.310Z"
   },
   {
    "duration": 8,
    "start_time": "2022-09-05T22:03:21.331Z"
   },
   {
    "duration": 33,
    "start_time": "2022-09-05T22:03:21.341Z"
   },
   {
    "duration": 41,
    "start_time": "2022-09-05T22:03:21.376Z"
   },
   {
    "duration": 33,
    "start_time": "2022-09-05T22:03:21.419Z"
   },
   {
    "duration": 7,
    "start_time": "2022-09-05T22:03:21.454Z"
   },
   {
    "duration": 27,
    "start_time": "2022-09-05T22:03:21.463Z"
   },
   {
    "duration": 9,
    "start_time": "2022-09-05T22:03:21.491Z"
   },
   {
    "duration": 1253,
    "start_time": "2022-09-05T22:03:21.502Z"
   },
   {
    "duration": 209,
    "start_time": "2022-09-05T22:03:22.757Z"
   },
   {
    "duration": 9,
    "start_time": "2022-09-05T22:03:22.969Z"
   },
   {
    "duration": 18,
    "start_time": "2022-09-05T22:03:22.980Z"
   },
   {
    "duration": 15,
    "start_time": "2022-09-05T22:03:23.000Z"
   },
   {
    "duration": 4,
    "start_time": "2022-09-05T22:03:23.017Z"
   },
   {
    "duration": 11,
    "start_time": "2022-09-05T22:03:23.023Z"
   },
   {
    "duration": 15,
    "start_time": "2022-09-05T22:03:23.035Z"
   },
   {
    "duration": 29,
    "start_time": "2022-09-05T22:03:23.051Z"
   },
   {
    "duration": 5,
    "start_time": "2022-09-05T22:03:23.082Z"
   },
   {
    "duration": 2,
    "start_time": "2022-09-05T22:03:23.109Z"
   },
   {
    "duration": 55,
    "start_time": "2022-09-05T22:03:23.113Z"
   },
   {
    "duration": 17,
    "start_time": "2022-09-05T22:03:23.169Z"
   },
   {
    "duration": 26,
    "start_time": "2022-09-05T22:03:23.187Z"
   },
   {
    "duration": 232,
    "start_time": "2022-09-05T22:03:23.215Z"
   },
   {
    "duration": 162,
    "start_time": "2022-09-05T22:03:23.449Z"
   },
   {
    "duration": 198,
    "start_time": "2022-09-05T22:03:23.615Z"
   },
   {
    "duration": 16,
    "start_time": "2022-09-05T22:03:23.815Z"
   },
   {
    "duration": 230,
    "start_time": "2022-09-05T22:03:23.833Z"
   },
   {
    "duration": 17,
    "start_time": "2022-09-05T22:03:24.064Z"
   },
   {
    "duration": 231,
    "start_time": "2022-09-05T22:03:24.083Z"
   },
   {
    "duration": 52,
    "start_time": "2022-09-05T22:03:24.316Z"
   },
   {
    "duration": 8,
    "start_time": "2022-09-05T22:03:24.369Z"
   },
   {
    "duration": 7,
    "start_time": "2022-09-05T22:03:34.273Z"
   },
   {
    "duration": 7,
    "start_time": "2022-09-05T22:03:39.236Z"
   },
   {
    "duration": 118,
    "start_time": "2022-09-05T22:03:42.527Z"
   },
   {
    "duration": 621,
    "start_time": "2022-09-05T22:06:16.434Z"
   },
   {
    "duration": 901,
    "start_time": "2022-09-05T22:06:17.058Z"
   },
   {
    "duration": 21,
    "start_time": "2022-09-05T22:06:17.960Z"
   },
   {
    "duration": 156,
    "start_time": "2022-09-05T22:06:17.983Z"
   },
   {
    "duration": 299,
    "start_time": "2022-09-05T22:06:18.142Z"
   },
   {
    "duration": 12,
    "start_time": "2022-09-05T22:06:18.443Z"
   },
   {
    "duration": 206,
    "start_time": "2022-09-05T22:06:18.456Z"
   },
   {
    "duration": 16,
    "start_time": "2022-09-05T22:06:18.663Z"
   },
   {
    "duration": 50,
    "start_time": "2022-09-05T22:06:18.681Z"
   },
   {
    "duration": 1588,
    "start_time": "2022-09-05T22:06:18.733Z"
   },
   {
    "duration": 101,
    "start_time": "2022-09-05T22:06:20.323Z"
   },
   {
    "duration": 1185,
    "start_time": "2022-09-05T22:06:20.426Z"
   },
   {
    "duration": 118,
    "start_time": "2022-09-05T22:06:21.613Z"
   },
   {
    "duration": 12,
    "start_time": "2022-09-05T22:06:21.733Z"
   },
   {
    "duration": 2,
    "start_time": "2022-09-05T22:06:21.747Z"
   },
   {
    "duration": 128,
    "start_time": "2022-09-05T22:06:21.750Z"
   },
   {
    "duration": 70,
    "start_time": "2022-09-05T22:06:21.880Z"
   },
   {
    "duration": 18,
    "start_time": "2022-09-05T22:06:21.952Z"
   },
   {
    "duration": 8,
    "start_time": "2022-09-05T22:06:21.971Z"
   },
   {
    "duration": 47,
    "start_time": "2022-09-05T22:06:21.980Z"
   },
   {
    "duration": 16,
    "start_time": "2022-09-05T22:06:22.028Z"
   },
   {
    "duration": 76,
    "start_time": "2022-09-05T22:06:22.046Z"
   },
   {
    "duration": 7,
    "start_time": "2022-09-05T22:06:22.123Z"
   },
   {
    "duration": 62,
    "start_time": "2022-09-05T22:06:22.131Z"
   },
   {
    "duration": 8,
    "start_time": "2022-09-05T22:06:22.194Z"
   },
   {
    "duration": 1171,
    "start_time": "2022-09-05T22:06:22.203Z"
   },
   {
    "duration": 195,
    "start_time": "2022-09-05T22:06:23.376Z"
   },
   {
    "duration": 8,
    "start_time": "2022-09-05T22:06:23.574Z"
   },
   {
    "duration": 11,
    "start_time": "2022-09-05T22:06:23.584Z"
   },
   {
    "duration": 15,
    "start_time": "2022-09-05T22:06:23.608Z"
   },
   {
    "duration": 2,
    "start_time": "2022-09-05T22:06:23.624Z"
   },
   {
    "duration": 10,
    "start_time": "2022-09-05T22:06:23.628Z"
   },
   {
    "duration": 9,
    "start_time": "2022-09-05T22:06:23.640Z"
   },
   {
    "duration": 34,
    "start_time": "2022-09-05T22:06:23.651Z"
   },
   {
    "duration": 24,
    "start_time": "2022-09-05T22:06:23.686Z"
   },
   {
    "duration": 2,
    "start_time": "2022-09-05T22:06:23.712Z"
   },
   {
    "duration": 54,
    "start_time": "2022-09-05T22:06:23.715Z"
   },
   {
    "duration": 15,
    "start_time": "2022-09-05T22:06:23.771Z"
   },
   {
    "duration": 6,
    "start_time": "2022-09-05T22:06:23.808Z"
   },
   {
    "duration": 231,
    "start_time": "2022-09-05T22:06:23.815Z"
   },
   {
    "duration": 145,
    "start_time": "2022-09-05T22:06:24.047Z"
   },
   {
    "duration": 185,
    "start_time": "2022-09-05T22:06:24.193Z"
   },
   {
    "duration": 14,
    "start_time": "2022-09-05T22:06:24.380Z"
   },
   {
    "duration": 256,
    "start_time": "2022-09-05T22:06:24.396Z"
   },
   {
    "duration": 14,
    "start_time": "2022-09-05T22:06:24.654Z"
   },
   {
    "duration": 212,
    "start_time": "2022-09-05T22:06:24.669Z"
   },
   {
    "duration": 61,
    "start_time": "2022-09-05T22:06:24.883Z"
   },
   {
    "duration": 123,
    "start_time": "2022-09-05T22:06:24.945Z"
   },
   {
    "duration": 605,
    "start_time": "2022-09-05T22:13:15.635Z"
   },
   {
    "duration": 903,
    "start_time": "2022-09-05T22:13:16.242Z"
   },
   {
    "duration": 23,
    "start_time": "2022-09-05T22:13:17.148Z"
   },
   {
    "duration": 183,
    "start_time": "2022-09-05T22:13:17.174Z"
   },
   {
    "duration": 284,
    "start_time": "2022-09-05T22:13:17.359Z"
   },
   {
    "duration": 11,
    "start_time": "2022-09-05T22:13:17.645Z"
   },
   {
    "duration": 208,
    "start_time": "2022-09-05T22:13:17.658Z"
   },
   {
    "duration": 14,
    "start_time": "2022-09-05T22:13:17.868Z"
   },
   {
    "duration": 35,
    "start_time": "2022-09-05T22:13:17.884Z"
   },
   {
    "duration": 1563,
    "start_time": "2022-09-05T22:13:17.921Z"
   },
   {
    "duration": 103,
    "start_time": "2022-09-05T22:13:19.486Z"
   },
   {
    "duration": 1197,
    "start_time": "2022-09-05T22:13:19.590Z"
   },
   {
    "duration": 121,
    "start_time": "2022-09-05T22:13:20.788Z"
   },
   {
    "duration": 13,
    "start_time": "2022-09-05T22:13:20.911Z"
   },
   {
    "duration": 3,
    "start_time": "2022-09-05T22:13:20.926Z"
   },
   {
    "duration": 124,
    "start_time": "2022-09-05T22:13:20.931Z"
   },
   {
    "duration": 67,
    "start_time": "2022-09-05T22:13:21.057Z"
   },
   {
    "duration": 17,
    "start_time": "2022-09-05T22:13:21.125Z"
   },
   {
    "duration": 7,
    "start_time": "2022-09-05T22:13:21.144Z"
   },
   {
    "duration": 30,
    "start_time": "2022-09-05T22:13:21.153Z"
   },
   {
    "duration": 36,
    "start_time": "2022-09-05T22:13:21.185Z"
   },
   {
    "duration": 70,
    "start_time": "2022-09-05T22:13:21.223Z"
   },
   {
    "duration": 6,
    "start_time": "2022-09-05T22:13:21.295Z"
   },
   {
    "duration": 59,
    "start_time": "2022-09-05T22:13:21.303Z"
   },
   {
    "duration": 8,
    "start_time": "2022-09-05T22:13:21.363Z"
   },
   {
    "duration": 1152,
    "start_time": "2022-09-05T22:13:21.372Z"
   },
   {
    "duration": 193,
    "start_time": "2022-09-05T22:13:22.526Z"
   },
   {
    "duration": 8,
    "start_time": "2022-09-05T22:13:22.722Z"
   },
   {
    "duration": 10,
    "start_time": "2022-09-05T22:13:22.731Z"
   },
   {
    "duration": 17,
    "start_time": "2022-09-05T22:13:22.742Z"
   },
   {
    "duration": 4,
    "start_time": "2022-09-05T22:13:22.760Z"
   },
   {
    "duration": 19,
    "start_time": "2022-09-05T22:13:22.765Z"
   },
   {
    "duration": 10,
    "start_time": "2022-09-05T22:13:22.786Z"
   },
   {
    "duration": 25,
    "start_time": "2022-09-05T22:13:22.809Z"
   },
   {
    "duration": 5,
    "start_time": "2022-09-05T22:13:22.835Z"
   },
   {
    "duration": 7,
    "start_time": "2022-09-05T22:13:22.841Z"
   },
   {
    "duration": 68,
    "start_time": "2022-09-05T22:13:22.849Z"
   },
   {
    "duration": 15,
    "start_time": "2022-09-05T22:13:22.918Z"
   },
   {
    "duration": 5,
    "start_time": "2022-09-05T22:13:22.935Z"
   },
   {
    "duration": 249,
    "start_time": "2022-09-05T22:13:22.941Z"
   },
   {
    "duration": 147,
    "start_time": "2022-09-05T22:13:23.192Z"
   },
   {
    "duration": 186,
    "start_time": "2022-09-05T22:13:23.341Z"
   },
   {
    "duration": 15,
    "start_time": "2022-09-05T22:13:23.529Z"
   },
   {
    "duration": 269,
    "start_time": "2022-09-05T22:13:23.545Z"
   },
   {
    "duration": 15,
    "start_time": "2022-09-05T22:13:23.816Z"
   },
   {
    "duration": 205,
    "start_time": "2022-09-05T22:13:23.832Z"
   },
   {
    "duration": 52,
    "start_time": "2022-09-05T22:13:24.039Z"
   },
   {
    "duration": 125,
    "start_time": "2022-09-05T22:13:24.093Z"
   },
   {
    "duration": 119,
    "start_time": "2022-09-05T22:13:48.095Z"
   },
   {
    "duration": 126,
    "start_time": "2022-09-05T22:13:51.781Z"
   },
   {
    "duration": 141,
    "start_time": "2022-09-05T22:13:55.445Z"
   },
   {
    "duration": 129,
    "start_time": "2022-09-05T22:13:58.884Z"
   },
   {
    "duration": 129,
    "start_time": "2022-09-05T22:14:11.107Z"
   },
   {
    "duration": 13,
    "start_time": "2022-09-05T22:16:08.763Z"
   },
   {
    "duration": 20,
    "start_time": "2022-09-05T22:22:25.552Z"
   },
   {
    "duration": 26,
    "start_time": "2022-09-05T22:22:45.419Z"
   },
   {
    "duration": 9,
    "start_time": "2022-09-05T22:24:17.102Z"
   },
   {
    "duration": 63,
    "start_time": "2022-09-05T22:24:35.439Z"
   },
   {
    "duration": 6,
    "start_time": "2022-09-05T22:24:39.477Z"
   },
   {
    "duration": 1269,
    "start_time": "2022-09-05T22:25:22.855Z"
   },
   {
    "duration": 1298,
    "start_time": "2022-09-05T22:25:51.250Z"
   },
   {
    "duration": 1280,
    "start_time": "2022-09-05T22:25:55.332Z"
   },
   {
    "duration": 501,
    "start_time": "2022-09-05T22:26:28.446Z"
   },
   {
    "duration": 479,
    "start_time": "2022-09-05T22:26:50.167Z"
   },
   {
    "duration": 508,
    "start_time": "2022-09-05T22:27:08.901Z"
   },
   {
    "duration": 496,
    "start_time": "2022-09-05T22:27:17.243Z"
   },
   {
    "duration": 480,
    "start_time": "2022-09-05T22:27:22.031Z"
   },
   {
    "duration": 8,
    "start_time": "2022-09-05T22:28:47.809Z"
   },
   {
    "duration": 722,
    "start_time": "2022-09-06T02:17:46.265Z"
   },
   {
    "duration": 1020,
    "start_time": "2022-09-06T02:17:46.989Z"
   },
   {
    "duration": 29,
    "start_time": "2022-09-06T02:17:48.011Z"
   },
   {
    "duration": 243,
    "start_time": "2022-09-06T02:17:48.042Z"
   },
   {
    "duration": 408,
    "start_time": "2022-09-06T02:17:48.288Z"
   },
   {
    "duration": 22,
    "start_time": "2022-09-06T02:17:48.697Z"
   },
   {
    "duration": 203,
    "start_time": "2022-09-06T02:17:48.720Z"
   },
   {
    "duration": 17,
    "start_time": "2022-09-06T02:17:48.925Z"
   },
   {
    "duration": 74,
    "start_time": "2022-09-06T02:17:48.945Z"
   },
   {
    "duration": 1944,
    "start_time": "2022-09-06T02:17:49.020Z"
   },
   {
    "duration": 115,
    "start_time": "2022-09-06T02:17:50.966Z"
   },
   {
    "duration": 1400,
    "start_time": "2022-09-06T02:17:51.083Z"
   },
   {
    "duration": 148,
    "start_time": "2022-09-06T02:17:52.485Z"
   },
   {
    "duration": 15,
    "start_time": "2022-09-06T02:17:52.636Z"
   },
   {
    "duration": 2,
    "start_time": "2022-09-06T02:17:52.653Z"
   },
   {
    "duration": 179,
    "start_time": "2022-09-06T02:17:52.657Z"
   },
   {
    "duration": 82,
    "start_time": "2022-09-06T02:17:52.838Z"
   },
   {
    "duration": 22,
    "start_time": "2022-09-06T02:17:52.922Z"
   },
   {
    "duration": 9,
    "start_time": "2022-09-06T02:17:52.946Z"
   },
   {
    "duration": 58,
    "start_time": "2022-09-06T02:17:52.957Z"
   },
   {
    "duration": 20,
    "start_time": "2022-09-06T02:17:53.017Z"
   },
   {
    "duration": 80,
    "start_time": "2022-09-06T02:17:53.039Z"
   },
   {
    "duration": 7,
    "start_time": "2022-09-06T02:17:53.120Z"
   },
   {
    "duration": 64,
    "start_time": "2022-09-06T02:17:53.129Z"
   },
   {
    "duration": 8,
    "start_time": "2022-09-06T02:17:53.195Z"
   },
   {
    "duration": 2,
    "start_time": "2022-09-06T02:17:58.834Z"
   },
   {
    "duration": 213,
    "start_time": "2022-09-06T02:17:58.838Z"
   },
   {
    "duration": 19,
    "start_time": "2022-09-06T02:17:59.052Z"
   },
   {
    "duration": 151,
    "start_time": "2022-09-06T02:17:59.073Z"
   },
   {
    "duration": 238,
    "start_time": "2022-09-06T02:17:59.226Z"
   },
   {
    "duration": 13,
    "start_time": "2022-09-06T02:17:59.466Z"
   },
   {
    "duration": 72,
    "start_time": "2022-09-06T02:17:59.481Z"
   },
   {
    "duration": 16,
    "start_time": "2022-09-06T02:17:59.554Z"
   },
   {
    "duration": 51,
    "start_time": "2022-09-06T02:17:59.572Z"
   },
   {
    "duration": 1131,
    "start_time": "2022-09-06T02:17:59.625Z"
   },
   {
    "duration": 121,
    "start_time": "2022-09-06T02:18:00.758Z"
   },
   {
    "duration": 1392,
    "start_time": "2022-09-06T02:18:00.881Z"
   },
   {
    "duration": 144,
    "start_time": "2022-09-06T02:18:02.275Z"
   },
   {
    "duration": 13,
    "start_time": "2022-09-06T02:18:02.421Z"
   },
   {
    "duration": 14,
    "start_time": "2022-09-06T02:18:02.435Z"
   },
   {
    "duration": 152,
    "start_time": "2022-09-06T02:18:02.450Z"
   },
   {
    "duration": 77,
    "start_time": "2022-09-06T02:18:02.603Z"
   },
   {
    "duration": 34,
    "start_time": "2022-09-06T02:18:02.681Z"
   },
   {
    "duration": 10,
    "start_time": "2022-09-06T02:18:02.717Z"
   },
   {
    "duration": 49,
    "start_time": "2022-09-06T02:18:02.728Z"
   },
   {
    "duration": 33,
    "start_time": "2022-09-06T02:18:02.779Z"
   },
   {
    "duration": 55,
    "start_time": "2022-09-06T02:18:02.813Z"
   },
   {
    "duration": 7,
    "start_time": "2022-09-06T02:18:02.870Z"
   },
   {
    "duration": 52,
    "start_time": "2022-09-06T02:18:02.879Z"
   },
   {
    "duration": 15,
    "start_time": "2022-09-06T02:18:02.933Z"
   },
   {
    "duration": 1354,
    "start_time": "2022-09-06T02:18:02.950Z"
   },
   {
    "duration": 205,
    "start_time": "2022-09-06T02:18:04.310Z"
   },
   {
    "duration": 10,
    "start_time": "2022-09-06T02:18:04.517Z"
   },
   {
    "duration": 12,
    "start_time": "2022-09-06T02:18:04.528Z"
   },
   {
    "duration": 13,
    "start_time": "2022-09-06T02:18:04.542Z"
   },
   {
    "duration": 2,
    "start_time": "2022-09-06T02:18:04.557Z"
   },
   {
    "duration": 13,
    "start_time": "2022-09-06T02:18:04.561Z"
   },
   {
    "duration": 41,
    "start_time": "2022-09-06T02:18:04.576Z"
   },
   {
    "duration": 35,
    "start_time": "2022-09-06T02:18:04.619Z"
   },
   {
    "duration": 6,
    "start_time": "2022-09-06T02:18:04.656Z"
   },
   {
    "duration": 5,
    "start_time": "2022-09-06T02:18:04.664Z"
   },
   {
    "duration": 82,
    "start_time": "2022-09-06T02:18:04.671Z"
   },
   {
    "duration": 18,
    "start_time": "2022-09-06T02:18:04.755Z"
   },
   {
    "duration": 6,
    "start_time": "2022-09-06T02:18:04.775Z"
   },
   {
    "duration": 274,
    "start_time": "2022-09-06T02:18:04.783Z"
   },
   {
    "duration": 169,
    "start_time": "2022-09-06T02:18:05.059Z"
   },
   {
    "duration": 208,
    "start_time": "2022-09-06T02:18:05.230Z"
   },
   {
    "duration": 17,
    "start_time": "2022-09-06T02:18:05.441Z"
   },
   {
    "duration": 242,
    "start_time": "2022-09-06T02:18:05.460Z"
   },
   {
    "duration": 22,
    "start_time": "2022-09-06T02:18:05.704Z"
   },
   {
    "duration": 271,
    "start_time": "2022-09-06T02:18:05.728Z"
   },
   {
    "duration": 63,
    "start_time": "2022-09-06T02:18:06.001Z"
   },
   {
    "duration": 153,
    "start_time": "2022-09-06T02:18:06.065Z"
   },
   {
    "duration": 1383,
    "start_time": "2022-09-06T02:18:06.220Z"
   },
   {
    "duration": 540,
    "start_time": "2022-09-06T02:18:07.604Z"
   },
   {
    "duration": 223,
    "start_time": "2022-09-06T02:18:08.146Z"
   },
   {
    "duration": 987,
    "start_time": "2022-09-06T02:19:19.481Z"
   },
   {
    "duration": 134,
    "start_time": "2022-09-06T02:19:26.864Z"
   },
   {
    "duration": 727,
    "start_time": "2022-09-06T02:19:50.599Z"
   },
   {
    "duration": 777,
    "start_time": "2022-09-06T02:20:05.809Z"
   },
   {
    "duration": 131,
    "start_time": "2022-09-06T02:20:11.633Z"
   },
   {
    "duration": 639,
    "start_time": "2022-09-06T02:23:30.256Z"
   },
   {
    "duration": 249,
    "start_time": "2022-09-06T02:23:30.897Z"
   },
   {
    "duration": 25,
    "start_time": "2022-09-06T02:23:31.148Z"
   },
   {
    "duration": 210,
    "start_time": "2022-09-06T02:23:31.176Z"
   },
   {
    "duration": 374,
    "start_time": "2022-09-06T02:23:31.388Z"
   },
   {
    "duration": 14,
    "start_time": "2022-09-06T02:23:31.764Z"
   },
   {
    "duration": 70,
    "start_time": "2022-09-06T02:23:31.780Z"
   },
   {
    "duration": 18,
    "start_time": "2022-09-06T02:23:31.852Z"
   },
   {
    "duration": 63,
    "start_time": "2022-09-06T02:23:31.872Z"
   },
   {
    "duration": 1187,
    "start_time": "2022-09-06T02:23:31.940Z"
   },
   {
    "duration": 125,
    "start_time": "2022-09-06T02:23:33.129Z"
   },
   {
    "duration": 1386,
    "start_time": "2022-09-06T02:23:33.255Z"
   },
   {
    "duration": 151,
    "start_time": "2022-09-06T02:23:34.642Z"
   },
   {
    "duration": 20,
    "start_time": "2022-09-06T02:23:34.794Z"
   },
   {
    "duration": 3,
    "start_time": "2022-09-06T02:23:34.815Z"
   },
   {
    "duration": 147,
    "start_time": "2022-09-06T02:23:34.819Z"
   },
   {
    "duration": 83,
    "start_time": "2022-09-06T02:23:34.968Z"
   },
   {
    "duration": 23,
    "start_time": "2022-09-06T02:23:35.053Z"
   },
   {
    "duration": 10,
    "start_time": "2022-09-06T02:23:35.078Z"
   },
   {
    "duration": 38,
    "start_time": "2022-09-06T02:23:35.108Z"
   },
   {
    "duration": 21,
    "start_time": "2022-09-06T02:23:35.148Z"
   },
   {
    "duration": 35,
    "start_time": "2022-09-06T02:23:35.171Z"
   },
   {
    "duration": 7,
    "start_time": "2022-09-06T02:23:35.208Z"
   },
   {
    "duration": 27,
    "start_time": "2022-09-06T02:23:35.217Z"
   },
   {
    "duration": 9,
    "start_time": "2022-09-06T02:23:35.246Z"
   },
   {
    "duration": 1416,
    "start_time": "2022-09-06T02:23:35.256Z"
   },
   {
    "duration": 215,
    "start_time": "2022-09-06T02:23:36.674Z"
   },
   {
    "duration": 17,
    "start_time": "2022-09-06T02:23:36.893Z"
   },
   {
    "duration": 11,
    "start_time": "2022-09-06T02:23:36.912Z"
   },
   {
    "duration": 16,
    "start_time": "2022-09-06T02:23:36.925Z"
   },
   {
    "duration": 3,
    "start_time": "2022-09-06T02:23:36.943Z"
   },
   {
    "duration": 14,
    "start_time": "2022-09-06T02:23:36.947Z"
   },
   {
    "duration": 13,
    "start_time": "2022-09-06T02:23:36.963Z"
   },
   {
    "duration": 30,
    "start_time": "2022-09-06T02:23:37.008Z"
   },
   {
    "duration": 7,
    "start_time": "2022-09-06T02:23:37.039Z"
   },
   {
    "duration": 5,
    "start_time": "2022-09-06T02:23:37.047Z"
   },
   {
    "duration": 79,
    "start_time": "2022-09-06T02:23:37.054Z"
   },
   {
    "duration": 20,
    "start_time": "2022-09-06T02:23:37.136Z"
   },
   {
    "duration": 7,
    "start_time": "2022-09-06T02:23:37.159Z"
   },
   {
    "duration": 293,
    "start_time": "2022-09-06T02:23:37.168Z"
   },
   {
    "duration": 167,
    "start_time": "2022-09-06T02:23:37.463Z"
   },
   {
    "duration": 218,
    "start_time": "2022-09-06T02:23:37.631Z"
   },
   {
    "duration": 15,
    "start_time": "2022-09-06T02:23:37.851Z"
   },
   {
    "duration": 283,
    "start_time": "2022-09-06T02:23:37.868Z"
   },
   {
    "duration": 19,
    "start_time": "2022-09-06T02:23:38.153Z"
   },
   {
    "duration": 272,
    "start_time": "2022-09-06T02:23:38.175Z"
   },
   {
    "duration": 80,
    "start_time": "2022-09-06T02:23:38.449Z"
   },
   {
    "duration": 163,
    "start_time": "2022-09-06T02:23:38.531Z"
   },
   {
    "duration": 1409,
    "start_time": "2022-09-06T02:23:38.696Z"
   },
   {
    "duration": 686,
    "start_time": "2022-09-06T02:23:40.107Z"
   },
   {
    "duration": 257,
    "start_time": "2022-09-06T02:23:40.795Z"
   },
   {
    "duration": 264,
    "start_time": "2022-09-06T02:24:24.278Z"
   },
   {
    "duration": 804,
    "start_time": "2022-09-10T14:57:26.799Z"
   },
   {
    "duration": 334,
    "start_time": "2022-09-10T14:57:29.345Z"
   },
   {
    "duration": 21,
    "start_time": "2022-09-10T14:57:32.205Z"
   },
   {
    "duration": 3,
    "start_time": "2022-09-10T15:01:12.470Z"
   },
   {
    "duration": 209,
    "start_time": "2022-09-10T15:01:13.963Z"
   },
   {
    "duration": 19,
    "start_time": "2022-09-10T15:01:15.605Z"
   },
   {
    "duration": 143,
    "start_time": "2022-09-10T15:01:16.807Z"
   },
   {
    "duration": 253,
    "start_time": "2022-09-10T15:01:17.330Z"
   },
   {
    "duration": 14,
    "start_time": "2022-09-10T15:01:18.131Z"
   },
   {
    "duration": 215,
    "start_time": "2022-09-10T15:01:19.585Z"
   },
   {
    "duration": 17,
    "start_time": "2022-09-10T15:01:22.762Z"
   },
   {
    "duration": 41,
    "start_time": "2022-09-10T15:01:23.988Z"
   },
   {
    "duration": 5495,
    "start_time": "2022-09-10T15:01:25.075Z"
   },
   {
    "duration": 118,
    "start_time": "2022-09-10T15:01:30.573Z"
   },
   {
    "duration": 1319,
    "start_time": "2022-09-10T15:01:30.693Z"
   },
   {
    "duration": 144,
    "start_time": "2022-09-10T15:01:32.013Z"
   },
   {
    "duration": 16,
    "start_time": "2022-09-10T15:01:32.747Z"
   },
   {
    "duration": 3,
    "start_time": "2022-09-10T15:01:33.333Z"
   },
   {
    "duration": 142,
    "start_time": "2022-09-10T15:01:36.699Z"
   },
   {
    "duration": 66,
    "start_time": "2022-09-10T15:01:37.305Z"
   },
   {
    "duration": 20,
    "start_time": "2022-09-10T15:01:39.195Z"
   },
   {
    "duration": 9,
    "start_time": "2022-09-10T15:01:39.781Z"
   },
   {
    "duration": 34,
    "start_time": "2022-09-10T15:01:40.371Z"
   },
   {
    "duration": 19,
    "start_time": "2022-09-10T15:01:41.133Z"
   },
   {
    "duration": 78,
    "start_time": "2022-09-10T15:01:45.684Z"
   },
   {
    "duration": 9,
    "start_time": "2022-09-10T15:01:46.340Z"
   },
   {
    "duration": 81,
    "start_time": "2022-09-10T15:01:52.887Z"
   },
   {
    "duration": 8,
    "start_time": "2022-09-10T15:01:57.009Z"
   },
   {
    "duration": 1188,
    "start_time": "2022-09-10T15:01:59.801Z"
   },
   {
    "duration": 197,
    "start_time": "2022-09-10T15:02:00.990Z"
   },
   {
    "duration": 9,
    "start_time": "2022-09-10T15:02:04.116Z"
   },
   {
    "duration": 9,
    "start_time": "2022-09-10T15:02:04.816Z"
   },
   {
    "duration": 19,
    "start_time": "2022-09-10T15:02:05.774Z"
   },
   {
    "duration": 3,
    "start_time": "2022-09-10T15:02:06.622Z"
   },
   {
    "duration": 10,
    "start_time": "2022-09-10T15:02:08.634Z"
   },
   {
    "duration": 14,
    "start_time": "2022-09-10T15:02:11.954Z"
   },
   {
    "duration": 33,
    "start_time": "2022-09-10T15:02:12.694Z"
   },
   {
    "duration": 7,
    "start_time": "2022-09-10T15:02:13.647Z"
   },
   {
    "duration": 2,
    "start_time": "2022-09-10T15:02:14.258Z"
   },
   {
    "duration": 87,
    "start_time": "2022-09-10T15:02:15.170Z"
   },
   {
    "duration": 18,
    "start_time": "2022-09-10T15:02:21.082Z"
   },
   {
    "duration": 6,
    "start_time": "2022-09-10T15:02:21.749Z"
   },
   {
    "duration": 272,
    "start_time": "2022-09-10T15:02:39.860Z"
   },
   {
    "duration": 153,
    "start_time": "2022-09-10T15:02:54.153Z"
   },
   {
    "duration": 230,
    "start_time": "2022-09-10T15:03:10.039Z"
   },
   {
    "duration": 17,
    "start_time": "2022-09-10T15:03:18.423Z"
   },
   {
    "duration": 236,
    "start_time": "2022-09-10T15:03:32.834Z"
   },
   {
    "duration": 21,
    "start_time": "2022-09-10T15:03:35.490Z"
   },
   {
    "duration": 294,
    "start_time": "2022-09-10T15:03:36.119Z"
   },
   {
    "duration": 226,
    "start_time": "2022-09-10T15:06:31.526Z"
   },
   {
    "duration": 63,
    "start_time": "2022-09-10T15:06:40.187Z"
   },
   {
    "duration": 143,
    "start_time": "2022-09-10T15:06:44.665Z"
   },
   {
    "duration": 1756,
    "start_time": "2022-09-10T15:06:54.400Z"
   },
   {
    "duration": 713,
    "start_time": "2022-09-10T15:07:01.921Z"
   },
   {
    "duration": 274,
    "start_time": "2022-09-10T15:07:06.370Z"
   },
   {
    "duration": 71,
    "start_time": "2022-09-10T15:11:03.024Z"
   },
   {
    "duration": 7,
    "start_time": "2022-09-10T15:11:19.809Z"
   },
   {
    "duration": 9,
    "start_time": "2022-09-10T15:11:24.264Z"
   },
   {
    "duration": 9,
    "start_time": "2022-09-10T15:11:39.637Z"
   },
   {
    "duration": 12,
    "start_time": "2022-09-10T15:11:49.508Z"
   },
   {
    "duration": 5,
    "start_time": "2022-09-10T15:11:58.622Z"
   },
   {
    "duration": 5,
    "start_time": "2022-09-10T15:12:03.841Z"
   },
   {
    "duration": 294,
    "start_time": "2022-09-10T15:12:17.362Z"
   },
   {
    "duration": 338,
    "start_time": "2022-09-10T15:12:24.959Z"
   },
   {
    "duration": 371,
    "start_time": "2022-09-10T15:12:39.479Z"
   },
   {
    "duration": 1550,
    "start_time": "2022-09-10T15:12:57.559Z"
   },
   {
    "duration": 7,
    "start_time": "2022-09-10T15:13:27.077Z"
   },
   {
    "duration": 8,
    "start_time": "2022-09-10T15:13:32.378Z"
   },
   {
    "duration": 273,
    "start_time": "2022-09-10T15:13:52.240Z"
   },
   {
    "duration": 464,
    "start_time": "2022-09-10T15:13:59.044Z"
   },
   {
    "duration": 11,
    "start_time": "2022-09-10T15:14:35.299Z"
   },
   {
    "duration": 16,
    "start_time": "2022-09-10T15:14:45.498Z"
   },
   {
    "duration": 130,
    "start_time": "2022-09-10T15:15:17.242Z"
   },
   {
    "duration": 13,
    "start_time": "2022-09-10T15:15:44.061Z"
   },
   {
    "duration": 11,
    "start_time": "2022-09-10T15:15:52.895Z"
   },
   {
    "duration": 11,
    "start_time": "2022-09-10T15:16:01.997Z"
   },
   {
    "duration": 11,
    "start_time": "2022-09-10T15:16:12.453Z"
   },
   {
    "duration": 10,
    "start_time": "2022-09-10T15:16:21.092Z"
   },
   {
    "duration": 11,
    "start_time": "2022-09-10T15:16:27.868Z"
   },
   {
    "duration": 8,
    "start_time": "2022-09-10T15:16:37.823Z"
   },
   {
    "duration": 825,
    "start_time": "2022-09-10T15:17:15.395Z"
   },
   {
    "duration": 762,
    "start_time": "2022-09-10T15:17:30.728Z"
   },
   {
    "duration": 739,
    "start_time": "2022-09-10T15:18:27.764Z"
   },
   {
    "duration": 12,
    "start_time": "2022-09-10T15:18:46.461Z"
   },
   {
    "duration": 8,
    "start_time": "2022-09-10T15:18:50.369Z"
   },
   {
    "duration": 21,
    "start_time": "2022-09-10T15:18:59.744Z"
   },
   {
    "duration": 865,
    "start_time": "2022-09-10T15:19:55.517Z"
   },
   {
    "duration": 362,
    "start_time": "2022-09-10T15:20:01.351Z"
   },
   {
    "duration": 274,
    "start_time": "2022-09-10T15:20:07.760Z"
   },
   {
    "duration": 279,
    "start_time": "2022-09-10T15:21:25.738Z"
   },
   {
    "duration": 626,
    "start_time": "2022-09-10T15:22:51.414Z"
   },
   {
    "duration": 142,
    "start_time": "2022-09-10T15:23:51.673Z"
   },
   {
    "duration": 125,
    "start_time": "2022-09-10T15:24:06.295Z"
   },
   {
    "duration": 126,
    "start_time": "2022-09-10T15:24:19.845Z"
   },
   {
    "duration": 114,
    "start_time": "2022-09-10T15:24:28.142Z"
   },
   {
    "duration": 109,
    "start_time": "2022-09-10T15:24:50.369Z"
   },
   {
    "duration": 111,
    "start_time": "2022-09-10T15:24:56.790Z"
   },
   {
    "duration": 155,
    "start_time": "2022-09-10T15:26:11.175Z"
   },
   {
    "duration": 113,
    "start_time": "2022-09-10T15:26:23.524Z"
   },
   {
    "duration": 113,
    "start_time": "2022-09-10T15:27:09.695Z"
   },
   {
    "duration": 10,
    "start_time": "2022-09-10T15:28:40.814Z"
   },
   {
    "duration": 8,
    "start_time": "2022-09-10T15:29:14.862Z"
   },
   {
    "duration": 105,
    "start_time": "2022-09-10T15:29:21.235Z"
   },
   {
    "duration": 148,
    "start_time": "2022-09-10T15:29:22.745Z"
   },
   {
    "duration": 6,
    "start_time": "2022-09-10T15:29:24.012Z"
   },
   {
    "duration": 112,
    "start_time": "2022-09-10T15:29:30.395Z"
   },
   {
    "duration": 10,
    "start_time": "2022-09-10T15:29:40.043Z"
   },
   {
    "duration": 101,
    "start_time": "2022-09-10T15:30:58.136Z"
   },
   {
    "duration": 103,
    "start_time": "2022-09-10T15:31:13.276Z"
   },
   {
    "duration": 156,
    "start_time": "2022-09-10T15:31:21.268Z"
   },
   {
    "duration": 149,
    "start_time": "2022-09-10T15:31:31.735Z"
   },
   {
    "duration": 152,
    "start_time": "2022-09-10T15:32:04.938Z"
   },
   {
    "duration": 114,
    "start_time": "2022-09-10T15:32:17.099Z"
   },
   {
    "duration": 280,
    "start_time": "2022-09-10T15:33:31.026Z"
   },
   {
    "duration": 274,
    "start_time": "2022-09-10T15:34:05.946Z"
   },
   {
    "duration": 257,
    "start_time": "2022-09-10T15:34:12.702Z"
   },
   {
    "duration": 14,
    "start_time": "2022-09-10T15:37:35.341Z"
   },
   {
    "duration": 9,
    "start_time": "2022-09-10T15:38:53.614Z"
   },
   {
    "duration": 15,
    "start_time": "2022-09-10T15:39:53.659Z"
   },
   {
    "duration": 13,
    "start_time": "2022-09-10T15:40:01.456Z"
   },
   {
    "duration": 574,
    "start_time": "2022-09-10T15:40:31.094Z"
   },
   {
    "duration": 13,
    "start_time": "2022-09-10T15:40:45.456Z"
   },
   {
    "duration": 592,
    "start_time": "2022-09-10T15:40:49.963Z"
   },
   {
    "duration": 1198,
    "start_time": "2022-09-10T15:41:16.571Z"
   },
   {
    "duration": 1007,
    "start_time": "2022-09-10T15:41:25.063Z"
   },
   {
    "duration": 876,
    "start_time": "2022-09-10T15:41:37.300Z"
   },
   {
    "duration": 691,
    "start_time": "2022-09-10T15:43:25.287Z"
   },
   {
    "duration": 742,
    "start_time": "2022-09-10T15:43:31.249Z"
   },
   {
    "duration": 8,
    "start_time": "2022-09-10T15:43:45.742Z"
   },
   {
    "duration": 925,
    "start_time": "2022-09-10T15:43:57.645Z"
   },
   {
    "duration": 560,
    "start_time": "2022-09-10T15:44:24.953Z"
   },
   {
    "duration": 557,
    "start_time": "2022-09-10T15:44:31.407Z"
   },
   {
    "duration": 8,
    "start_time": "2022-09-10T15:44:55.738Z"
   },
   {
    "duration": 867,
    "start_time": "2022-09-10T15:45:02.804Z"
   },
   {
    "duration": 555,
    "start_time": "2022-09-10T15:45:39.545Z"
   },
   {
    "duration": 523,
    "start_time": "2022-09-10T15:45:52.266Z"
   },
   {
    "duration": 548,
    "start_time": "2022-09-10T15:46:04.679Z"
   },
   {
    "duration": 685,
    "start_time": "2022-09-10T15:48:46.748Z"
   },
   {
    "duration": 323,
    "start_time": "2022-09-10T15:48:48.438Z"
   },
   {
    "duration": 23,
    "start_time": "2022-09-10T15:48:49.941Z"
   },
   {
    "duration": 173,
    "start_time": "2022-09-10T15:48:51.094Z"
   },
   {
    "duration": 332,
    "start_time": "2022-09-10T15:48:51.414Z"
   },
   {
    "duration": 15,
    "start_time": "2022-09-10T15:48:51.793Z"
   },
   {
    "duration": 214,
    "start_time": "2022-09-10T15:48:52.411Z"
   },
   {
    "duration": 16,
    "start_time": "2022-09-10T15:48:52.822Z"
   },
   {
    "duration": 41,
    "start_time": "2022-09-10T15:48:53.195Z"
   },
   {
    "duration": 5444,
    "start_time": "2022-09-10T15:48:53.568Z"
   },
   {
    "duration": 108,
    "start_time": "2022-09-10T15:48:59.014Z"
   },
   {
    "duration": 1307,
    "start_time": "2022-09-10T15:48:59.124Z"
   },
   {
    "duration": 143,
    "start_time": "2022-09-10T15:49:00.433Z"
   },
   {
    "duration": 16,
    "start_time": "2022-09-10T15:49:00.578Z"
   },
   {
    "duration": 3,
    "start_time": "2022-09-10T15:49:00.595Z"
   },
   {
    "duration": 154,
    "start_time": "2022-09-10T15:49:00.599Z"
   },
   {
    "duration": 75,
    "start_time": "2022-09-10T15:49:00.755Z"
   },
   {
    "duration": 22,
    "start_time": "2022-09-10T15:49:00.832Z"
   },
   {
    "duration": 10,
    "start_time": "2022-09-10T15:49:00.869Z"
   },
   {
    "duration": 37,
    "start_time": "2022-09-10T15:49:00.881Z"
   },
   {
    "duration": 20,
    "start_time": "2022-09-10T15:49:00.919Z"
   },
   {
    "duration": 102,
    "start_time": "2022-09-10T15:49:00.941Z"
   },
   {
    "duration": 7,
    "start_time": "2022-09-10T15:49:01.045Z"
   },
   {
    "duration": 85,
    "start_time": "2022-09-10T15:49:01.053Z"
   },
   {
    "duration": 9,
    "start_time": "2022-09-10T15:49:01.140Z"
   },
   {
    "duration": 1346,
    "start_time": "2022-09-10T15:49:01.151Z"
   },
   {
    "duration": 213,
    "start_time": "2022-09-10T15:49:02.499Z"
   },
   {
    "duration": 8,
    "start_time": "2022-09-10T15:49:05.339Z"
   },
   {
    "duration": 9,
    "start_time": "2022-09-10T15:49:05.542Z"
   },
   {
    "duration": 13,
    "start_time": "2022-09-10T15:49:05.712Z"
   },
   {
    "duration": 3,
    "start_time": "2022-09-10T15:49:05.941Z"
   },
   {
    "duration": 12,
    "start_time": "2022-09-10T15:49:06.511Z"
   },
   {
    "duration": 14,
    "start_time": "2022-09-10T15:49:07.114Z"
   },
   {
    "duration": 28,
    "start_time": "2022-09-10T15:49:07.320Z"
   },
   {
    "duration": 7,
    "start_time": "2022-09-10T15:49:07.516Z"
   },
   {
    "duration": 3,
    "start_time": "2022-09-10T15:49:07.723Z"
   },
   {
    "duration": 52,
    "start_time": "2022-09-10T15:49:07.938Z"
   },
   {
    "duration": 17,
    "start_time": "2022-09-10T15:49:08.777Z"
   },
   {
    "duration": 6,
    "start_time": "2022-09-10T15:49:09.000Z"
   },
   {
    "duration": 273,
    "start_time": "2022-09-10T15:49:09.721Z"
   },
   {
    "duration": 168,
    "start_time": "2022-09-10T15:49:10.402Z"
   },
   {
    "duration": 205,
    "start_time": "2022-09-10T15:49:12.038Z"
   },
   {
    "duration": 17,
    "start_time": "2022-09-10T15:49:13.043Z"
   },
   {
    "duration": 253,
    "start_time": "2022-09-10T15:49:13.267Z"
   },
   {
    "duration": 17,
    "start_time": "2022-09-10T15:49:13.523Z"
   },
   {
    "duration": 287,
    "start_time": "2022-09-10T15:49:13.660Z"
   },
   {
    "duration": 64,
    "start_time": "2022-09-10T15:49:14.991Z"
   },
   {
    "duration": 155,
    "start_time": "2022-09-10T15:49:15.518Z"
   },
   {
    "duration": 1367,
    "start_time": "2022-09-10T15:49:16.746Z"
   },
   {
    "duration": 730,
    "start_time": "2022-09-10T15:49:18.115Z"
   },
   {
    "duration": 274,
    "start_time": "2022-09-10T15:49:18.847Z"
   },
   {
    "duration": 670,
    "start_time": "2022-09-10T15:49:19.123Z"
   },
   {
    "duration": 109,
    "start_time": "2022-09-10T15:49:19.794Z"
   },
   {
    "duration": 566,
    "start_time": "2022-09-10T15:49:24.380Z"
   },
   {
    "duration": 118,
    "start_time": "2022-09-10T15:49:24.949Z"
   },
   {
    "duration": 122,
    "start_time": "2022-09-10T15:49:25.636Z"
   },
   {
    "duration": 8,
    "start_time": "2022-09-10T15:49:25.842Z"
   },
   {
    "duration": 294,
    "start_time": "2022-09-10T15:49:26.072Z"
   },
   {
    "duration": 70,
    "start_time": "2022-09-10T15:49:52.438Z"
   },
   {
    "duration": 549,
    "start_time": "2022-09-10T15:49:59.004Z"
   },
   {
    "duration": 11,
    "start_time": "2022-09-10T15:49:59.582Z"
   },
   {
    "duration": 8,
    "start_time": "2022-09-10T15:50:07.547Z"
   },
   {
    "duration": 141,
    "start_time": "2022-09-10T15:50:16.790Z"
   },
   {
    "duration": 1087,
    "start_time": "2022-09-10T15:50:22.472Z"
   },
   {
    "duration": 1217,
    "start_time": "2022-09-10T15:50:33.452Z"
   },
   {
    "duration": 1163,
    "start_time": "2022-09-10T15:50:42.585Z"
   },
   {
    "duration": 1118,
    "start_time": "2022-09-10T15:50:55.009Z"
   },
   {
    "duration": 1166,
    "start_time": "2022-09-10T15:51:00.682Z"
   },
   {
    "duration": 1260,
    "start_time": "2022-09-10T15:51:20.511Z"
   },
   {
    "duration": 1236,
    "start_time": "2022-09-10T15:52:16.039Z"
   },
   {
    "duration": 49,
    "start_time": "2022-09-10T15:53:43.741Z"
   },
   {
    "duration": 7,
    "start_time": "2022-09-10T15:53:49.046Z"
   },
   {
    "duration": 696,
    "start_time": "2022-09-10T15:53:53.864Z"
   },
   {
    "duration": 228,
    "start_time": "2022-09-10T15:53:54.562Z"
   },
   {
    "duration": 22,
    "start_time": "2022-09-10T15:53:54.792Z"
   },
   {
    "duration": 194,
    "start_time": "2022-09-10T15:53:54.816Z"
   },
   {
    "duration": 317,
    "start_time": "2022-09-10T15:53:55.011Z"
   },
   {
    "duration": 14,
    "start_time": "2022-09-10T15:53:55.330Z"
   },
   {
    "duration": 64,
    "start_time": "2022-09-10T15:53:55.346Z"
   },
   {
    "duration": 16,
    "start_time": "2022-09-10T15:53:55.412Z"
   },
   {
    "duration": 59,
    "start_time": "2022-09-10T15:53:55.430Z"
   },
   {
    "duration": 1106,
    "start_time": "2022-09-10T15:53:55.493Z"
   },
   {
    "duration": 127,
    "start_time": "2022-09-10T15:53:56.601Z"
   },
   {
    "duration": 1297,
    "start_time": "2022-09-10T15:53:56.730Z"
   },
   {
    "duration": 127,
    "start_time": "2022-09-10T15:53:58.029Z"
   },
   {
    "duration": 19,
    "start_time": "2022-09-10T15:53:58.157Z"
   },
   {
    "duration": 3,
    "start_time": "2022-09-10T15:53:58.177Z"
   },
   {
    "duration": 138,
    "start_time": "2022-09-10T15:53:58.181Z"
   },
   {
    "duration": 70,
    "start_time": "2022-09-10T15:53:58.321Z"
   },
   {
    "duration": 19,
    "start_time": "2022-09-10T15:53:58.393Z"
   },
   {
    "duration": 9,
    "start_time": "2022-09-10T15:53:58.414Z"
   },
   {
    "duration": 55,
    "start_time": "2022-09-10T15:53:58.424Z"
   },
   {
    "duration": 21,
    "start_time": "2022-09-10T15:53:58.481Z"
   },
   {
    "duration": 34,
    "start_time": "2022-09-10T15:53:58.503Z"
   },
   {
    "duration": 6,
    "start_time": "2022-09-10T15:53:58.539Z"
   },
   {
    "duration": 24,
    "start_time": "2022-09-10T15:53:58.547Z"
   },
   {
    "duration": 8,
    "start_time": "2022-09-10T15:53:58.573Z"
   },
   {
    "duration": 1280,
    "start_time": "2022-09-10T15:53:58.582Z"
   },
   {
    "duration": 220,
    "start_time": "2022-09-10T15:53:59.864Z"
   },
   {
    "duration": 9,
    "start_time": "2022-09-10T15:54:00.088Z"
   },
   {
    "duration": 27,
    "start_time": "2022-09-10T15:54:00.099Z"
   },
   {
    "duration": 26,
    "start_time": "2022-09-10T15:54:00.128Z"
   },
   {
    "duration": 17,
    "start_time": "2022-09-10T15:54:00.156Z"
   },
   {
    "duration": 18,
    "start_time": "2022-09-10T15:54:00.175Z"
   },
   {
    "duration": 16,
    "start_time": "2022-09-10T15:54:00.195Z"
   },
   {
    "duration": 38,
    "start_time": "2022-09-10T15:54:00.213Z"
   },
   {
    "duration": 5,
    "start_time": "2022-09-10T15:54:00.253Z"
   },
   {
    "duration": 15,
    "start_time": "2022-09-10T15:54:00.260Z"
   },
   {
    "duration": 68,
    "start_time": "2022-09-10T15:54:00.277Z"
   },
   {
    "duration": 17,
    "start_time": "2022-09-10T15:54:00.346Z"
   },
   {
    "duration": 5,
    "start_time": "2022-09-10T15:54:00.365Z"
   },
   {
    "duration": 287,
    "start_time": "2022-09-10T15:54:00.372Z"
   },
   {
    "duration": 174,
    "start_time": "2022-09-10T15:54:00.660Z"
   },
   {
    "duration": 234,
    "start_time": "2022-09-10T15:54:00.836Z"
   },
   {
    "duration": 17,
    "start_time": "2022-09-10T15:54:01.071Z"
   },
   {
    "duration": 309,
    "start_time": "2022-09-10T15:54:01.090Z"
   },
   {
    "duration": 18,
    "start_time": "2022-09-10T15:54:01.401Z"
   },
   {
    "duration": 287,
    "start_time": "2022-09-10T15:54:01.421Z"
   },
   {
    "duration": 70,
    "start_time": "2022-09-10T15:54:01.710Z"
   },
   {
    "duration": 166,
    "start_time": "2022-09-10T15:54:01.782Z"
   },
   {
    "duration": 1371,
    "start_time": "2022-09-10T15:54:01.950Z"
   },
   {
    "duration": 723,
    "start_time": "2022-09-10T15:54:03.322Z"
   },
   {
    "duration": 276,
    "start_time": "2022-09-10T15:54:04.047Z"
   },
   {
    "duration": 686,
    "start_time": "2022-09-10T15:54:04.324Z"
   },
   {
    "duration": 45,
    "start_time": "2022-09-10T15:58:38.883Z"
   },
   {
    "duration": 678,
    "start_time": "2022-09-10T15:58:44.883Z"
   },
   {
    "duration": 328,
    "start_time": "2022-09-10T15:58:45.563Z"
   },
   {
    "duration": 3,
    "start_time": "2022-09-10T15:58:45.892Z"
   },
   {
    "duration": 24,
    "start_time": "2022-09-10T15:58:45.897Z"
   },
   {
    "duration": 174,
    "start_time": "2022-09-10T15:58:45.923Z"
   },
   {
    "duration": 309,
    "start_time": "2022-09-10T15:58:46.098Z"
   },
   {
    "duration": 13,
    "start_time": "2022-09-10T15:58:46.410Z"
   },
   {
    "duration": 227,
    "start_time": "2022-09-10T15:58:46.425Z"
   },
   {
    "duration": 21,
    "start_time": "2022-09-10T15:58:46.654Z"
   },
   {
    "duration": 53,
    "start_time": "2022-09-10T15:58:46.679Z"
   },
   {
    "duration": 5312,
    "start_time": "2022-09-10T15:58:46.734Z"
   },
   {
    "duration": 107,
    "start_time": "2022-09-10T15:58:52.048Z"
   },
   {
    "duration": 1275,
    "start_time": "2022-09-10T15:58:52.157Z"
   },
   {
    "duration": 134,
    "start_time": "2022-09-10T15:58:53.434Z"
   },
   {
    "duration": 14,
    "start_time": "2022-09-10T15:58:53.569Z"
   },
   {
    "duration": 2,
    "start_time": "2022-09-10T15:58:53.585Z"
   },
   {
    "duration": 136,
    "start_time": "2022-09-10T15:58:53.589Z"
   },
   {
    "duration": 78,
    "start_time": "2022-09-10T15:58:53.726Z"
   },
   {
    "duration": 20,
    "start_time": "2022-09-10T15:58:53.805Z"
   },
   {
    "duration": 9,
    "start_time": "2022-09-10T15:58:53.827Z"
   },
   {
    "duration": 59,
    "start_time": "2022-09-10T15:58:53.838Z"
   },
   {
    "duration": 18,
    "start_time": "2022-09-10T15:58:53.898Z"
   },
   {
    "duration": 77,
    "start_time": "2022-09-10T15:58:53.918Z"
   },
   {
    "duration": 8,
    "start_time": "2022-09-10T15:58:53.996Z"
   },
   {
    "duration": 70,
    "start_time": "2022-09-10T15:58:54.005Z"
   },
   {
    "duration": 8,
    "start_time": "2022-09-10T15:58:54.077Z"
   },
   {
    "duration": 1283,
    "start_time": "2022-09-10T15:58:54.088Z"
   },
   {
    "duration": 217,
    "start_time": "2022-09-10T15:58:55.375Z"
   },
   {
    "duration": 9,
    "start_time": "2022-09-10T15:58:55.594Z"
   },
   {
    "duration": 12,
    "start_time": "2022-09-10T15:58:55.604Z"
   },
   {
    "duration": 14,
    "start_time": "2022-09-10T15:58:55.618Z"
   },
   {
    "duration": 3,
    "start_time": "2022-09-10T15:58:55.634Z"
   },
   {
    "duration": 35,
    "start_time": "2022-09-10T15:58:55.638Z"
   },
   {
    "duration": 12,
    "start_time": "2022-09-10T15:58:55.674Z"
   },
   {
    "duration": 29,
    "start_time": "2022-09-10T15:58:55.688Z"
   },
   {
    "duration": 6,
    "start_time": "2022-09-10T15:58:55.718Z"
   },
   {
    "duration": 5,
    "start_time": "2022-09-10T15:58:55.726Z"
   },
   {
    "duration": 94,
    "start_time": "2022-09-10T15:58:55.733Z"
   },
   {
    "duration": 17,
    "start_time": "2022-09-10T15:58:55.828Z"
   },
   {
    "duration": 5,
    "start_time": "2022-09-10T15:58:55.847Z"
   },
   {
    "duration": 299,
    "start_time": "2022-09-10T15:58:55.853Z"
   },
   {
    "duration": 170,
    "start_time": "2022-09-10T15:58:56.154Z"
   },
   {
    "duration": 264,
    "start_time": "2022-09-10T15:58:56.326Z"
   },
   {
    "duration": 21,
    "start_time": "2022-09-10T15:58:56.594Z"
   },
   {
    "duration": 333,
    "start_time": "2022-09-10T15:58:56.617Z"
   },
   {
    "duration": 28,
    "start_time": "2022-09-10T15:58:56.952Z"
   },
   {
    "duration": 246,
    "start_time": "2022-09-10T15:58:56.982Z"
   },
   {
    "duration": 68,
    "start_time": "2022-09-10T15:58:57.230Z"
   },
   {
    "duration": 155,
    "start_time": "2022-09-10T15:58:57.300Z"
   },
   {
    "duration": 1334,
    "start_time": "2022-09-10T15:58:57.456Z"
   },
   {
    "duration": 729,
    "start_time": "2022-09-10T15:58:58.792Z"
   },
   {
    "duration": 303,
    "start_time": "2022-09-10T15:58:59.523Z"
   },
   {
    "duration": 696,
    "start_time": "2022-09-10T15:58:59.828Z"
   },
   {
    "duration": 677,
    "start_time": "2022-09-10T16:02:00.617Z"
   },
   {
    "duration": 391,
    "start_time": "2022-09-10T16:02:01.296Z"
   },
   {
    "duration": 5,
    "start_time": "2022-09-10T16:02:01.689Z"
   },
   {
    "duration": 53,
    "start_time": "2022-09-10T16:02:01.697Z"
   },
   {
    "duration": 191,
    "start_time": "2022-09-10T16:02:01.752Z"
   },
   {
    "duration": 343,
    "start_time": "2022-09-10T16:02:01.945Z"
   },
   {
    "duration": 16,
    "start_time": "2022-09-10T16:02:02.290Z"
   },
   {
    "duration": 208,
    "start_time": "2022-09-10T16:02:02.308Z"
   },
   {
    "duration": 16,
    "start_time": "2022-09-10T16:02:02.517Z"
   },
   {
    "duration": 38,
    "start_time": "2022-09-10T16:02:02.536Z"
   },
   {
    "duration": 5395,
    "start_time": "2022-09-10T16:02:02.576Z"
   },
   {
    "duration": 110,
    "start_time": "2022-09-10T16:02:07.973Z"
   },
   {
    "duration": 1314,
    "start_time": "2022-09-10T16:02:08.084Z"
   },
   {
    "duration": 136,
    "start_time": "2022-09-10T16:02:09.399Z"
   },
   {
    "duration": 14,
    "start_time": "2022-09-10T16:02:09.537Z"
   },
   {
    "duration": 5,
    "start_time": "2022-09-10T16:02:09.553Z"
   },
   {
    "duration": 134,
    "start_time": "2022-09-10T16:02:09.567Z"
   },
   {
    "duration": 77,
    "start_time": "2022-09-10T16:02:09.703Z"
   },
   {
    "duration": 20,
    "start_time": "2022-09-10T16:02:09.782Z"
   },
   {
    "duration": 9,
    "start_time": "2022-09-10T16:02:09.803Z"
   },
   {
    "duration": 54,
    "start_time": "2022-09-10T16:02:09.814Z"
   },
   {
    "duration": 18,
    "start_time": "2022-09-10T16:02:09.870Z"
   },
   {
    "duration": 105,
    "start_time": "2022-09-10T16:02:09.890Z"
   },
   {
    "duration": 8,
    "start_time": "2022-09-10T16:02:09.996Z"
   },
   {
    "duration": 87,
    "start_time": "2022-09-10T16:02:10.005Z"
   },
   {
    "duration": 7,
    "start_time": "2022-09-10T16:02:10.094Z"
   },
   {
    "duration": 1331,
    "start_time": "2022-09-10T16:02:10.103Z"
   },
   {
    "duration": 231,
    "start_time": "2022-09-10T16:02:11.438Z"
   },
   {
    "duration": 9,
    "start_time": "2022-09-10T16:02:11.670Z"
   },
   {
    "duration": 11,
    "start_time": "2022-09-10T16:02:11.681Z"
   },
   {
    "duration": 13,
    "start_time": "2022-09-10T16:02:11.693Z"
   },
   {
    "duration": 3,
    "start_time": "2022-09-10T16:02:11.708Z"
   },
   {
    "duration": 16,
    "start_time": "2022-09-10T16:02:11.712Z"
   },
   {
    "duration": 41,
    "start_time": "2022-09-10T16:02:11.729Z"
   },
   {
    "duration": 30,
    "start_time": "2022-09-10T16:02:11.772Z"
   },
   {
    "duration": 6,
    "start_time": "2022-09-10T16:02:11.804Z"
   },
   {
    "duration": 7,
    "start_time": "2022-09-10T16:02:11.811Z"
   },
   {
    "duration": 80,
    "start_time": "2022-09-10T16:02:11.820Z"
   },
   {
    "duration": 16,
    "start_time": "2022-09-10T16:02:11.902Z"
   },
   {
    "duration": 5,
    "start_time": "2022-09-10T16:02:11.920Z"
   },
   {
    "duration": 301,
    "start_time": "2022-09-10T16:02:11.926Z"
   },
   {
    "duration": 182,
    "start_time": "2022-09-10T16:02:12.228Z"
   },
   {
    "duration": 220,
    "start_time": "2022-09-10T16:02:12.412Z"
   },
   {
    "duration": 18,
    "start_time": "2022-09-10T16:02:12.633Z"
   },
   {
    "duration": 324,
    "start_time": "2022-09-10T16:02:12.653Z"
   },
   {
    "duration": 16,
    "start_time": "2022-09-10T16:02:12.979Z"
   },
   {
    "duration": 248,
    "start_time": "2022-09-10T16:02:12.997Z"
   },
   {
    "duration": 70,
    "start_time": "2022-09-10T16:02:13.247Z"
   },
   {
    "duration": 162,
    "start_time": "2022-09-10T16:02:13.319Z"
   },
   {
    "duration": 1321,
    "start_time": "2022-09-10T16:02:13.484Z"
   },
   {
    "duration": 733,
    "start_time": "2022-09-10T16:02:14.806Z"
   },
   {
    "duration": 290,
    "start_time": "2022-09-10T16:02:15.541Z"
   },
   {
    "duration": 723,
    "start_time": "2022-09-10T16:02:15.832Z"
   },
   {
    "duration": 50,
    "start_time": "2022-09-10T16:06:04.247Z"
   },
   {
    "duration": 665,
    "start_time": "2022-09-10T16:06:12.977Z"
   },
   {
    "duration": 342,
    "start_time": "2022-09-10T16:06:15.341Z"
   },
   {
    "duration": 3,
    "start_time": "2022-09-10T16:06:16.472Z"
   },
   {
    "duration": 24,
    "start_time": "2022-09-10T16:06:17.219Z"
   },
   {
    "duration": 172,
    "start_time": "2022-09-10T16:06:18.497Z"
   },
   {
    "duration": 323,
    "start_time": "2022-09-10T16:06:18.996Z"
   },
   {
    "duration": 15,
    "start_time": "2022-09-10T16:06:19.646Z"
   },
   {
    "duration": 220,
    "start_time": "2022-09-10T16:06:20.446Z"
   },
   {
    "duration": 17,
    "start_time": "2022-09-10T16:06:21.266Z"
   },
   {
    "duration": 42,
    "start_time": "2022-09-10T16:06:21.989Z"
   },
   {
    "duration": 5381,
    "start_time": "2022-09-10T16:06:23.040Z"
   },
   {
    "duration": 110,
    "start_time": "2022-09-10T16:06:28.423Z"
   },
   {
    "duration": 1345,
    "start_time": "2022-09-10T16:06:28.535Z"
   },
   {
    "duration": 136,
    "start_time": "2022-09-10T16:06:29.882Z"
   },
   {
    "duration": 15,
    "start_time": "2022-09-10T16:06:30.019Z"
   },
   {
    "duration": 2,
    "start_time": "2022-09-10T16:06:30.036Z"
   },
   {
    "duration": 142,
    "start_time": "2022-09-10T16:06:30.040Z"
   },
   {
    "duration": 71,
    "start_time": "2022-09-10T16:06:30.184Z"
   },
   {
    "duration": 30,
    "start_time": "2022-09-10T16:06:30.256Z"
   },
   {
    "duration": 9,
    "start_time": "2022-09-10T16:06:30.288Z"
   },
   {
    "duration": 57,
    "start_time": "2022-09-10T16:06:30.299Z"
   },
   {
    "duration": 19,
    "start_time": "2022-09-10T16:06:30.365Z"
   },
   {
    "duration": 76,
    "start_time": "2022-09-10T16:06:31.148Z"
   },
   {
    "duration": 8,
    "start_time": "2022-09-10T16:06:31.357Z"
   },
   {
    "duration": 87,
    "start_time": "2022-09-10T16:06:32.080Z"
   },
   {
    "duration": 8,
    "start_time": "2022-09-10T16:06:32.314Z"
   },
   {
    "duration": 1315,
    "start_time": "2022-09-10T16:06:33.296Z"
   },
   {
    "duration": 217,
    "start_time": "2022-09-10T16:06:34.612Z"
   },
   {
    "duration": 9,
    "start_time": "2022-09-10T16:06:34.830Z"
   },
   {
    "duration": 24,
    "start_time": "2022-09-10T16:06:34.841Z"
   },
   {
    "duration": 13,
    "start_time": "2022-09-10T16:06:34.975Z"
   },
   {
    "duration": 3,
    "start_time": "2022-09-10T16:06:35.219Z"
   },
   {
    "duration": 9,
    "start_time": "2022-09-10T16:06:35.988Z"
   },
   {
    "duration": 15,
    "start_time": "2022-09-10T16:06:36.766Z"
   },
   {
    "duration": 27,
    "start_time": "2022-09-10T16:06:37.016Z"
   },
   {
    "duration": 6,
    "start_time": "2022-09-10T16:06:37.251Z"
   },
   {
    "duration": 3,
    "start_time": "2022-09-10T16:06:37.492Z"
   },
   {
    "duration": 55,
    "start_time": "2022-09-10T16:06:37.754Z"
   },
   {
    "duration": 19,
    "start_time": "2022-09-10T16:06:38.738Z"
   },
   {
    "duration": 7,
    "start_time": "2022-09-10T16:06:38.993Z"
   },
   {
    "duration": 270,
    "start_time": "2022-09-10T16:06:39.930Z"
   },
   {
    "duration": 161,
    "start_time": "2022-09-10T16:06:40.887Z"
   },
   {
    "duration": 208,
    "start_time": "2022-09-10T16:06:42.007Z"
   },
   {
    "duration": 17,
    "start_time": "2022-09-10T16:06:43.093Z"
   },
   {
    "duration": 241,
    "start_time": "2022-09-10T16:06:43.375Z"
   },
   {
    "duration": 17,
    "start_time": "2022-09-10T16:06:43.647Z"
   },
   {
    "duration": 273,
    "start_time": "2022-09-10T16:06:43.909Z"
   },
   {
    "duration": 57,
    "start_time": "2022-09-10T16:06:45.265Z"
   },
   {
    "duration": 136,
    "start_time": "2022-09-10T16:06:45.702Z"
   },
   {
    "duration": 1324,
    "start_time": "2022-09-10T16:06:46.667Z"
   },
   {
    "duration": 730,
    "start_time": "2022-09-10T16:06:47.994Z"
   },
   {
    "duration": 263,
    "start_time": "2022-09-10T16:06:48.725Z"
   },
   {
    "duration": 670,
    "start_time": "2022-09-10T16:06:48.990Z"
   },
   {
    "duration": 683,
    "start_time": "2022-09-10T16:09:54.448Z"
   },
   {
    "duration": 350,
    "start_time": "2022-09-10T16:09:55.133Z"
   },
   {
    "duration": 4,
    "start_time": "2022-09-10T16:09:55.485Z"
   },
   {
    "duration": 47,
    "start_time": "2022-09-10T16:09:55.492Z"
   },
   {
    "duration": 224,
    "start_time": "2022-09-10T16:09:55.543Z"
   },
   {
    "duration": 373,
    "start_time": "2022-09-10T16:09:55.769Z"
   },
   {
    "duration": 14,
    "start_time": "2022-09-10T16:09:56.144Z"
   },
   {
    "duration": 244,
    "start_time": "2022-09-10T16:09:56.168Z"
   },
   {
    "duration": 21,
    "start_time": "2022-09-10T16:09:56.413Z"
   },
   {
    "duration": 71,
    "start_time": "2022-09-10T16:09:56.436Z"
   },
   {
    "duration": 5557,
    "start_time": "2022-09-10T16:09:56.510Z"
   },
   {
    "duration": 121,
    "start_time": "2022-09-10T16:10:02.069Z"
   },
   {
    "duration": 1365,
    "start_time": "2022-09-10T16:10:02.192Z"
   },
   {
    "duration": 150,
    "start_time": "2022-09-10T16:10:03.561Z"
   },
   {
    "duration": 15,
    "start_time": "2022-09-10T16:10:03.713Z"
   },
   {
    "duration": 2,
    "start_time": "2022-09-10T16:10:03.730Z"
   },
   {
    "duration": 148,
    "start_time": "2022-09-10T16:10:03.734Z"
   },
   {
    "duration": 69,
    "start_time": "2022-09-10T16:10:03.883Z"
   },
   {
    "duration": 33,
    "start_time": "2022-09-10T16:10:03.954Z"
   },
   {
    "duration": 10,
    "start_time": "2022-09-10T16:10:03.988Z"
   },
   {
    "duration": 34,
    "start_time": "2022-09-10T16:10:03.999Z"
   },
   {
    "duration": 46,
    "start_time": "2022-09-10T16:10:04.034Z"
   },
   {
    "duration": 78,
    "start_time": "2022-09-10T16:10:04.081Z"
   },
   {
    "duration": 7,
    "start_time": "2022-09-10T16:10:04.161Z"
   },
   {
    "duration": 71,
    "start_time": "2022-09-10T16:10:04.169Z"
   },
   {
    "duration": 8,
    "start_time": "2022-09-10T16:10:04.241Z"
   },
   {
    "duration": 1330,
    "start_time": "2022-09-10T16:10:04.251Z"
   },
   {
    "duration": 218,
    "start_time": "2022-09-10T16:10:05.583Z"
   },
   {
    "duration": 10,
    "start_time": "2022-09-10T16:10:05.802Z"
   },
   {
    "duration": 16,
    "start_time": "2022-09-10T16:10:05.813Z"
   },
   {
    "duration": 24,
    "start_time": "2022-09-10T16:10:05.830Z"
   },
   {
    "duration": 13,
    "start_time": "2022-09-10T16:10:05.855Z"
   },
   {
    "duration": 13,
    "start_time": "2022-09-10T16:10:05.870Z"
   },
   {
    "duration": 14,
    "start_time": "2022-09-10T16:10:05.885Z"
   },
   {
    "duration": 29,
    "start_time": "2022-09-10T16:10:05.901Z"
   },
   {
    "duration": 37,
    "start_time": "2022-09-10T16:10:05.932Z"
   },
   {
    "duration": 2,
    "start_time": "2022-09-10T16:10:05.971Z"
   },
   {
    "duration": 60,
    "start_time": "2022-09-10T16:10:05.975Z"
   },
   {
    "duration": 39,
    "start_time": "2022-09-10T16:10:06.038Z"
   },
   {
    "duration": 6,
    "start_time": "2022-09-10T16:10:06.079Z"
   },
   {
    "duration": 283,
    "start_time": "2022-09-10T16:10:06.088Z"
   },
   {
    "duration": 190,
    "start_time": "2022-09-10T16:10:06.373Z"
   },
   {
    "duration": 252,
    "start_time": "2022-09-10T16:10:06.567Z"
   },
   {
    "duration": 16,
    "start_time": "2022-09-10T16:10:06.821Z"
   },
   {
    "duration": 319,
    "start_time": "2022-09-10T16:10:06.840Z"
   },
   {
    "duration": 16,
    "start_time": "2022-09-10T16:10:07.167Z"
   },
   {
    "duration": 250,
    "start_time": "2022-09-10T16:10:07.184Z"
   },
   {
    "duration": 71,
    "start_time": "2022-09-10T16:10:07.436Z"
   },
   {
    "duration": 163,
    "start_time": "2022-09-10T16:10:07.510Z"
   },
   {
    "duration": 1319,
    "start_time": "2022-09-10T16:10:07.675Z"
   },
   {
    "duration": 716,
    "start_time": "2022-09-10T16:10:08.995Z"
   },
   {
    "duration": 272,
    "start_time": "2022-09-10T16:10:09.712Z"
   },
   {
    "duration": 695,
    "start_time": "2022-09-10T16:10:09.986Z"
   },
   {
    "duration": 3,
    "start_time": "2022-09-10T16:10:10.682Z"
   },
   {
    "duration": 132,
    "start_time": "2022-09-10T16:10:10.686Z"
   },
   {
    "duration": 8,
    "start_time": "2022-09-10T16:10:10.820Z"
   },
   {
    "duration": 310,
    "start_time": "2022-09-10T16:10:10.830Z"
   },
   {
    "duration": 8,
    "start_time": "2022-09-10T16:12:18.264Z"
   },
   {
    "duration": 8,
    "start_time": "2022-09-10T16:12:22.649Z"
   },
   {
    "duration": 286,
    "start_time": "2022-09-10T16:12:23.404Z"
   },
   {
    "duration": 8,
    "start_time": "2022-09-10T16:12:33.575Z"
   },
   {
    "duration": 8,
    "start_time": "2022-09-10T16:12:34.692Z"
   },
   {
    "duration": 287,
    "start_time": "2022-09-10T16:12:35.308Z"
   },
   {
    "duration": 700,
    "start_time": "2022-09-10T16:16:21.288Z"
   },
   {
    "duration": 346,
    "start_time": "2022-09-10T16:16:21.990Z"
   },
   {
    "duration": 3,
    "start_time": "2022-09-10T16:16:22.338Z"
   },
   {
    "duration": 30,
    "start_time": "2022-09-10T16:16:22.342Z"
   },
   {
    "duration": 180,
    "start_time": "2022-09-10T16:16:22.374Z"
   },
   {
    "duration": 318,
    "start_time": "2022-09-10T16:16:22.556Z"
   },
   {
    "duration": 12,
    "start_time": "2022-09-10T16:16:22.876Z"
   },
   {
    "duration": 204,
    "start_time": "2022-09-10T16:16:22.890Z"
   },
   {
    "duration": 16,
    "start_time": "2022-09-10T16:16:23.095Z"
   },
   {
    "duration": 39,
    "start_time": "2022-09-10T16:16:23.112Z"
   },
   {
    "duration": 5433,
    "start_time": "2022-09-10T16:16:23.153Z"
   },
   {
    "duration": 104,
    "start_time": "2022-09-10T16:16:28.588Z"
   },
   {
    "duration": 1246,
    "start_time": "2022-09-10T16:16:28.694Z"
   },
   {
    "duration": 139,
    "start_time": "2022-09-10T16:16:29.943Z"
   },
   {
    "duration": 15,
    "start_time": "2022-09-10T16:16:30.083Z"
   },
   {
    "duration": 2,
    "start_time": "2022-09-10T16:16:30.100Z"
   },
   {
    "duration": 137,
    "start_time": "2022-09-10T16:16:30.104Z"
   },
   {
    "duration": 78,
    "start_time": "2022-09-10T16:16:30.243Z"
   },
   {
    "duration": 20,
    "start_time": "2022-09-10T16:16:30.322Z"
   },
   {
    "duration": 24,
    "start_time": "2022-09-10T16:16:30.344Z"
   },
   {
    "duration": 42,
    "start_time": "2022-09-10T16:16:30.370Z"
   },
   {
    "duration": 38,
    "start_time": "2022-09-10T16:16:30.415Z"
   },
   {
    "duration": 78,
    "start_time": "2022-09-10T16:16:30.455Z"
   },
   {
    "duration": 6,
    "start_time": "2022-09-10T16:16:30.535Z"
   },
   {
    "duration": 73,
    "start_time": "2022-09-10T16:16:30.543Z"
   },
   {
    "duration": 8,
    "start_time": "2022-09-10T16:16:30.618Z"
   },
   {
    "duration": 1259,
    "start_time": "2022-09-10T16:16:30.627Z"
   },
   {
    "duration": 200,
    "start_time": "2022-09-10T16:16:31.887Z"
   },
   {
    "duration": 9,
    "start_time": "2022-09-10T16:16:32.089Z"
   },
   {
    "duration": 14,
    "start_time": "2022-09-10T16:16:32.099Z"
   },
   {
    "duration": 19,
    "start_time": "2022-09-10T16:16:32.114Z"
   },
   {
    "duration": 3,
    "start_time": "2022-09-10T16:16:32.134Z"
   },
   {
    "duration": 33,
    "start_time": "2022-09-10T16:16:32.138Z"
   },
   {
    "duration": 11,
    "start_time": "2022-09-10T16:16:32.173Z"
   },
   {
    "duration": 30,
    "start_time": "2022-09-10T16:16:32.186Z"
   },
   {
    "duration": 6,
    "start_time": "2022-09-10T16:16:32.217Z"
   },
   {
    "duration": 14,
    "start_time": "2022-09-10T16:16:32.224Z"
   },
   {
    "duration": 75,
    "start_time": "2022-09-10T16:16:32.240Z"
   },
   {
    "duration": 17,
    "start_time": "2022-09-10T16:16:32.317Z"
   },
   {
    "duration": 6,
    "start_time": "2022-09-10T16:16:32.335Z"
   },
   {
    "duration": 293,
    "start_time": "2022-09-10T16:16:32.345Z"
   },
   {
    "duration": 181,
    "start_time": "2022-09-10T16:16:32.640Z"
   },
   {
    "duration": 217,
    "start_time": "2022-09-10T16:16:32.823Z"
   },
   {
    "duration": 30,
    "start_time": "2022-09-10T16:16:33.042Z"
   },
   {
    "duration": 306,
    "start_time": "2022-09-10T16:16:33.074Z"
   },
   {
    "duration": 18,
    "start_time": "2022-09-10T16:16:33.382Z"
   },
   {
    "duration": 259,
    "start_time": "2022-09-10T16:16:33.402Z"
   },
   {
    "duration": 59,
    "start_time": "2022-09-10T16:16:33.663Z"
   },
   {
    "duration": 157,
    "start_time": "2022-09-10T16:16:33.724Z"
   },
   {
    "duration": 1293,
    "start_time": "2022-09-10T16:16:33.883Z"
   },
   {
    "duration": 741,
    "start_time": "2022-09-10T16:16:35.178Z"
   },
   {
    "duration": 286,
    "start_time": "2022-09-10T16:16:35.921Z"
   },
   {
    "duration": 772,
    "start_time": "2022-09-10T16:16:36.209Z"
   },
   {
    "duration": 2,
    "start_time": "2022-09-10T16:16:36.983Z"
   },
   {
    "duration": 137,
    "start_time": "2022-09-10T16:16:36.987Z"
   },
   {
    "duration": 10,
    "start_time": "2022-09-10T16:16:37.126Z"
   },
   {
    "duration": 307,
    "start_time": "2022-09-10T16:16:37.138Z"
   },
   {
    "duration": 1218,
    "start_time": "2022-09-10T16:16:55.879Z"
   },
   {
    "duration": 579,
    "start_time": "2022-09-10T16:17:06.811Z"
   },
   {
    "duration": 3,
    "start_time": "2022-09-10T16:17:07.392Z"
   },
   {
    "duration": 1081,
    "start_time": "2022-09-10T16:17:08.832Z"
   },
   {
    "duration": 1223,
    "start_time": "2022-09-10T16:17:30.342Z"
   },
   {
    "duration": 460,
    "start_time": "2022-09-10T16:19:09.621Z"
   },
   {
    "duration": 531,
    "start_time": "2022-09-10T16:19:22.273Z"
   },
   {
    "duration": 490,
    "start_time": "2022-09-10T16:20:10.804Z"
   },
   {
    "duration": 467,
    "start_time": "2022-09-10T16:20:52.156Z"
   },
   {
    "duration": 13,
    "start_time": "2022-09-10T16:49:33.008Z"
   },
   {
    "duration": 17,
    "start_time": "2022-09-10T16:49:41.534Z"
   },
   {
    "duration": 72,
    "start_time": "2022-09-10T16:49:52.042Z"
   },
   {
    "duration": 8,
    "start_time": "2022-09-10T16:50:04.181Z"
   },
   {
    "duration": 11,
    "start_time": "2022-09-10T16:50:06.835Z"
   },
   {
    "duration": 10,
    "start_time": "2022-09-10T16:50:09.112Z"
   },
   {
    "duration": 3,
    "start_time": "2022-09-10T16:55:06.585Z"
   },
   {
    "duration": 235,
    "start_time": "2022-09-10T16:55:06.594Z"
   },
   {
    "duration": 2,
    "start_time": "2022-09-10T16:55:06.831Z"
   },
   {
    "duration": 38,
    "start_time": "2022-09-10T16:55:06.835Z"
   },
   {
    "duration": 141,
    "start_time": "2022-09-10T16:55:06.876Z"
   },
   {
    "duration": 305,
    "start_time": "2022-09-10T16:55:07.019Z"
   },
   {
    "duration": 14,
    "start_time": "2022-09-10T16:55:07.325Z"
   },
   {
    "duration": 65,
    "start_time": "2022-09-10T16:55:07.340Z"
   },
   {
    "duration": 16,
    "start_time": "2022-09-10T16:55:07.406Z"
   },
   {
    "duration": 59,
    "start_time": "2022-09-10T16:55:07.423Z"
   },
   {
    "duration": 988,
    "start_time": "2022-09-10T16:55:07.486Z"
   },
   {
    "duration": 111,
    "start_time": "2022-09-10T16:55:08.475Z"
   },
   {
    "duration": 1116,
    "start_time": "2022-09-10T16:55:08.587Z"
   },
   {
    "duration": 128,
    "start_time": "2022-09-10T16:55:09.705Z"
   },
   {
    "duration": 14,
    "start_time": "2022-09-10T16:55:09.834Z"
   },
   {
    "duration": 2,
    "start_time": "2022-09-10T16:55:09.849Z"
   },
   {
    "duration": 137,
    "start_time": "2022-09-10T16:55:09.853Z"
   },
   {
    "duration": 78,
    "start_time": "2022-09-10T16:55:09.992Z"
   },
   {
    "duration": 21,
    "start_time": "2022-09-10T16:55:10.072Z"
   },
   {
    "duration": 8,
    "start_time": "2022-09-10T16:55:10.095Z"
   },
   {
    "duration": 64,
    "start_time": "2022-09-10T16:55:10.105Z"
   },
   {
    "duration": 22,
    "start_time": "2022-09-10T16:55:10.171Z"
   },
   {
    "duration": 36,
    "start_time": "2022-09-10T16:55:10.195Z"
   },
   {
    "duration": 8,
    "start_time": "2022-09-10T16:55:10.233Z"
   },
   {
    "duration": 28,
    "start_time": "2022-09-10T16:55:10.243Z"
   },
   {
    "duration": 9,
    "start_time": "2022-09-10T16:55:10.273Z"
   },
   {
    "duration": 1185,
    "start_time": "2022-09-10T16:55:10.284Z"
   },
   {
    "duration": 203,
    "start_time": "2022-09-10T16:55:11.471Z"
   },
   {
    "duration": 10,
    "start_time": "2022-09-10T16:55:11.678Z"
   },
   {
    "duration": 14,
    "start_time": "2022-09-10T16:55:11.689Z"
   },
   {
    "duration": 13,
    "start_time": "2022-09-10T16:55:11.705Z"
   },
   {
    "duration": 3,
    "start_time": "2022-09-10T16:55:11.720Z"
   },
   {
    "duration": 43,
    "start_time": "2022-09-10T16:55:11.724Z"
   },
   {
    "duration": 13,
    "start_time": "2022-09-10T16:55:11.769Z"
   },
   {
    "duration": 29,
    "start_time": "2022-09-10T16:55:11.785Z"
   },
   {
    "duration": 7,
    "start_time": "2022-09-10T16:55:11.816Z"
   },
   {
    "duration": 4,
    "start_time": "2022-09-10T16:55:11.825Z"
   },
   {
    "duration": 84,
    "start_time": "2022-09-10T16:55:11.830Z"
   },
   {
    "duration": 17,
    "start_time": "2022-09-10T16:55:11.916Z"
   },
   {
    "duration": 6,
    "start_time": "2022-09-10T16:55:11.935Z"
   },
   {
    "duration": 278,
    "start_time": "2022-09-10T16:55:11.942Z"
   },
   {
    "duration": 184,
    "start_time": "2022-09-10T16:55:12.222Z"
   },
   {
    "duration": 212,
    "start_time": "2022-09-10T16:55:12.408Z"
   },
   {
    "duration": 17,
    "start_time": "2022-09-10T16:55:12.621Z"
   },
   {
    "duration": 250,
    "start_time": "2022-09-10T16:55:12.639Z"
   },
   {
    "duration": 15,
    "start_time": "2022-09-10T16:55:12.891Z"
   },
   {
    "duration": 249,
    "start_time": "2022-09-10T16:55:12.908Z"
   },
   {
    "duration": 62,
    "start_time": "2022-09-10T16:55:13.161Z"
   },
   {
    "duration": 157,
    "start_time": "2022-09-10T16:55:13.225Z"
   },
   {
    "duration": 1196,
    "start_time": "2022-09-10T16:55:13.384Z"
   },
   {
    "duration": 699,
    "start_time": "2022-09-10T16:55:14.581Z"
   },
   {
    "duration": 276,
    "start_time": "2022-09-10T16:55:15.281Z"
   },
   {
    "duration": 653,
    "start_time": "2022-09-10T16:55:15.559Z"
   },
   {
    "duration": 3,
    "start_time": "2022-09-10T16:55:16.213Z"
   },
   {
    "duration": 1252,
    "start_time": "2022-09-10T16:55:16.217Z"
   },
   {
    "duration": 602,
    "start_time": "2022-09-10T16:55:17.472Z"
   },
   {
    "duration": 132,
    "start_time": "2022-09-10T16:55:18.076Z"
   },
   {
    "duration": 8,
    "start_time": "2022-09-10T16:55:18.210Z"
   },
   {
    "duration": 296,
    "start_time": "2022-09-10T16:55:18.220Z"
   },
   {
    "duration": 8,
    "start_time": "2022-09-10T16:55:18.518Z"
   },
   {
    "duration": 12,
    "start_time": "2022-09-10T16:55:28.868Z"
   },
   {
    "duration": 9,
    "start_time": "2022-09-10T16:55:32.500Z"
   },
   {
    "duration": 11,
    "start_time": "2022-09-10T16:56:07.306Z"
   },
   {
    "duration": 16,
    "start_time": "2022-09-10T16:56:42.262Z"
   },
   {
    "duration": 25,
    "start_time": "2022-09-10T16:56:48.806Z"
   },
   {
    "duration": 18,
    "start_time": "2022-09-10T16:56:53.626Z"
   },
   {
    "duration": 14,
    "start_time": "2022-09-10T16:57:23.302Z"
   },
   {
    "duration": 13,
    "start_time": "2022-09-10T16:57:30.177Z"
   },
   {
    "duration": 15,
    "start_time": "2022-09-10T16:57:38.357Z"
   },
   {
    "duration": 15,
    "start_time": "2022-09-10T16:57:46.387Z"
   },
   {
    "duration": 13,
    "start_time": "2022-09-10T16:57:50.829Z"
   },
   {
    "duration": 14,
    "start_time": "2022-09-10T16:57:57.062Z"
   },
   {
    "duration": 546,
    "start_time": "2022-09-10T16:58:26.955Z"
   },
   {
    "duration": 108,
    "start_time": "2022-09-10T16:58:35.320Z"
   },
   {
    "duration": 107,
    "start_time": "2022-09-10T16:58:38.190Z"
   },
   {
    "duration": 116,
    "start_time": "2022-09-10T16:58:43.502Z"
   },
   {
    "duration": 117,
    "start_time": "2022-09-10T16:58:47.255Z"
   },
   {
    "duration": 616,
    "start_time": "2022-09-10T16:59:02.661Z"
   },
   {
    "duration": 599,
    "start_time": "2022-09-10T16:59:19.215Z"
   },
   {
    "duration": 1129,
    "start_time": "2022-09-10T17:00:02.636Z"
   },
   {
    "duration": 1171,
    "start_time": "2022-09-10T17:02:08.503Z"
   },
   {
    "duration": 1226,
    "start_time": "2022-09-10T17:02:22.833Z"
   },
   {
    "duration": 1358,
    "start_time": "2022-09-10T17:02:27.967Z"
   },
   {
    "duration": 1573,
    "start_time": "2022-09-10T17:02:35.358Z"
   },
   {
    "duration": 1297,
    "start_time": "2022-09-10T17:02:39.611Z"
   },
   {
    "duration": 1819,
    "start_time": "2022-09-10T17:02:56.226Z"
   },
   {
    "duration": 1064,
    "start_time": "2022-09-10T17:03:52.604Z"
   },
   {
    "duration": 1168,
    "start_time": "2022-09-10T17:05:00.936Z"
   },
   {
    "duration": 1217,
    "start_time": "2022-09-10T17:05:08.576Z"
   },
   {
    "duration": 1858,
    "start_time": "2022-09-10T17:07:53.236Z"
   },
   {
    "duration": 1885,
    "start_time": "2022-09-10T17:08:03.234Z"
   },
   {
    "duration": 1416,
    "start_time": "2022-09-10T17:08:40.609Z"
   },
   {
    "duration": 1564,
    "start_time": "2022-09-10T17:09:17.966Z"
   },
   {
    "duration": 2732,
    "start_time": "2022-09-10T17:09:35.483Z"
   },
   {
    "duration": 2144,
    "start_time": "2022-09-10T17:09:43.885Z"
   },
   {
    "duration": 2576,
    "start_time": "2022-09-10T17:10:11.825Z"
   },
   {
    "duration": 2195,
    "start_time": "2022-09-10T17:10:26.851Z"
   },
   {
    "duration": 2421,
    "start_time": "2022-09-10T17:15:37.554Z"
   },
   {
    "duration": 7,
    "start_time": "2022-09-10T17:16:28.293Z"
   },
   {
    "duration": 9,
    "start_time": "2022-09-10T17:17:07.522Z"
   },
   {
    "duration": 13,
    "start_time": "2022-09-10T17:17:37.974Z"
   },
   {
    "duration": 83,
    "start_time": "2022-09-10T17:19:04.402Z"
   },
   {
    "duration": 12,
    "start_time": "2022-09-10T17:19:07.332Z"
   },
   {
    "duration": 451,
    "start_time": "2022-09-10T17:19:45.596Z"
   },
   {
    "duration": 510,
    "start_time": "2022-09-10T17:19:52.249Z"
   },
   {
    "duration": 484,
    "start_time": "2022-09-10T17:20:05.233Z"
   },
   {
    "duration": 51,
    "start_time": "2022-09-10T17:21:22.993Z"
   },
   {
    "duration": 727,
    "start_time": "2022-09-10T17:21:26.467Z"
   },
   {
    "duration": 340,
    "start_time": "2022-09-10T17:21:27.196Z"
   },
   {
    "duration": 6,
    "start_time": "2022-09-10T17:21:27.538Z"
   },
   {
    "duration": 25,
    "start_time": "2022-09-10T17:21:27.547Z"
   },
   {
    "duration": 167,
    "start_time": "2022-09-10T17:21:27.574Z"
   },
   {
    "duration": 300,
    "start_time": "2022-09-10T17:21:27.743Z"
   },
   {
    "duration": 13,
    "start_time": "2022-09-10T17:21:28.044Z"
   },
   {
    "duration": 211,
    "start_time": "2022-09-10T17:21:28.058Z"
   },
   {
    "duration": 16,
    "start_time": "2022-09-10T17:21:28.271Z"
   },
   {
    "duration": 40,
    "start_time": "2022-09-10T17:21:28.289Z"
   },
   {
    "duration": 5412,
    "start_time": "2022-09-10T17:21:28.330Z"
   },
   {
    "duration": 111,
    "start_time": "2022-09-10T17:21:33.743Z"
   },
   {
    "duration": 1284,
    "start_time": "2022-09-10T17:21:33.856Z"
   },
   {
    "duration": 127,
    "start_time": "2022-09-10T17:21:35.141Z"
   },
   {
    "duration": 15,
    "start_time": "2022-09-10T17:21:35.270Z"
   },
   {
    "duration": 3,
    "start_time": "2022-09-10T17:21:35.286Z"
   },
   {
    "duration": 140,
    "start_time": "2022-09-10T17:21:35.290Z"
   },
   {
    "duration": 74,
    "start_time": "2022-09-10T17:21:35.432Z"
   },
   {
    "duration": 21,
    "start_time": "2022-09-10T17:21:35.507Z"
   },
   {
    "duration": 9,
    "start_time": "2022-09-10T17:21:35.530Z"
   },
   {
    "duration": 57,
    "start_time": "2022-09-10T17:21:35.541Z"
   },
   {
    "duration": 20,
    "start_time": "2022-09-10T17:21:35.600Z"
   },
   {
    "duration": 80,
    "start_time": "2022-09-10T17:21:35.621Z"
   },
   {
    "duration": 7,
    "start_time": "2022-09-10T17:21:35.703Z"
   },
   {
    "duration": 71,
    "start_time": "2022-09-10T17:21:35.711Z"
   },
   {
    "duration": 8,
    "start_time": "2022-09-10T17:21:35.784Z"
   },
   {
    "duration": 1368,
    "start_time": "2022-09-10T17:21:35.794Z"
   },
   {
    "duration": 208,
    "start_time": "2022-09-10T17:21:37.167Z"
   },
   {
    "duration": 8,
    "start_time": "2022-09-10T17:21:37.376Z"
   },
   {
    "duration": 11,
    "start_time": "2022-09-10T17:21:37.386Z"
   },
   {
    "duration": 13,
    "start_time": "2022-09-10T17:21:37.399Z"
   },
   {
    "duration": 2,
    "start_time": "2022-09-10T17:21:37.414Z"
   },
   {
    "duration": 11,
    "start_time": "2022-09-10T17:21:37.418Z"
   },
   {
    "duration": 45,
    "start_time": "2022-09-10T17:21:37.431Z"
   },
   {
    "duration": 29,
    "start_time": "2022-09-10T17:21:37.478Z"
   },
   {
    "duration": 6,
    "start_time": "2022-09-10T17:21:37.510Z"
   },
   {
    "duration": 4,
    "start_time": "2022-09-10T17:21:37.518Z"
   },
   {
    "duration": 79,
    "start_time": "2022-09-10T17:21:37.523Z"
   },
   {
    "duration": 16,
    "start_time": "2022-09-10T17:21:37.604Z"
   },
   {
    "duration": 5,
    "start_time": "2022-09-10T17:21:37.622Z"
   },
   {
    "duration": 289,
    "start_time": "2022-09-10T17:21:37.629Z"
   },
   {
    "duration": 159,
    "start_time": "2022-09-10T17:21:37.920Z"
   },
   {
    "duration": 216,
    "start_time": "2022-09-10T17:21:38.081Z"
   },
   {
    "duration": 16,
    "start_time": "2022-09-10T17:21:38.299Z"
   },
   {
    "duration": 280,
    "start_time": "2022-09-10T17:21:38.317Z"
   },
   {
    "duration": 17,
    "start_time": "2022-09-10T17:21:38.599Z"
   },
   {
    "duration": 242,
    "start_time": "2022-09-10T17:21:38.617Z"
   },
   {
    "duration": 61,
    "start_time": "2022-09-10T17:21:38.861Z"
   },
   {
    "duration": 155,
    "start_time": "2022-09-10T17:21:38.923Z"
   },
   {
    "duration": 1303,
    "start_time": "2022-09-10T17:21:39.080Z"
   },
   {
    "duration": 733,
    "start_time": "2022-09-10T17:21:40.385Z"
   },
   {
    "duration": 288,
    "start_time": "2022-09-10T17:21:41.120Z"
   },
   {
    "duration": 657,
    "start_time": "2022-09-10T17:21:41.410Z"
   },
   {
    "duration": 2,
    "start_time": "2022-09-10T17:21:42.069Z"
   },
   {
    "duration": 1165,
    "start_time": "2022-09-10T17:21:42.072Z"
   },
   {
    "duration": 509,
    "start_time": "2022-09-10T17:21:43.239Z"
   },
   {
    "duration": 125,
    "start_time": "2022-09-10T17:21:43.749Z"
   },
   {
    "duration": 8,
    "start_time": "2022-09-10T17:21:43.876Z"
   },
   {
    "duration": 301,
    "start_time": "2022-09-10T17:21:43.885Z"
   },
   {
    "duration": 1514,
    "start_time": "2022-09-10T17:21:44.187Z"
   },
   {
    "duration": 2304,
    "start_time": "2022-09-10T17:21:45.703Z"
   },
   {
    "duration": 2535,
    "start_time": "2022-09-10T17:22:00.258Z"
   },
   {
    "duration": 2426,
    "start_time": "2022-09-10T17:22:12.828Z"
   },
   {
    "duration": 2615,
    "start_time": "2022-09-10T17:22:29.005Z"
   },
   {
    "duration": 2657,
    "start_time": "2022-09-10T17:23:05.514Z"
   },
   {
    "duration": 2537,
    "start_time": "2022-09-10T17:23:40.963Z"
   },
   {
    "duration": 2731,
    "start_time": "2022-09-10T17:23:48.907Z"
   },
   {
    "duration": 17,
    "start_time": "2022-09-10T17:24:32.784Z"
   },
   {
    "duration": 567,
    "start_time": "2022-09-10T17:29:59.994Z"
   },
   {
    "duration": 803,
    "start_time": "2022-09-10T17:31:23.513Z"
   },
   {
    "duration": 789,
    "start_time": "2022-09-10T17:31:42.859Z"
   },
   {
    "duration": 788,
    "start_time": "2022-09-10T17:31:53.764Z"
   },
   {
    "duration": 840,
    "start_time": "2022-09-10T17:32:05.937Z"
   },
   {
    "duration": 765,
    "start_time": "2022-09-10T17:33:50.052Z"
   },
   {
    "duration": 811,
    "start_time": "2022-09-10T17:34:02.867Z"
   },
   {
    "duration": 753,
    "start_time": "2022-09-10T17:37:55.762Z"
   },
   {
    "duration": 796,
    "start_time": "2022-09-10T17:38:12.669Z"
   },
   {
    "duration": 866,
    "start_time": "2022-09-10T18:00:18.054Z"
   },
   {
    "duration": 778,
    "start_time": "2022-09-10T18:07:01.483Z"
   },
   {
    "duration": 808,
    "start_time": "2022-09-10T18:07:26.290Z"
   },
   {
    "duration": 749,
    "start_time": "2022-09-10T18:07:42.718Z"
   },
   {
    "duration": 818,
    "start_time": "2022-09-10T18:08:15.511Z"
   },
   {
    "duration": 735,
    "start_time": "2022-09-10T18:08:25.426Z"
   },
   {
    "duration": 782,
    "start_time": "2022-09-11T09:10:17.843Z"
   },
   {
    "duration": 292,
    "start_time": "2022-09-11T09:10:18.627Z"
   },
   {
    "duration": 2,
    "start_time": "2022-09-11T09:10:18.920Z"
   },
   {
    "duration": 21,
    "start_time": "2022-09-11T09:10:18.924Z"
   },
   {
    "duration": 137,
    "start_time": "2022-09-11T09:10:18.946Z"
   },
   {
    "duration": 250,
    "start_time": "2022-09-11T09:10:19.085Z"
   },
   {
    "duration": 18,
    "start_time": "2022-09-11T09:10:19.337Z"
   },
   {
    "duration": 207,
    "start_time": "2022-09-11T09:10:19.357Z"
   },
   {
    "duration": 15,
    "start_time": "2022-09-11T09:10:19.566Z"
   },
   {
    "duration": 34,
    "start_time": "2022-09-11T09:10:19.583Z"
   },
   {
    "duration": 5064,
    "start_time": "2022-09-11T09:10:19.618Z"
   },
   {
    "duration": 102,
    "start_time": "2022-09-11T09:10:24.684Z"
   },
   {
    "duration": 1020,
    "start_time": "2022-09-11T09:10:24.788Z"
   },
   {
    "duration": 113,
    "start_time": "2022-09-11T09:10:25.810Z"
   },
   {
    "duration": 13,
    "start_time": "2022-09-11T09:10:25.925Z"
   },
   {
    "duration": 16,
    "start_time": "2022-09-11T09:10:25.939Z"
   },
   {
    "duration": 113,
    "start_time": "2022-09-11T09:10:25.957Z"
   },
   {
    "duration": 62,
    "start_time": "2022-09-11T09:10:26.072Z"
   },
   {
    "duration": 31,
    "start_time": "2022-09-11T09:10:26.136Z"
   },
   {
    "duration": 7,
    "start_time": "2022-09-11T09:10:26.169Z"
   },
   {
    "duration": 27,
    "start_time": "2022-09-11T09:10:26.178Z"
   },
   {
    "duration": 15,
    "start_time": "2022-09-11T09:10:26.206Z"
   },
   {
    "duration": 93,
    "start_time": "2022-09-11T09:10:26.222Z"
   },
   {
    "duration": 5,
    "start_time": "2022-09-11T09:10:26.317Z"
   },
   {
    "duration": 68,
    "start_time": "2022-09-11T09:10:26.323Z"
   },
   {
    "duration": 7,
    "start_time": "2022-09-11T09:10:26.392Z"
   },
   {
    "duration": 1060,
    "start_time": "2022-09-11T09:10:26.400Z"
   },
   {
    "duration": 200,
    "start_time": "2022-09-11T09:10:27.466Z"
   },
   {
    "duration": 9,
    "start_time": "2022-09-11T09:10:27.668Z"
   },
   {
    "duration": 14,
    "start_time": "2022-09-11T09:10:27.679Z"
   },
   {
    "duration": 12,
    "start_time": "2022-09-11T09:10:27.694Z"
   },
   {
    "duration": 2,
    "start_time": "2022-09-11T09:10:27.707Z"
   },
   {
    "duration": 11,
    "start_time": "2022-09-11T09:10:27.711Z"
   },
   {
    "duration": 41,
    "start_time": "2022-09-11T09:10:27.723Z"
   },
   {
    "duration": 28,
    "start_time": "2022-09-11T09:10:27.765Z"
   },
   {
    "duration": 5,
    "start_time": "2022-09-11T09:10:27.796Z"
   },
   {
    "duration": 4,
    "start_time": "2022-09-11T09:10:27.803Z"
   },
   {
    "duration": 77,
    "start_time": "2022-09-11T09:10:27.808Z"
   },
   {
    "duration": 15,
    "start_time": "2022-09-11T09:10:27.886Z"
   },
   {
    "duration": 4,
    "start_time": "2022-09-11T09:10:27.902Z"
   },
   {
    "duration": 240,
    "start_time": "2022-09-11T09:10:27.908Z"
   },
   {
    "duration": 143,
    "start_time": "2022-09-11T09:10:28.150Z"
   },
   {
    "duration": 177,
    "start_time": "2022-09-11T09:10:28.295Z"
   },
   {
    "duration": 15,
    "start_time": "2022-09-11T09:10:28.473Z"
   },
   {
    "duration": 253,
    "start_time": "2022-09-11T09:10:28.489Z"
   },
   {
    "duration": 20,
    "start_time": "2022-09-11T09:10:28.744Z"
   },
   {
    "duration": 199,
    "start_time": "2022-09-11T09:10:28.765Z"
   },
   {
    "duration": 54,
    "start_time": "2022-09-11T09:10:28.966Z"
   },
   {
    "duration": 142,
    "start_time": "2022-09-11T09:10:29.022Z"
   },
   {
    "duration": 1102,
    "start_time": "2022-09-11T09:10:29.165Z"
   },
   {
    "duration": 616,
    "start_time": "2022-09-11T09:10:30.269Z"
   },
   {
    "duration": 254,
    "start_time": "2022-09-11T09:10:30.887Z"
   },
   {
    "duration": 563,
    "start_time": "2022-09-11T09:10:31.143Z"
   },
   {
    "duration": 2,
    "start_time": "2022-09-11T09:10:31.708Z"
   },
   {
    "duration": 990,
    "start_time": "2022-09-11T09:10:31.711Z"
   },
   {
    "duration": 427,
    "start_time": "2022-09-11T09:10:32.702Z"
   },
   {
    "duration": 117,
    "start_time": "2022-09-11T09:10:33.130Z"
   },
   {
    "duration": 10,
    "start_time": "2022-09-11T09:10:33.249Z"
   },
   {
    "duration": 268,
    "start_time": "2022-09-11T09:10:33.260Z"
   },
   {
    "duration": 1306,
    "start_time": "2022-09-11T09:10:33.530Z"
   },
   {
    "duration": 2192,
    "start_time": "2022-09-11T09:10:34.837Z"
   },
   {
    "duration": 1049,
    "start_time": "2022-09-11T09:10:37.031Z"
   },
   {
    "duration": 536,
    "start_time": "2022-09-11T10:26:35.610Z"
   },
   {
    "duration": 184,
    "start_time": "2022-09-11T10:26:36.148Z"
   },
   {
    "duration": 3,
    "start_time": "2022-09-11T10:26:36.333Z"
   },
   {
    "duration": 32,
    "start_time": "2022-09-11T10:26:36.337Z"
   },
   {
    "duration": 145,
    "start_time": "2022-09-11T10:26:36.372Z"
   },
   {
    "duration": 262,
    "start_time": "2022-09-11T10:26:36.519Z"
   },
   {
    "duration": 14,
    "start_time": "2022-09-11T10:26:36.782Z"
   },
   {
    "duration": 64,
    "start_time": "2022-09-11T10:26:36.797Z"
   },
   {
    "duration": 14,
    "start_time": "2022-09-11T10:26:36.862Z"
   },
   {
    "duration": 38,
    "start_time": "2022-09-11T10:26:36.878Z"
   },
   {
    "duration": 952,
    "start_time": "2022-09-11T10:26:36.917Z"
   },
   {
    "duration": 104,
    "start_time": "2022-09-11T10:26:37.870Z"
   },
   {
    "duration": 1096,
    "start_time": "2022-09-11T10:26:37.976Z"
   },
   {
    "duration": 111,
    "start_time": "2022-09-11T10:26:39.075Z"
   },
   {
    "duration": 12,
    "start_time": "2022-09-11T10:26:39.188Z"
   },
   {
    "duration": 2,
    "start_time": "2022-09-11T10:26:39.202Z"
   },
   {
    "duration": 122,
    "start_time": "2022-09-11T10:26:39.205Z"
   },
   {
    "duration": 68,
    "start_time": "2022-09-11T10:26:39.328Z"
   },
   {
    "duration": 17,
    "start_time": "2022-09-11T10:26:39.398Z"
   },
   {
    "duration": 8,
    "start_time": "2022-09-11T10:26:39.416Z"
   },
   {
    "duration": 49,
    "start_time": "2022-09-11T10:26:39.425Z"
   },
   {
    "duration": 18,
    "start_time": "2022-09-11T10:26:39.475Z"
   },
   {
    "duration": 32,
    "start_time": "2022-09-11T10:26:39.494Z"
   },
   {
    "duration": 5,
    "start_time": "2022-09-11T10:26:39.528Z"
   },
   {
    "duration": 22,
    "start_time": "2022-09-11T10:26:39.535Z"
   },
   {
    "duration": 6,
    "start_time": "2022-09-11T10:26:39.558Z"
   },
   {
    "duration": 1115,
    "start_time": "2022-09-11T10:26:39.566Z"
   },
   {
    "duration": 188,
    "start_time": "2022-09-11T10:26:40.682Z"
   },
   {
    "duration": 7,
    "start_time": "2022-09-11T10:26:40.871Z"
   },
   {
    "duration": 14,
    "start_time": "2022-09-11T10:26:40.880Z"
   },
   {
    "duration": 16,
    "start_time": "2022-09-11T10:26:40.896Z"
   },
   {
    "duration": 2,
    "start_time": "2022-09-11T10:26:40.913Z"
   },
   {
    "duration": 18,
    "start_time": "2022-09-11T10:26:40.917Z"
   },
   {
    "duration": 23,
    "start_time": "2022-09-11T10:26:40.937Z"
   },
   {
    "duration": 25,
    "start_time": "2022-09-11T10:26:40.962Z"
   },
   {
    "duration": 5,
    "start_time": "2022-09-11T10:26:40.989Z"
   },
   {
    "duration": 6,
    "start_time": "2022-09-11T10:26:40.996Z"
   },
   {
    "duration": 77,
    "start_time": "2022-09-11T10:26:41.004Z"
   },
   {
    "duration": 15,
    "start_time": "2022-09-11T10:26:41.083Z"
   },
   {
    "duration": 6,
    "start_time": "2022-09-11T10:26:41.100Z"
   },
   {
    "duration": 262,
    "start_time": "2022-09-11T10:26:41.110Z"
   },
   {
    "duration": 144,
    "start_time": "2022-09-11T10:26:41.373Z"
   },
   {
    "duration": 181,
    "start_time": "2022-09-11T10:26:41.519Z"
   },
   {
    "duration": 15,
    "start_time": "2022-09-11T10:26:41.701Z"
   },
   {
    "duration": 253,
    "start_time": "2022-09-11T10:26:41.718Z"
   },
   {
    "duration": 14,
    "start_time": "2022-09-11T10:26:41.973Z"
   },
   {
    "duration": 207,
    "start_time": "2022-09-11T10:26:41.988Z"
   },
   {
    "duration": 58,
    "start_time": "2022-09-11T10:26:42.197Z"
   },
   {
    "duration": 136,
    "start_time": "2022-09-11T10:26:42.256Z"
   },
   {
    "duration": 1148,
    "start_time": "2022-09-11T10:26:42.393Z"
   },
   {
    "duration": 620,
    "start_time": "2022-09-11T10:26:43.542Z"
   },
   {
    "duration": 243,
    "start_time": "2022-09-11T10:26:44.163Z"
   },
   {
    "duration": 613,
    "start_time": "2022-09-11T10:26:44.408Z"
   },
   {
    "duration": 3,
    "start_time": "2022-09-11T10:26:45.022Z"
   },
   {
    "duration": 976,
    "start_time": "2022-09-11T10:26:45.026Z"
   },
   {
    "duration": 421,
    "start_time": "2022-09-11T10:26:46.004Z"
   },
   {
    "duration": 122,
    "start_time": "2022-09-11T10:26:46.427Z"
   },
   {
    "duration": 8,
    "start_time": "2022-09-11T10:26:46.554Z"
   },
   {
    "duration": 497,
    "start_time": "2022-09-11T10:26:46.564Z"
   },
   {
    "duration": 2023,
    "start_time": "2022-09-11T10:26:47.062Z"
   },
   {
    "duration": 2179,
    "start_time": "2022-09-11T10:26:49.087Z"
   },
   {
    "duration": 1027,
    "start_time": "2022-09-11T10:26:51.268Z"
   },
   {
    "duration": 111,
    "start_time": "2022-09-11T10:27:00.038Z"
   },
   {
    "duration": 11,
    "start_time": "2022-09-11T10:27:15.855Z"
   },
   {
    "duration": 105,
    "start_time": "2022-09-11T10:27:21.535Z"
   },
   {
    "duration": 9,
    "start_time": "2022-09-11T10:27:34.276Z"
   },
   {
    "duration": 73,
    "start_time": "2022-09-11T10:27:49.607Z"
   },
   {
    "duration": 183,
    "start_time": "2022-09-11T10:27:56.894Z"
   },
   {
    "duration": 9,
    "start_time": "2022-09-11T10:29:03.774Z"
   },
   {
    "duration": 585,
    "start_time": "2022-09-11T12:18:02.968Z"
   },
   {
    "duration": 185,
    "start_time": "2022-09-11T12:18:03.555Z"
   },
   {
    "duration": 2,
    "start_time": "2022-09-11T12:18:03.742Z"
   },
   {
    "duration": 25,
    "start_time": "2022-09-11T12:18:03.746Z"
   },
   {
    "duration": 146,
    "start_time": "2022-09-11T12:18:03.772Z"
   },
   {
    "duration": 264,
    "start_time": "2022-09-11T12:18:03.920Z"
   },
   {
    "duration": 12,
    "start_time": "2022-09-11T12:18:04.185Z"
   },
   {
    "duration": 54,
    "start_time": "2022-09-11T12:18:04.198Z"
   },
   {
    "duration": 15,
    "start_time": "2022-09-11T12:18:04.255Z"
   },
   {
    "duration": 43,
    "start_time": "2022-09-11T12:18:04.273Z"
   },
   {
    "duration": 895,
    "start_time": "2022-09-11T12:18:04.317Z"
   },
   {
    "duration": 105,
    "start_time": "2022-09-11T12:18:05.213Z"
   },
   {
    "duration": 1047,
    "start_time": "2022-09-11T12:18:05.320Z"
   },
   {
    "duration": 110,
    "start_time": "2022-09-11T12:18:06.369Z"
   },
   {
    "duration": 13,
    "start_time": "2022-09-11T12:18:06.481Z"
   },
   {
    "duration": 2,
    "start_time": "2022-09-11T12:18:06.496Z"
   },
   {
    "duration": 115,
    "start_time": "2022-09-11T12:18:06.499Z"
   },
   {
    "duration": 70,
    "start_time": "2022-09-11T12:18:06.617Z"
   },
   {
    "duration": 20,
    "start_time": "2022-09-11T12:18:06.689Z"
   },
   {
    "duration": 8,
    "start_time": "2022-09-11T12:18:06.711Z"
   },
   {
    "duration": 52,
    "start_time": "2022-09-11T12:18:06.721Z"
   },
   {
    "duration": 18,
    "start_time": "2022-09-11T12:18:06.775Z"
   },
   {
    "duration": 31,
    "start_time": "2022-09-11T12:18:06.795Z"
   },
   {
    "duration": 6,
    "start_time": "2022-09-11T12:18:06.828Z"
   },
   {
    "duration": 23,
    "start_time": "2022-09-11T12:18:06.835Z"
   },
   {
    "duration": 6,
    "start_time": "2022-09-11T12:18:06.859Z"
   },
   {
    "duration": 1121,
    "start_time": "2022-09-11T12:18:06.866Z"
   },
   {
    "duration": 180,
    "start_time": "2022-09-11T12:18:07.990Z"
   },
   {
    "duration": 7,
    "start_time": "2022-09-11T12:18:08.172Z"
   },
   {
    "duration": 9,
    "start_time": "2022-09-11T12:18:08.181Z"
   },
   {
    "duration": 13,
    "start_time": "2022-09-11T12:18:08.191Z"
   },
   {
    "duration": 2,
    "start_time": "2022-09-11T12:18:08.205Z"
   },
   {
    "duration": 11,
    "start_time": "2022-09-11T12:18:08.208Z"
   },
   {
    "duration": 10,
    "start_time": "2022-09-11T12:18:08.220Z"
   },
   {
    "duration": 25,
    "start_time": "2022-09-11T12:18:08.254Z"
   },
   {
    "duration": 5,
    "start_time": "2022-09-11T12:18:08.281Z"
   },
   {
    "duration": 5,
    "start_time": "2022-09-11T12:18:08.287Z"
   },
   {
    "duration": 68,
    "start_time": "2022-09-11T12:18:08.293Z"
   },
   {
    "duration": 15,
    "start_time": "2022-09-11T12:18:08.362Z"
   },
   {
    "duration": 6,
    "start_time": "2022-09-11T12:18:08.379Z"
   },
   {
    "duration": 239,
    "start_time": "2022-09-11T12:18:08.386Z"
   },
   {
    "duration": 142,
    "start_time": "2022-09-11T12:18:08.626Z"
   },
   {
    "duration": 175,
    "start_time": "2022-09-11T12:18:08.769Z"
   },
   {
    "duration": 21,
    "start_time": "2022-09-11T12:18:08.946Z"
   },
   {
    "duration": 254,
    "start_time": "2022-09-11T12:18:08.969Z"
   },
   {
    "duration": 14,
    "start_time": "2022-09-11T12:18:09.225Z"
   },
   {
    "duration": 207,
    "start_time": "2022-09-11T12:18:09.241Z"
   },
   {
    "duration": 50,
    "start_time": "2022-09-11T12:18:09.454Z"
   },
   {
    "duration": 134,
    "start_time": "2022-09-11T12:18:09.505Z"
   },
   {
    "duration": 1151,
    "start_time": "2022-09-11T12:18:09.641Z"
   },
   {
    "duration": 625,
    "start_time": "2022-09-11T12:18:10.793Z"
   },
   {
    "duration": 238,
    "start_time": "2022-09-11T12:18:11.419Z"
   },
   {
    "duration": 584,
    "start_time": "2022-09-11T12:18:11.658Z"
   },
   {
    "duration": 2,
    "start_time": "2022-09-11T12:18:12.243Z"
   },
   {
    "duration": 1000,
    "start_time": "2022-09-11T12:18:12.246Z"
   },
   {
    "duration": 411,
    "start_time": "2022-09-11T12:18:13.248Z"
   },
   {
    "duration": 117,
    "start_time": "2022-09-11T12:18:13.660Z"
   },
   {
    "duration": 7,
    "start_time": "2022-09-11T12:18:13.778Z"
   },
   {
    "duration": 246,
    "start_time": "2022-09-11T12:18:13.786Z"
   },
   {
    "duration": 1320,
    "start_time": "2022-09-11T12:18:14.034Z"
   },
   {
    "duration": 2263,
    "start_time": "2022-09-11T12:18:15.355Z"
   },
   {
    "duration": 1017,
    "start_time": "2022-09-11T12:18:17.619Z"
   },
   {
    "duration": 48,
    "start_time": "2022-09-12T20:48:23.600Z"
   },
   {
    "duration": 747,
    "start_time": "2022-09-12T20:48:32.388Z"
   },
   {
    "duration": 914,
    "start_time": "2022-09-12T20:48:33.137Z"
   },
   {
    "duration": 2,
    "start_time": "2022-09-12T20:48:34.053Z"
   },
   {
    "duration": 31,
    "start_time": "2022-09-12T20:48:34.058Z"
   },
   {
    "duration": 177,
    "start_time": "2022-09-12T20:48:34.092Z"
   },
   {
    "duration": 277,
    "start_time": "2022-09-12T20:48:34.271Z"
   },
   {
    "duration": 12,
    "start_time": "2022-09-12T20:48:34.550Z"
   },
   {
    "duration": 306,
    "start_time": "2022-09-12T20:48:34.564Z"
   },
   {
    "duration": 15,
    "start_time": "2022-09-12T20:48:34.871Z"
   },
   {
    "duration": 36,
    "start_time": "2022-09-12T20:48:34.888Z"
   },
   {
    "duration": 1637,
    "start_time": "2022-09-12T20:48:34.926Z"
   },
   {
    "duration": 102,
    "start_time": "2022-09-12T20:48:36.565Z"
   },
   {
    "duration": 1160,
    "start_time": "2022-09-12T20:48:36.669Z"
   },
   {
    "duration": 123,
    "start_time": "2022-09-12T20:48:37.831Z"
   },
   {
    "duration": 15,
    "start_time": "2022-09-12T20:48:37.956Z"
   },
   {
    "duration": 3,
    "start_time": "2022-09-12T20:48:37.972Z"
   },
   {
    "duration": 126,
    "start_time": "2022-09-12T20:48:37.976Z"
   },
   {
    "duration": 67,
    "start_time": "2022-09-12T20:48:38.104Z"
   },
   {
    "duration": 17,
    "start_time": "2022-09-12T20:48:38.173Z"
   },
   {
    "duration": 7,
    "start_time": "2022-09-12T20:48:38.192Z"
   },
   {
    "duration": 51,
    "start_time": "2022-09-12T20:48:38.200Z"
   },
   {
    "duration": 16,
    "start_time": "2022-09-12T20:48:38.252Z"
   },
   {
    "duration": 74,
    "start_time": "2022-09-12T20:48:38.270Z"
   },
   {
    "duration": 6,
    "start_time": "2022-09-12T20:48:38.345Z"
   },
   {
    "duration": 59,
    "start_time": "2022-09-12T20:48:38.353Z"
   },
   {
    "duration": 6,
    "start_time": "2022-09-12T20:48:38.413Z"
   },
   {
    "duration": 1149,
    "start_time": "2022-09-12T20:48:38.421Z"
   },
   {
    "duration": 196,
    "start_time": "2022-09-12T20:48:39.573Z"
   },
   {
    "duration": 8,
    "start_time": "2022-09-12T20:48:39.770Z"
   },
   {
    "duration": 12,
    "start_time": "2022-09-12T20:48:39.779Z"
   },
   {
    "duration": 16,
    "start_time": "2022-09-12T20:48:39.793Z"
   },
   {
    "duration": 2,
    "start_time": "2022-09-12T20:48:39.811Z"
   },
   {
    "duration": 9,
    "start_time": "2022-09-12T20:48:39.815Z"
   },
   {
    "duration": 29,
    "start_time": "2022-09-12T20:48:39.826Z"
   },
   {
    "duration": 27,
    "start_time": "2022-09-12T20:48:39.856Z"
   },
   {
    "duration": 5,
    "start_time": "2022-09-12T20:48:39.884Z"
   },
   {
    "duration": 4,
    "start_time": "2022-09-12T20:48:39.891Z"
   },
   {
    "duration": 75,
    "start_time": "2022-09-12T20:48:39.896Z"
   },
   {
    "duration": 14,
    "start_time": "2022-09-12T20:48:39.973Z"
   },
   {
    "duration": 5,
    "start_time": "2022-09-12T20:48:39.988Z"
   },
   {
    "duration": 245,
    "start_time": "2022-09-12T20:48:39.995Z"
   },
   {
    "duration": 149,
    "start_time": "2022-09-12T20:48:40.246Z"
   },
   {
    "duration": 185,
    "start_time": "2022-09-12T20:48:40.396Z"
   },
   {
    "duration": 14,
    "start_time": "2022-09-12T20:48:40.583Z"
   },
   {
    "duration": 264,
    "start_time": "2022-09-12T20:48:40.599Z"
   },
   {
    "duration": 16,
    "start_time": "2022-09-12T20:48:40.865Z"
   },
   {
    "duration": 213,
    "start_time": "2022-09-12T20:48:40.883Z"
   },
   {
    "duration": 57,
    "start_time": "2022-09-12T20:48:41.097Z"
   },
   {
    "duration": 131,
    "start_time": "2022-09-12T20:48:41.155Z"
   },
   {
    "duration": 1178,
    "start_time": "2022-09-12T20:48:41.288Z"
   },
   {
    "duration": 664,
    "start_time": "2022-09-12T20:48:42.468Z"
   },
   {
    "duration": 252,
    "start_time": "2022-09-12T20:48:43.133Z"
   },
   {
    "duration": 628,
    "start_time": "2022-09-12T20:48:43.387Z"
   },
   {
    "duration": 3,
    "start_time": "2022-09-12T20:48:44.016Z"
   },
   {
    "duration": 1087,
    "start_time": "2022-09-12T20:48:44.020Z"
   },
   {
    "duration": 450,
    "start_time": "2022-09-12T20:48:45.109Z"
   },
   {
    "duration": 141,
    "start_time": "2022-09-12T20:48:45.561Z"
   },
   {
    "duration": 0,
    "start_time": "2022-09-12T20:48:45.704Z"
   },
   {
    "duration": 0,
    "start_time": "2022-09-12T20:48:45.705Z"
   },
   {
    "duration": 0,
    "start_time": "2022-09-12T20:48:45.706Z"
   },
   {
    "duration": 0,
    "start_time": "2022-09-12T20:48:45.707Z"
   },
   {
    "duration": 0,
    "start_time": "2022-09-12T20:48:45.708Z"
   },
   {
    "duration": 106,
    "start_time": "2022-09-12T20:48:58.251Z"
   },
   {
    "duration": 468,
    "start_time": "2022-09-12T20:49:03.637Z"
   },
   {
    "duration": 577,
    "start_time": "2022-09-12T20:49:07.193Z"
   },
   {
    "duration": 494,
    "start_time": "2022-09-12T20:49:08.499Z"
   },
   {
    "duration": 107,
    "start_time": "2022-09-12T20:49:13.713Z"
   },
   {
    "duration": 8,
    "start_time": "2022-09-12T20:49:14.607Z"
   },
   {
    "duration": 7,
    "start_time": "2022-09-12T20:49:15.217Z"
   },
   {
    "duration": 42,
    "start_time": "2022-09-13T00:11:39.783Z"
   },
   {
    "duration": 706,
    "start_time": "2022-09-13T00:11:50.467Z"
   },
   {
    "duration": 313,
    "start_time": "2022-09-13T00:11:52.824Z"
   },
   {
    "duration": 2,
    "start_time": "2022-09-13T00:11:53.999Z"
   },
   {
    "duration": 13,
    "start_time": "2022-09-13T00:11:55.054Z"
   },
   {
    "duration": 25,
    "start_time": "2022-09-13T00:13:26.553Z"
   },
   {
    "duration": 42,
    "start_time": "2022-09-13T00:13:41.419Z"
   },
   {
    "duration": 18,
    "start_time": "2022-09-13T00:13:50.600Z"
   },
   {
    "duration": 18,
    "start_time": "2022-09-13T00:14:11.455Z"
   },
   {
    "duration": 21,
    "start_time": "2022-09-13T00:14:17.221Z"
   },
   {
    "duration": 24,
    "start_time": "2022-09-13T00:14:22.392Z"
   },
   {
    "duration": 7,
    "start_time": "2022-09-13T00:16:54.079Z"
   },
   {
    "duration": 6,
    "start_time": "2022-09-13T00:17:02.832Z"
   },
   {
    "duration": 8,
    "start_time": "2022-09-13T00:17:06.760Z"
   },
   {
    "duration": 14,
    "start_time": "2022-09-13T00:17:11.289Z"
   },
   {
    "duration": 150,
    "start_time": "2022-09-13T00:17:13.929Z"
   },
   {
    "duration": 272,
    "start_time": "2022-09-13T00:17:14.455Z"
   },
   {
    "duration": 15,
    "start_time": "2022-09-13T00:17:15.103Z"
   },
   {
    "duration": 501,
    "start_time": "2022-09-13T00:17:17.195Z"
   },
   {
    "duration": 22,
    "start_time": "2022-09-13T00:17:18.290Z"
   },
   {
    "duration": 17,
    "start_time": "2022-09-13T00:17:20.101Z"
   },
   {
    "duration": 5964,
    "start_time": "2022-09-13T00:17:26.172Z"
   },
   {
    "duration": 101,
    "start_time": "2022-09-13T00:17:32.137Z"
   },
   {
    "duration": 1183,
    "start_time": "2022-09-13T00:17:32.240Z"
   },
   {
    "duration": 122,
    "start_time": "2022-09-13T00:17:41.601Z"
   },
   {
    "duration": 12,
    "start_time": "2022-09-13T00:17:42.280Z"
   },
   {
    "duration": 2,
    "start_time": "2022-09-13T00:17:42.999Z"
   },
   {
    "duration": 110,
    "start_time": "2022-09-13T00:17:43.682Z"
   },
   {
    "duration": 61,
    "start_time": "2022-09-13T00:17:44.216Z"
   },
   {
    "duration": 3,
    "start_time": "2022-09-13T00:25:45.050Z"
   },
   {
    "duration": 2,
    "start_time": "2022-09-13T00:25:48.176Z"
   },
   {
    "duration": 16,
    "start_time": "2022-09-13T00:28:49.065Z"
   },
   {
    "duration": 8,
    "start_time": "2022-09-13T00:28:58.969Z"
   },
   {
    "duration": 92,
    "start_time": "2022-09-13T00:29:34.384Z"
   },
   {
    "duration": 242,
    "start_time": "2022-09-13T00:29:41.383Z"
   },
   {
    "duration": 78,
    "start_time": "2022-09-13T00:29:46.124Z"
   },
   {
    "duration": 7,
    "start_time": "2022-09-13T00:30:28.388Z"
   },
   {
    "duration": 111,
    "start_time": "2022-09-13T00:31:05.207Z"
   },
   {
    "duration": 293,
    "start_time": "2022-09-13T00:33:43.616Z"
   },
   {
    "duration": 1358,
    "start_time": "2022-09-13T00:33:59.971Z"
   },
   {
    "duration": 95,
    "start_time": "2022-09-13T00:34:14.604Z"
   },
   {
    "duration": 3,
    "start_time": "2022-09-13T00:37:35.216Z"
   },
   {
    "duration": 195,
    "start_time": "2022-09-13T00:37:35.221Z"
   },
   {
    "duration": 2,
    "start_time": "2022-09-13T00:37:35.417Z"
   },
   {
    "duration": 15,
    "start_time": "2022-09-13T00:37:35.421Z"
   },
   {
    "duration": 138,
    "start_time": "2022-09-13T00:37:35.437Z"
   },
   {
    "duration": 214,
    "start_time": "2022-09-13T00:37:35.577Z"
   },
   {
    "duration": 25,
    "start_time": "2022-09-13T00:37:35.793Z"
   },
   {
    "duration": 56,
    "start_time": "2022-09-13T00:37:35.820Z"
   },
   {
    "duration": 15,
    "start_time": "2022-09-13T00:37:35.877Z"
   },
   {
    "duration": 22,
    "start_time": "2022-09-13T00:37:35.894Z"
   },
   {
    "duration": 970,
    "start_time": "2022-09-13T00:37:35.918Z"
   },
   {
    "duration": 96,
    "start_time": "2022-09-13T00:37:36.889Z"
   },
   {
    "duration": 1186,
    "start_time": "2022-09-13T00:37:36.988Z"
   },
   {
    "duration": 123,
    "start_time": "2022-09-13T00:37:38.176Z"
   },
   {
    "duration": 19,
    "start_time": "2022-09-13T00:37:38.300Z"
   },
   {
    "duration": 3,
    "start_time": "2022-09-13T00:37:38.321Z"
   },
   {
    "duration": 123,
    "start_time": "2022-09-13T00:37:38.325Z"
   },
   {
    "duration": 68,
    "start_time": "2022-09-13T00:37:38.449Z"
   },
   {
    "duration": 17,
    "start_time": "2022-09-13T00:37:38.518Z"
   },
   {
    "duration": 7,
    "start_time": "2022-09-13T00:37:38.537Z"
   },
   {
    "duration": 29,
    "start_time": "2022-09-13T00:37:38.545Z"
   },
   {
    "duration": 43,
    "start_time": "2022-09-13T00:37:38.575Z"
   },
   {
    "duration": 74,
    "start_time": "2022-09-13T00:37:38.620Z"
   },
   {
    "duration": 6,
    "start_time": "2022-09-13T00:37:38.695Z"
   },
   {
    "duration": 81,
    "start_time": "2022-09-13T00:37:38.703Z"
   },
   {
    "duration": 7,
    "start_time": "2022-09-13T00:37:38.786Z"
   },
   {
    "duration": 1122,
    "start_time": "2022-09-13T00:37:38.794Z"
   },
   {
    "duration": 192,
    "start_time": "2022-09-13T00:37:39.918Z"
   },
   {
    "duration": 10,
    "start_time": "2022-09-13T00:37:40.111Z"
   },
   {
    "duration": 8,
    "start_time": "2022-09-13T00:37:40.122Z"
   },
   {
    "duration": 10,
    "start_time": "2022-09-13T00:37:40.132Z"
   },
   {
    "duration": 2,
    "start_time": "2022-09-13T00:37:40.144Z"
   },
   {
    "duration": 9,
    "start_time": "2022-09-13T00:37:40.148Z"
   },
   {
    "duration": 10,
    "start_time": "2022-09-13T00:37:40.159Z"
   },
   {
    "duration": 27,
    "start_time": "2022-09-13T00:37:40.207Z"
   },
   {
    "duration": 5,
    "start_time": "2022-09-13T00:37:40.236Z"
   },
   {
    "duration": 4,
    "start_time": "2022-09-13T00:37:40.245Z"
   },
   {
    "duration": 70,
    "start_time": "2022-09-13T00:37:40.250Z"
   },
   {
    "duration": 14,
    "start_time": "2022-09-13T00:37:40.322Z"
   },
   {
    "duration": 4,
    "start_time": "2022-09-13T00:37:40.338Z"
   },
   {
    "duration": 225,
    "start_time": "2022-09-13T00:37:40.344Z"
   },
   {
    "duration": 153,
    "start_time": "2022-09-13T00:37:40.571Z"
   },
   {
    "duration": 196,
    "start_time": "2022-09-13T00:37:40.725Z"
   },
   {
    "duration": 97,
    "start_time": "2022-09-13T00:37:40.923Z"
   },
   {
    "duration": 15,
    "start_time": "2022-09-13T00:37:41.021Z"
   },
   {
    "duration": 202,
    "start_time": "2022-09-13T00:37:41.038Z"
   },
   {
    "duration": 15,
    "start_time": "2022-09-13T00:37:41.241Z"
   },
   {
    "duration": 218,
    "start_time": "2022-09-13T00:37:41.258Z"
   },
   {
    "duration": 62,
    "start_time": "2022-09-13T00:37:41.478Z"
   },
   {
    "duration": 142,
    "start_time": "2022-09-13T00:37:41.542Z"
   },
   {
    "duration": 1231,
    "start_time": "2022-09-13T00:37:41.686Z"
   },
   {
    "duration": 652,
    "start_time": "2022-09-13T00:37:42.919Z"
   },
   {
    "duration": 304,
    "start_time": "2022-09-13T00:37:43.573Z"
   },
   {
    "duration": 618,
    "start_time": "2022-09-13T00:37:43.879Z"
   },
   {
    "duration": 2,
    "start_time": "2022-09-13T00:37:44.499Z"
   },
   {
    "duration": 1022,
    "start_time": "2022-09-13T00:37:44.504Z"
   },
   {
    "duration": 433,
    "start_time": "2022-09-13T00:37:45.528Z"
   },
   {
    "duration": 112,
    "start_time": "2022-09-13T00:37:45.963Z"
   },
   {
    "duration": 0,
    "start_time": "2022-09-13T00:37:46.076Z"
   },
   {
    "duration": 0,
    "start_time": "2022-09-13T00:37:46.077Z"
   },
   {
    "duration": 0,
    "start_time": "2022-09-13T00:37:46.077Z"
   },
   {
    "duration": 0,
    "start_time": "2022-09-13T00:37:46.078Z"
   },
   {
    "duration": 0,
    "start_time": "2022-09-13T00:37:46.079Z"
   },
   {
    "duration": 113,
    "start_time": "2022-09-13T00:38:01.848Z"
   },
   {
    "duration": 9,
    "start_time": "2022-09-13T00:38:12.444Z"
   },
   {
    "duration": 253,
    "start_time": "2022-09-13T00:38:12.950Z"
   },
   {
    "duration": 1356,
    "start_time": "2022-09-13T00:38:15.064Z"
   },
   {
    "duration": 2426,
    "start_time": "2022-09-13T00:38:16.823Z"
   },
   {
    "duration": 1106,
    "start_time": "2022-09-13T00:38:19.250Z"
   },
   {
    "duration": 246,
    "start_time": "2022-09-13T00:40:59.747Z"
   },
   {
    "duration": 14,
    "start_time": "2022-09-13T00:41:23.378Z"
   },
   {
    "duration": 102,
    "start_time": "2022-09-13T00:41:28.187Z"
   },
   {
    "duration": 242,
    "start_time": "2022-09-13T00:46:47.470Z"
   },
   {
    "duration": 11,
    "start_time": "2022-09-13T00:50:03.885Z"
   },
   {
    "duration": 8,
    "start_time": "2022-09-13T00:50:38.030Z"
   },
   {
    "duration": 7,
    "start_time": "2022-09-13T00:50:42.614Z"
   },
   {
    "duration": 7,
    "start_time": "2022-09-13T00:50:46.184Z"
   },
   {
    "duration": 203,
    "start_time": "2022-09-13T00:51:05.805Z"
   },
   {
    "duration": 155,
    "start_time": "2022-09-13T00:51:18.441Z"
   },
   {
    "duration": 111,
    "start_time": "2022-09-13T00:51:55.296Z"
   },
   {
    "duration": 157,
    "start_time": "2022-09-13T00:52:09.491Z"
   },
   {
    "duration": 8,
    "start_time": "2022-09-13T00:53:19.783Z"
   },
   {
    "duration": 2,
    "start_time": "2022-09-13T00:53:38.978Z"
   },
   {
    "duration": 173,
    "start_time": "2022-09-13T00:53:38.984Z"
   },
   {
    "duration": 2,
    "start_time": "2022-09-13T00:53:39.159Z"
   },
   {
    "duration": 16,
    "start_time": "2022-09-13T00:53:39.163Z"
   },
   {
    "duration": 144,
    "start_time": "2022-09-13T00:53:39.181Z"
   },
   {
    "duration": 208,
    "start_time": "2022-09-13T00:53:39.327Z"
   },
   {
    "duration": 12,
    "start_time": "2022-09-13T00:53:39.536Z"
   },
   {
    "duration": 59,
    "start_time": "2022-09-13T00:53:39.549Z"
   },
   {
    "duration": 15,
    "start_time": "2022-09-13T00:53:39.609Z"
   },
   {
    "duration": 9,
    "start_time": "2022-09-13T00:53:39.626Z"
   },
   {
    "duration": 888,
    "start_time": "2022-09-13T00:53:39.637Z"
   },
   {
    "duration": 104,
    "start_time": "2022-09-13T00:53:40.527Z"
   },
   {
    "duration": 1127,
    "start_time": "2022-09-13T00:53:40.633Z"
   },
   {
    "duration": 125,
    "start_time": "2022-09-13T00:53:41.762Z"
   },
   {
    "duration": 18,
    "start_time": "2022-09-13T00:53:41.889Z"
   },
   {
    "duration": 2,
    "start_time": "2022-09-13T00:53:41.908Z"
   },
   {
    "duration": 114,
    "start_time": "2022-09-13T00:53:41.911Z"
   },
   {
    "duration": 58,
    "start_time": "2022-09-13T00:53:42.027Z"
   },
   {
    "duration": 34,
    "start_time": "2022-09-13T00:53:42.087Z"
   },
   {
    "duration": 7,
    "start_time": "2022-09-13T00:53:42.123Z"
   },
   {
    "duration": 30,
    "start_time": "2022-09-13T00:53:42.131Z"
   },
   {
    "duration": 17,
    "start_time": "2022-09-13T00:53:42.163Z"
   },
   {
    "duration": 33,
    "start_time": "2022-09-13T00:53:42.206Z"
   },
   {
    "duration": 6,
    "start_time": "2022-09-13T00:53:42.241Z"
   },
   {
    "duration": 23,
    "start_time": "2022-09-13T00:53:42.249Z"
   },
   {
    "duration": 7,
    "start_time": "2022-09-13T00:53:42.273Z"
   },
   {
    "duration": 1086,
    "start_time": "2022-09-13T00:53:42.281Z"
   },
   {
    "duration": 182,
    "start_time": "2022-09-13T00:53:43.369Z"
   },
   {
    "duration": 7,
    "start_time": "2022-09-13T00:53:43.554Z"
   },
   {
    "duration": 10,
    "start_time": "2022-09-13T00:53:43.562Z"
   },
   {
    "duration": 12,
    "start_time": "2022-09-13T00:53:43.573Z"
   },
   {
    "duration": 19,
    "start_time": "2022-09-13T00:53:43.586Z"
   },
   {
    "duration": 8,
    "start_time": "2022-09-13T00:53:43.606Z"
   },
   {
    "duration": 10,
    "start_time": "2022-09-13T00:53:43.615Z"
   },
   {
    "duration": 27,
    "start_time": "2022-09-13T00:53:43.626Z"
   },
   {
    "duration": 6,
    "start_time": "2022-09-13T00:53:43.654Z"
   },
   {
    "duration": 45,
    "start_time": "2022-09-13T00:53:43.661Z"
   },
   {
    "duration": 52,
    "start_time": "2022-09-13T00:53:43.708Z"
   },
   {
    "duration": 14,
    "start_time": "2022-09-13T00:53:43.762Z"
   },
   {
    "duration": 4,
    "start_time": "2022-09-13T00:53:43.778Z"
   },
   {
    "duration": 220,
    "start_time": "2022-09-13T00:53:43.804Z"
   },
   {
    "duration": 146,
    "start_time": "2022-09-13T00:53:44.026Z"
   },
   {
    "duration": 195,
    "start_time": "2022-09-13T00:53:44.174Z"
   },
   {
    "duration": 247,
    "start_time": "2022-09-13T00:53:44.370Z"
   },
   {
    "duration": 14,
    "start_time": "2022-09-13T00:53:44.618Z"
   },
   {
    "duration": 208,
    "start_time": "2022-09-13T00:53:44.634Z"
   },
   {
    "duration": 15,
    "start_time": "2022-09-13T00:53:44.843Z"
   },
   {
    "duration": 211,
    "start_time": "2022-09-13T00:53:44.859Z"
   },
   {
    "duration": 257,
    "start_time": "2022-09-13T00:53:45.072Z"
   },
   {
    "duration": 48,
    "start_time": "2022-09-13T00:53:45.330Z"
   },
   {
    "duration": 135,
    "start_time": "2022-09-13T00:53:45.379Z"
   },
   {
    "duration": 1176,
    "start_time": "2022-09-13T00:53:45.516Z"
   },
   {
    "duration": 669,
    "start_time": "2022-09-13T00:53:46.696Z"
   },
   {
    "duration": 293,
    "start_time": "2022-09-13T00:53:47.366Z"
   },
   {
    "duration": 618,
    "start_time": "2022-09-13T00:53:47.661Z"
   },
   {
    "duration": 2,
    "start_time": "2022-09-13T00:53:48.281Z"
   },
   {
    "duration": 1070,
    "start_time": "2022-09-13T00:53:48.285Z"
   },
   {
    "duration": 427,
    "start_time": "2022-09-13T00:53:49.357Z"
   },
   {
    "duration": 117,
    "start_time": "2022-09-13T00:53:49.786Z"
   },
   {
    "duration": 8,
    "start_time": "2022-09-13T00:53:49.904Z"
   },
   {
    "duration": 262,
    "start_time": "2022-09-13T00:53:49.913Z"
   },
   {
    "duration": 1300,
    "start_time": "2022-09-13T00:53:50.177Z"
   },
   {
    "duration": 2251,
    "start_time": "2022-09-13T00:53:51.478Z"
   },
   {
    "duration": 976,
    "start_time": "2022-09-13T00:53:53.730Z"
   },
   {
    "duration": 161,
    "start_time": "2022-09-13T00:54:15.764Z"
   },
   {
    "duration": 79,
    "start_time": "2022-09-13T00:54:46.919Z"
   },
   {
    "duration": 159,
    "start_time": "2022-09-13T00:54:51.705Z"
   },
   {
    "duration": 287,
    "start_time": "2022-09-13T00:57:23.657Z"
   },
   {
    "duration": 165,
    "start_time": "2022-09-13T00:57:42.926Z"
   },
   {
    "duration": 176,
    "start_time": "2022-09-13T00:57:50.111Z"
   },
   {
    "duration": 195,
    "start_time": "2022-09-13T00:57:55.642Z"
   },
   {
    "duration": 170,
    "start_time": "2022-09-13T00:58:04.507Z"
   },
   {
    "duration": 166,
    "start_time": "2022-09-13T00:58:10.024Z"
   },
   {
    "duration": 163,
    "start_time": "2022-09-13T00:58:16.014Z"
   },
   {
    "duration": 167,
    "start_time": "2022-09-13T00:58:20.263Z"
   },
   {
    "duration": 164,
    "start_time": "2022-09-13T00:58:26.978Z"
   },
   {
    "duration": 170,
    "start_time": "2022-09-13T00:58:36.415Z"
   },
   {
    "duration": 84,
    "start_time": "2022-09-13T00:59:27.481Z"
   },
   {
    "duration": 95,
    "start_time": "2022-09-13T01:01:25.396Z"
   },
   {
    "duration": 401,
    "start_time": "2022-09-13T01:02:38.694Z"
   },
   {
    "duration": 102,
    "start_time": "2022-09-13T01:05:04.744Z"
   },
   {
    "duration": 2,
    "start_time": "2022-09-13T01:05:25.360Z"
   },
   {
    "duration": 366,
    "start_time": "2022-09-13T01:06:06.907Z"
   },
   {
    "duration": 92,
    "start_time": "2022-09-13T01:06:20.809Z"
   },
   {
    "duration": 99,
    "start_time": "2022-09-13T01:06:26.683Z"
   },
   {
    "duration": 103,
    "start_time": "2022-09-13T01:06:30.903Z"
   },
   {
    "duration": 2,
    "start_time": "2022-09-13T01:06:32.596Z"
   },
   {
    "duration": 291,
    "start_time": "2022-09-13T01:06:33.356Z"
   },
   {
    "duration": 160,
    "start_time": "2022-09-13T01:06:43.859Z"
   },
   {
    "duration": 405,
    "start_time": "2022-09-13T01:07:27.274Z"
   },
   {
    "duration": 619,
    "start_time": "2022-09-13T01:09:58.277Z"
   },
   {
    "duration": 311,
    "start_time": "2022-09-13T01:09:58.898Z"
   },
   {
    "duration": 2,
    "start_time": "2022-09-13T01:09:59.211Z"
   },
   {
    "duration": 24,
    "start_time": "2022-09-13T01:09:59.215Z"
   },
   {
    "duration": 151,
    "start_time": "2022-09-13T01:09:59.241Z"
   },
   {
    "duration": 285,
    "start_time": "2022-09-13T01:09:59.393Z"
   },
   {
    "duration": 12,
    "start_time": "2022-09-13T01:09:59.680Z"
   },
   {
    "duration": 262,
    "start_time": "2022-09-13T01:09:59.693Z"
   },
   {
    "duration": 14,
    "start_time": "2022-09-13T01:09:59.957Z"
   },
   {
    "duration": 10,
    "start_time": "2022-09-13T01:09:59.973Z"
   },
   {
    "duration": 5292,
    "start_time": "2022-09-13T01:09:59.984Z"
   },
   {
    "duration": 100,
    "start_time": "2022-09-13T01:10:05.278Z"
   },
   {
    "duration": 1173,
    "start_time": "2022-09-13T01:10:05.379Z"
   },
   {
    "duration": 121,
    "start_time": "2022-09-13T01:10:06.553Z"
   },
   {
    "duration": 13,
    "start_time": "2022-09-13T01:10:06.676Z"
   },
   {
    "duration": 14,
    "start_time": "2022-09-13T01:10:06.691Z"
   },
   {
    "duration": 121,
    "start_time": "2022-09-13T01:10:06.707Z"
   },
   {
    "duration": 61,
    "start_time": "2022-09-13T01:10:06.829Z"
   },
   {
    "duration": 29,
    "start_time": "2022-09-13T01:10:06.892Z"
   },
   {
    "duration": 8,
    "start_time": "2022-09-13T01:10:06.923Z"
   },
   {
    "duration": 40,
    "start_time": "2022-09-13T01:10:06.932Z"
   },
   {
    "duration": 34,
    "start_time": "2022-09-13T01:10:06.974Z"
   },
   {
    "duration": 74,
    "start_time": "2022-09-13T01:10:07.010Z"
   },
   {
    "duration": 6,
    "start_time": "2022-09-13T01:10:07.085Z"
   },
   {
    "duration": 68,
    "start_time": "2022-09-13T01:10:07.092Z"
   },
   {
    "duration": 7,
    "start_time": "2022-09-13T01:10:07.161Z"
   },
   {
    "duration": 1213,
    "start_time": "2022-09-13T01:10:07.170Z"
   },
   {
    "duration": 186,
    "start_time": "2022-09-13T01:10:08.386Z"
   },
   {
    "duration": 8,
    "start_time": "2022-09-13T01:10:08.573Z"
   },
   {
    "duration": 10,
    "start_time": "2022-09-13T01:10:08.582Z"
   },
   {
    "duration": 20,
    "start_time": "2022-09-13T01:10:08.594Z"
   },
   {
    "duration": 3,
    "start_time": "2022-09-13T01:10:08.615Z"
   },
   {
    "duration": 11,
    "start_time": "2022-09-13T01:10:08.619Z"
   },
   {
    "duration": 10,
    "start_time": "2022-09-13T01:10:08.631Z"
   },
   {
    "duration": 30,
    "start_time": "2022-09-13T01:10:08.643Z"
   },
   {
    "duration": 31,
    "start_time": "2022-09-13T01:10:08.675Z"
   },
   {
    "duration": 4,
    "start_time": "2022-09-13T01:10:08.708Z"
   },
   {
    "duration": 52,
    "start_time": "2022-09-13T01:10:08.713Z"
   },
   {
    "duration": 15,
    "start_time": "2022-09-13T01:10:08.767Z"
   },
   {
    "duration": 24,
    "start_time": "2022-09-13T01:10:08.783Z"
   },
   {
    "duration": 244,
    "start_time": "2022-09-13T01:10:08.809Z"
   },
   {
    "duration": 143,
    "start_time": "2022-09-13T01:10:09.055Z"
   },
   {
    "duration": 189,
    "start_time": "2022-09-13T01:10:09.204Z"
   },
   {
    "duration": 21,
    "start_time": "2022-09-13T01:10:09.395Z"
   },
   {
    "duration": 268,
    "start_time": "2022-09-13T01:10:09.418Z"
   },
   {
    "duration": 18,
    "start_time": "2022-09-13T01:10:09.688Z"
   },
   {
    "duration": 207,
    "start_time": "2022-09-13T01:10:09.708Z"
   },
   {
    "duration": 173,
    "start_time": "2022-09-13T01:10:09.917Z"
   },
   {
    "duration": 61,
    "start_time": "2022-09-13T01:10:10.091Z"
   },
   {
    "duration": 143,
    "start_time": "2022-09-13T01:10:10.153Z"
   },
   {
    "duration": 1184,
    "start_time": "2022-09-13T01:10:10.298Z"
   },
   {
    "duration": 647,
    "start_time": "2022-09-13T01:10:11.483Z"
   },
   {
    "duration": 248,
    "start_time": "2022-09-13T01:10:12.131Z"
   },
   {
    "duration": 632,
    "start_time": "2022-09-13T01:10:12.381Z"
   },
   {
    "duration": 2,
    "start_time": "2022-09-13T01:10:13.014Z"
   },
   {
    "duration": 1028,
    "start_time": "2022-09-13T01:10:13.018Z"
   },
   {
    "duration": 439,
    "start_time": "2022-09-13T01:10:14.047Z"
   },
   {
    "duration": 447,
    "start_time": "2022-09-13T01:10:14.487Z"
   },
   {
    "duration": 2,
    "start_time": "2022-09-13T01:10:14.935Z"
   },
   {
    "duration": 647,
    "start_time": "2022-09-13T01:12:37.620Z"
   },
   {
    "duration": 346,
    "start_time": "2022-09-13T01:12:38.269Z"
   },
   {
    "duration": 3,
    "start_time": "2022-09-13T01:12:38.617Z"
   },
   {
    "duration": 15,
    "start_time": "2022-09-13T01:12:38.622Z"
   },
   {
    "duration": 166,
    "start_time": "2022-09-13T01:12:38.638Z"
   },
   {
    "duration": 289,
    "start_time": "2022-09-13T01:12:38.808Z"
   },
   {
    "duration": 18,
    "start_time": "2022-09-13T01:12:39.106Z"
   },
   {
    "duration": 233,
    "start_time": "2022-09-13T01:12:39.125Z"
   },
   {
    "duration": 15,
    "start_time": "2022-09-13T01:12:39.360Z"
   },
   {
    "duration": 11,
    "start_time": "2022-09-13T01:12:39.377Z"
   },
   {
    "duration": 5654,
    "start_time": "2022-09-13T01:12:39.390Z"
   },
   {
    "duration": 100,
    "start_time": "2022-09-13T01:12:45.045Z"
   },
   {
    "duration": 1186,
    "start_time": "2022-09-13T01:12:45.146Z"
   },
   {
    "duration": 115,
    "start_time": "2022-09-13T01:12:46.333Z"
   },
   {
    "duration": 12,
    "start_time": "2022-09-13T01:12:46.450Z"
   },
   {
    "duration": 2,
    "start_time": "2022-09-13T01:12:46.464Z"
   },
   {
    "duration": 134,
    "start_time": "2022-09-13T01:12:46.467Z"
   },
   {
    "duration": 64,
    "start_time": "2022-09-13T01:12:46.602Z"
   },
   {
    "duration": 16,
    "start_time": "2022-09-13T01:12:46.668Z"
   },
   {
    "duration": 33,
    "start_time": "2022-09-13T01:12:46.686Z"
   },
   {
    "duration": 28,
    "start_time": "2022-09-13T01:12:46.721Z"
   },
   {
    "duration": 15,
    "start_time": "2022-09-13T01:12:46.751Z"
   },
   {
    "duration": 88,
    "start_time": "2022-09-13T01:12:46.768Z"
   },
   {
    "duration": 6,
    "start_time": "2022-09-13T01:12:46.857Z"
   },
   {
    "duration": 68,
    "start_time": "2022-09-13T01:12:46.865Z"
   },
   {
    "duration": 6,
    "start_time": "2022-09-13T01:12:46.935Z"
   },
   {
    "duration": 1223,
    "start_time": "2022-09-13T01:12:46.943Z"
   },
   {
    "duration": 196,
    "start_time": "2022-09-13T01:12:48.170Z"
   },
   {
    "duration": 7,
    "start_time": "2022-09-13T01:12:48.368Z"
   },
   {
    "duration": 8,
    "start_time": "2022-09-13T01:12:48.377Z"
   },
   {
    "duration": 35,
    "start_time": "2022-09-13T01:12:48.386Z"
   },
   {
    "duration": 2,
    "start_time": "2022-09-13T01:12:48.422Z"
   },
   {
    "duration": 9,
    "start_time": "2022-09-13T01:12:48.426Z"
   },
   {
    "duration": 11,
    "start_time": "2022-09-13T01:12:48.436Z"
   },
   {
    "duration": 27,
    "start_time": "2022-09-13T01:12:48.448Z"
   },
   {
    "duration": 34,
    "start_time": "2022-09-13T01:12:48.477Z"
   },
   {
    "duration": 2,
    "start_time": "2022-09-13T01:12:48.516Z"
   },
   {
    "duration": 54,
    "start_time": "2022-09-13T01:12:48.520Z"
   },
   {
    "duration": 42,
    "start_time": "2022-09-13T01:12:48.576Z"
   },
   {
    "duration": 6,
    "start_time": "2022-09-13T01:12:48.622Z"
   },
   {
    "duration": 247,
    "start_time": "2022-09-13T01:12:48.630Z"
   },
   {
    "duration": 154,
    "start_time": "2022-09-13T01:12:48.879Z"
   },
   {
    "duration": 194,
    "start_time": "2022-09-13T01:12:49.034Z"
   },
   {
    "duration": 491,
    "start_time": "2022-09-13T01:12:49.229Z"
   },
   {
    "duration": 14,
    "start_time": "2022-09-13T01:12:49.722Z"
   },
   {
    "duration": 216,
    "start_time": "2022-09-13T01:12:49.738Z"
   },
   {
    "duration": 15,
    "start_time": "2022-09-13T01:12:49.955Z"
   },
   {
    "duration": 226,
    "start_time": "2022-09-13T01:12:49.971Z"
   },
   {
    "duration": 183,
    "start_time": "2022-09-13T01:12:50.198Z"
   },
   {
    "duration": 64,
    "start_time": "2022-09-13T01:12:50.383Z"
   },
   {
    "duration": 126,
    "start_time": "2022-09-13T01:12:50.449Z"
   },
   {
    "duration": 1223,
    "start_time": "2022-09-13T01:12:50.577Z"
   },
   {
    "duration": 664,
    "start_time": "2022-09-13T01:12:51.802Z"
   },
   {
    "duration": 250,
    "start_time": "2022-09-13T01:12:52.468Z"
   },
   {
    "duration": 623,
    "start_time": "2022-09-13T01:12:52.720Z"
   },
   {
    "duration": 2,
    "start_time": "2022-09-13T01:12:53.344Z"
   },
   {
    "duration": 1016,
    "start_time": "2022-09-13T01:12:53.347Z"
   },
   {
    "duration": 434,
    "start_time": "2022-09-13T01:12:54.365Z"
   },
   {
    "duration": 490,
    "start_time": "2022-09-13T01:12:54.800Z"
   },
   {
    "duration": 3,
    "start_time": "2022-09-13T01:12:55.292Z"
   },
   {
    "duration": 52,
    "start_time": "2022-09-13T01:16:17.199Z"
   },
   {
    "duration": 654,
    "start_time": "2022-09-13T01:16:26.234Z"
   },
   {
    "duration": 324,
    "start_time": "2022-09-13T01:16:26.890Z"
   },
   {
    "duration": 3,
    "start_time": "2022-09-13T01:16:27.223Z"
   },
   {
    "duration": 15,
    "start_time": "2022-09-13T01:16:27.228Z"
   },
   {
    "duration": 207,
    "start_time": "2022-09-13T01:16:27.245Z"
   },
   {
    "duration": 296,
    "start_time": "2022-09-13T01:16:27.455Z"
   },
   {
    "duration": 12,
    "start_time": "2022-09-13T01:16:27.752Z"
   },
   {
    "duration": 235,
    "start_time": "2022-09-13T01:16:27.765Z"
   },
   {
    "duration": 20,
    "start_time": "2022-09-13T01:16:28.002Z"
   },
   {
    "duration": 17,
    "start_time": "2022-09-13T01:16:28.026Z"
   },
   {
    "duration": 5827,
    "start_time": "2022-09-13T01:16:28.045Z"
   },
   {
    "duration": 100,
    "start_time": "2022-09-13T01:16:33.873Z"
   },
   {
    "duration": 1148,
    "start_time": "2022-09-13T01:16:33.974Z"
   },
   {
    "duration": 127,
    "start_time": "2022-09-13T01:16:35.125Z"
   },
   {
    "duration": 13,
    "start_time": "2022-09-13T01:16:35.253Z"
   },
   {
    "duration": 2,
    "start_time": "2022-09-13T01:16:35.267Z"
   },
   {
    "duration": 124,
    "start_time": "2022-09-13T01:16:35.270Z"
   },
   {
    "duration": 66,
    "start_time": "2022-09-13T01:16:35.396Z"
   },
   {
    "duration": 18,
    "start_time": "2022-09-13T01:16:35.464Z"
   },
   {
    "duration": 38,
    "start_time": "2022-09-13T01:16:35.483Z"
   },
   {
    "duration": 30,
    "start_time": "2022-09-13T01:16:35.522Z"
   },
   {
    "duration": 15,
    "start_time": "2022-09-13T01:16:35.553Z"
   },
   {
    "duration": 76,
    "start_time": "2022-09-13T01:16:35.569Z"
   },
   {
    "duration": 5,
    "start_time": "2022-09-13T01:16:35.647Z"
   },
   {
    "duration": 82,
    "start_time": "2022-09-13T01:16:35.654Z"
   },
   {
    "duration": 7,
    "start_time": "2022-09-13T01:16:35.737Z"
   },
   {
    "duration": 1396,
    "start_time": "2022-09-13T01:16:35.745Z"
   },
   {
    "duration": 201,
    "start_time": "2022-09-13T01:16:37.144Z"
   },
   {
    "duration": 10,
    "start_time": "2022-09-13T01:16:37.347Z"
   },
   {
    "duration": 21,
    "start_time": "2022-09-13T01:16:37.358Z"
   },
   {
    "duration": 31,
    "start_time": "2022-09-13T01:16:37.381Z"
   },
   {
    "duration": 6,
    "start_time": "2022-09-13T01:16:37.415Z"
   },
   {
    "duration": 18,
    "start_time": "2022-09-13T01:16:37.423Z"
   },
   {
    "duration": 12,
    "start_time": "2022-09-13T01:16:37.443Z"
   },
   {
    "duration": 35,
    "start_time": "2022-09-13T01:16:37.457Z"
   },
   {
    "duration": 5,
    "start_time": "2022-09-13T01:16:37.493Z"
   },
   {
    "duration": 11,
    "start_time": "2022-09-13T01:16:37.505Z"
   },
   {
    "duration": 57,
    "start_time": "2022-09-13T01:16:37.518Z"
   },
   {
    "duration": 15,
    "start_time": "2022-09-13T01:16:37.576Z"
   },
   {
    "duration": 14,
    "start_time": "2022-09-13T01:16:37.593Z"
   },
   {
    "duration": 245,
    "start_time": "2022-09-13T01:16:37.608Z"
   },
   {
    "duration": 159,
    "start_time": "2022-09-13T01:16:37.855Z"
   },
   {
    "duration": 187,
    "start_time": "2022-09-13T01:16:38.015Z"
   },
   {
    "duration": 461,
    "start_time": "2022-09-13T01:16:38.210Z"
   },
   {
    "duration": 14,
    "start_time": "2022-09-13T01:16:38.673Z"
   },
   {
    "duration": 205,
    "start_time": "2022-09-13T01:16:38.688Z"
   },
   {
    "duration": 27,
    "start_time": "2022-09-13T01:16:38.895Z"
   },
   {
    "duration": 208,
    "start_time": "2022-09-13T01:16:38.923Z"
   },
   {
    "duration": 181,
    "start_time": "2022-09-13T01:16:39.133Z"
   },
   {
    "duration": 52,
    "start_time": "2022-09-13T01:16:39.315Z"
   },
   {
    "duration": 129,
    "start_time": "2022-09-13T01:16:39.369Z"
   },
   {
    "duration": 1191,
    "start_time": "2022-09-13T01:16:39.499Z"
   },
   {
    "duration": 645,
    "start_time": "2022-09-13T01:16:40.692Z"
   },
   {
    "duration": 239,
    "start_time": "2022-09-13T01:16:41.338Z"
   },
   {
    "duration": 602,
    "start_time": "2022-09-13T01:16:41.578Z"
   },
   {
    "duration": 2,
    "start_time": "2022-09-13T01:16:42.181Z"
   },
   {
    "duration": 1015,
    "start_time": "2022-09-13T01:16:42.185Z"
   },
   {
    "duration": 433,
    "start_time": "2022-09-13T01:16:43.205Z"
   },
   {
    "duration": 517,
    "start_time": "2022-09-13T01:16:43.640Z"
   },
   {
    "duration": 2,
    "start_time": "2022-09-13T01:16:44.158Z"
   },
   {
    "duration": 592,
    "start_time": "2022-09-13T01:19:01.469Z"
   },
   {
    "duration": 336,
    "start_time": "2022-09-13T01:19:02.063Z"
   },
   {
    "duration": 2,
    "start_time": "2022-09-13T01:19:02.401Z"
   },
   {
    "duration": 30,
    "start_time": "2022-09-13T01:19:02.405Z"
   },
   {
    "duration": 157,
    "start_time": "2022-09-13T01:19:02.436Z"
   },
   {
    "duration": 290,
    "start_time": "2022-09-13T01:19:02.595Z"
   },
   {
    "duration": 23,
    "start_time": "2022-09-13T01:19:02.887Z"
   },
   {
    "duration": 235,
    "start_time": "2022-09-13T01:19:02.911Z"
   },
   {
    "duration": 13,
    "start_time": "2022-09-13T01:19:03.147Z"
   },
   {
    "duration": 10,
    "start_time": "2022-09-13T01:19:03.162Z"
   },
   {
    "duration": 5523,
    "start_time": "2022-09-13T01:19:03.173Z"
   },
   {
    "duration": 101,
    "start_time": "2022-09-13T01:19:08.698Z"
   },
   {
    "duration": 1152,
    "start_time": "2022-09-13T01:19:08.801Z"
   },
   {
    "duration": 113,
    "start_time": "2022-09-13T01:19:09.954Z"
   },
   {
    "duration": 12,
    "start_time": "2022-09-13T01:19:10.069Z"
   },
   {
    "duration": 2,
    "start_time": "2022-09-13T01:19:10.082Z"
   },
   {
    "duration": 134,
    "start_time": "2022-09-13T01:19:10.086Z"
   },
   {
    "duration": 65,
    "start_time": "2022-09-13T01:19:10.222Z"
   },
   {
    "duration": 32,
    "start_time": "2022-09-13T01:19:10.288Z"
   },
   {
    "duration": 7,
    "start_time": "2022-09-13T01:19:10.322Z"
   },
   {
    "duration": 27,
    "start_time": "2022-09-13T01:19:10.330Z"
   },
   {
    "duration": 15,
    "start_time": "2022-09-13T01:19:10.358Z"
   },
   {
    "duration": 78,
    "start_time": "2022-09-13T01:19:10.374Z"
   },
   {
    "duration": 5,
    "start_time": "2022-09-13T01:19:10.454Z"
   },
   {
    "duration": 73,
    "start_time": "2022-09-13T01:19:10.461Z"
   },
   {
    "duration": 7,
    "start_time": "2022-09-13T01:19:10.535Z"
   },
   {
    "duration": 1141,
    "start_time": "2022-09-13T01:19:10.544Z"
   },
   {
    "duration": 195,
    "start_time": "2022-09-13T01:19:11.688Z"
   },
   {
    "duration": 8,
    "start_time": "2022-09-13T01:19:11.884Z"
   },
   {
    "duration": 23,
    "start_time": "2022-09-13T01:19:11.893Z"
   },
   {
    "duration": 13,
    "start_time": "2022-09-13T01:19:11.918Z"
   },
   {
    "duration": 2,
    "start_time": "2022-09-13T01:19:11.933Z"
   },
   {
    "duration": 10,
    "start_time": "2022-09-13T01:19:11.937Z"
   },
   {
    "duration": 9,
    "start_time": "2022-09-13T01:19:11.949Z"
   },
   {
    "duration": 51,
    "start_time": "2022-09-13T01:19:11.960Z"
   },
   {
    "duration": 6,
    "start_time": "2022-09-13T01:19:12.019Z"
   },
   {
    "duration": 7,
    "start_time": "2022-09-13T01:19:12.027Z"
   },
   {
    "duration": 55,
    "start_time": "2022-09-13T01:19:12.035Z"
   },
   {
    "duration": 23,
    "start_time": "2022-09-13T01:19:12.092Z"
   },
   {
    "duration": 5,
    "start_time": "2022-09-13T01:19:12.117Z"
   },
   {
    "duration": 243,
    "start_time": "2022-09-13T01:19:12.123Z"
   },
   {
    "duration": 146,
    "start_time": "2022-09-13T01:19:12.368Z"
   },
   {
    "duration": 180,
    "start_time": "2022-09-13T01:19:12.516Z"
   },
   {
    "duration": 471,
    "start_time": "2022-09-13T01:19:12.697Z"
   },
   {
    "duration": 15,
    "start_time": "2022-09-13T01:19:13.169Z"
   },
   {
    "duration": 211,
    "start_time": "2022-09-13T01:19:13.185Z"
   },
   {
    "duration": 22,
    "start_time": "2022-09-13T01:19:13.398Z"
   },
   {
    "duration": 214,
    "start_time": "2022-09-13T01:19:13.421Z"
   },
   {
    "duration": 161,
    "start_time": "2022-09-13T01:19:13.636Z"
   },
   {
    "duration": 53,
    "start_time": "2022-09-13T01:19:13.805Z"
   },
   {
    "duration": 131,
    "start_time": "2022-09-13T01:19:13.860Z"
   },
   {
    "duration": 1225,
    "start_time": "2022-09-13T01:19:13.993Z"
   },
   {
    "duration": 643,
    "start_time": "2022-09-13T01:19:15.220Z"
   },
   {
    "duration": 254,
    "start_time": "2022-09-13T01:19:15.864Z"
   },
   {
    "duration": 613,
    "start_time": "2022-09-13T01:19:16.120Z"
   },
   {
    "duration": 2,
    "start_time": "2022-09-13T01:19:16.735Z"
   },
   {
    "duration": 1092,
    "start_time": "2022-09-13T01:19:16.738Z"
   },
   {
    "duration": 459,
    "start_time": "2022-09-13T01:19:17.832Z"
   },
   {
    "duration": 536,
    "start_time": "2022-09-13T01:19:18.292Z"
   },
   {
    "duration": 2,
    "start_time": "2022-09-13T01:19:18.829Z"
   },
   {
    "duration": 641,
    "start_time": "2022-09-13T01:20:16.715Z"
   },
   {
    "duration": 227,
    "start_time": "2022-09-13T01:20:17.358Z"
   },
   {
    "duration": 3,
    "start_time": "2022-09-13T01:20:17.587Z"
   },
   {
    "duration": 43,
    "start_time": "2022-09-13T01:20:17.592Z"
   },
   {
    "duration": 156,
    "start_time": "2022-09-13T01:20:17.637Z"
   },
   {
    "duration": 303,
    "start_time": "2022-09-13T01:20:17.794Z"
   },
   {
    "duration": 19,
    "start_time": "2022-09-13T01:20:18.099Z"
   },
   {
    "duration": 55,
    "start_time": "2022-09-13T01:20:18.120Z"
   },
   {
    "duration": 14,
    "start_time": "2022-09-13T01:20:18.177Z"
   },
   {
    "duration": 13,
    "start_time": "2022-09-13T01:20:18.193Z"
   },
   {
    "duration": 962,
    "start_time": "2022-09-13T01:20:18.207Z"
   },
   {
    "duration": 107,
    "start_time": "2022-09-13T01:20:19.170Z"
   },
   {
    "duration": 1164,
    "start_time": "2022-09-13T01:20:19.279Z"
   },
   {
    "duration": 118,
    "start_time": "2022-09-13T01:20:20.445Z"
   },
   {
    "duration": 12,
    "start_time": "2022-09-13T01:20:20.565Z"
   },
   {
    "duration": 1,
    "start_time": "2022-09-13T01:20:20.579Z"
   },
   {
    "duration": 138,
    "start_time": "2022-09-13T01:20:20.582Z"
   },
   {
    "duration": 59,
    "start_time": "2022-09-13T01:20:20.722Z"
   },
   {
    "duration": 33,
    "start_time": "2022-09-13T01:20:20.782Z"
   },
   {
    "duration": 9,
    "start_time": "2022-09-13T01:20:20.817Z"
   },
   {
    "duration": 29,
    "start_time": "2022-09-13T01:20:20.827Z"
   },
   {
    "duration": 16,
    "start_time": "2022-09-13T01:20:20.857Z"
   },
   {
    "duration": 39,
    "start_time": "2022-09-13T01:20:20.874Z"
   },
   {
    "duration": 6,
    "start_time": "2022-09-13T01:20:20.919Z"
   },
   {
    "duration": 26,
    "start_time": "2022-09-13T01:20:20.927Z"
   },
   {
    "duration": 7,
    "start_time": "2022-09-13T01:20:20.954Z"
   },
   {
    "duration": 1177,
    "start_time": "2022-09-13T01:20:20.963Z"
   },
   {
    "duration": 186,
    "start_time": "2022-09-13T01:20:22.143Z"
   },
   {
    "duration": 8,
    "start_time": "2022-09-13T01:20:22.331Z"
   },
   {
    "duration": 9,
    "start_time": "2022-09-13T01:20:22.340Z"
   },
   {
    "duration": 12,
    "start_time": "2022-09-13T01:20:22.351Z"
   },
   {
    "duration": 3,
    "start_time": "2022-09-13T01:20:22.364Z"
   },
   {
    "duration": 9,
    "start_time": "2022-09-13T01:20:22.368Z"
   },
   {
    "duration": 45,
    "start_time": "2022-09-13T01:20:22.378Z"
   },
   {
    "duration": 25,
    "start_time": "2022-09-13T01:20:22.424Z"
   },
   {
    "duration": 5,
    "start_time": "2022-09-13T01:20:22.451Z"
   },
   {
    "duration": 5,
    "start_time": "2022-09-13T01:20:22.457Z"
   },
   {
    "duration": 72,
    "start_time": "2022-09-13T01:20:22.463Z"
   },
   {
    "duration": 16,
    "start_time": "2022-09-13T01:20:22.537Z"
   },
   {
    "duration": 6,
    "start_time": "2022-09-13T01:20:22.555Z"
   },
   {
    "duration": 298,
    "start_time": "2022-09-13T01:20:22.563Z"
   },
   {
    "duration": 164,
    "start_time": "2022-09-13T01:20:22.863Z"
   },
   {
    "duration": 196,
    "start_time": "2022-09-13T01:20:23.029Z"
   },
   {
    "duration": 494,
    "start_time": "2022-09-13T01:20:23.227Z"
   },
   {
    "duration": 15,
    "start_time": "2022-09-13T01:20:23.723Z"
   },
   {
    "duration": 211,
    "start_time": "2022-09-13T01:20:23.740Z"
   },
   {
    "duration": 16,
    "start_time": "2022-09-13T01:20:23.952Z"
   },
   {
    "duration": 210,
    "start_time": "2022-09-13T01:20:23.969Z"
   },
   {
    "duration": 181,
    "start_time": "2022-09-13T01:20:24.181Z"
   },
   {
    "duration": 56,
    "start_time": "2022-09-13T01:20:24.364Z"
   },
   {
    "duration": 140,
    "start_time": "2022-09-13T01:20:24.422Z"
   },
   {
    "duration": 1153,
    "start_time": "2022-09-13T01:20:24.564Z"
   },
   {
    "duration": 643,
    "start_time": "2022-09-13T01:20:25.718Z"
   },
   {
    "duration": 252,
    "start_time": "2022-09-13T01:20:26.362Z"
   },
   {
    "duration": 605,
    "start_time": "2022-09-13T01:20:26.619Z"
   },
   {
    "duration": 2,
    "start_time": "2022-09-13T01:20:27.226Z"
   },
   {
    "duration": 1137,
    "start_time": "2022-09-13T01:20:27.229Z"
   },
   {
    "duration": 417,
    "start_time": "2022-09-13T01:20:28.368Z"
   },
   {
    "duration": 541,
    "start_time": "2022-09-13T01:20:28.787Z"
   },
   {
    "duration": 2,
    "start_time": "2022-09-13T01:20:29.330Z"
   },
   {
    "duration": 633,
    "start_time": "2022-09-13T01:21:18.686Z"
   },
   {
    "duration": 202,
    "start_time": "2022-09-13T01:21:19.321Z"
   },
   {
    "duration": 2,
    "start_time": "2022-09-13T01:21:19.524Z"
   },
   {
    "duration": 15,
    "start_time": "2022-09-13T01:21:19.529Z"
   },
   {
    "duration": 178,
    "start_time": "2022-09-13T01:21:19.546Z"
   },
   {
    "duration": 294,
    "start_time": "2022-09-13T01:21:19.725Z"
   },
   {
    "duration": 13,
    "start_time": "2022-09-13T01:21:20.020Z"
   },
   {
    "duration": 55,
    "start_time": "2022-09-13T01:21:20.034Z"
   },
   {
    "duration": 13,
    "start_time": "2022-09-13T01:21:20.090Z"
   },
   {
    "duration": 18,
    "start_time": "2022-09-13T01:21:20.105Z"
   },
   {
    "duration": 965,
    "start_time": "2022-09-13T01:21:20.125Z"
   },
   {
    "duration": 123,
    "start_time": "2022-09-13T01:21:21.091Z"
   },
   {
    "duration": 1170,
    "start_time": "2022-09-13T01:21:21.217Z"
   },
   {
    "duration": 133,
    "start_time": "2022-09-13T01:21:22.388Z"
   },
   {
    "duration": 14,
    "start_time": "2022-09-13T01:21:22.524Z"
   },
   {
    "duration": 2,
    "start_time": "2022-09-13T01:21:22.540Z"
   },
   {
    "duration": 145,
    "start_time": "2022-09-13T01:21:22.544Z"
   },
   {
    "duration": 77,
    "start_time": "2022-09-13T01:21:22.691Z"
   },
   {
    "duration": 19,
    "start_time": "2022-09-13T01:21:22.770Z"
   },
   {
    "duration": 35,
    "start_time": "2022-09-13T01:21:22.790Z"
   },
   {
    "duration": 31,
    "start_time": "2022-09-13T01:21:22.827Z"
   },
   {
    "duration": 17,
    "start_time": "2022-09-13T01:21:22.859Z"
   },
   {
    "duration": 43,
    "start_time": "2022-09-13T01:21:22.877Z"
   },
   {
    "duration": 7,
    "start_time": "2022-09-13T01:21:22.922Z"
   },
   {
    "duration": 24,
    "start_time": "2022-09-13T01:21:22.931Z"
   },
   {
    "duration": 8,
    "start_time": "2022-09-13T01:21:22.957Z"
   },
   {
    "duration": 1211,
    "start_time": "2022-09-13T01:21:22.967Z"
   },
   {
    "duration": 194,
    "start_time": "2022-09-13T01:21:24.181Z"
   },
   {
    "duration": 7,
    "start_time": "2022-09-13T01:21:24.377Z"
   },
   {
    "duration": 9,
    "start_time": "2022-09-13T01:21:24.385Z"
   },
   {
    "duration": 22,
    "start_time": "2022-09-13T01:21:24.405Z"
   },
   {
    "duration": 2,
    "start_time": "2022-09-13T01:21:24.429Z"
   },
   {
    "duration": 10,
    "start_time": "2022-09-13T01:21:24.432Z"
   },
   {
    "duration": 10,
    "start_time": "2022-09-13T01:21:24.443Z"
   },
   {
    "duration": 25,
    "start_time": "2022-09-13T01:21:24.454Z"
   },
   {
    "duration": 4,
    "start_time": "2022-09-13T01:21:24.481Z"
   },
   {
    "duration": 10,
    "start_time": "2022-09-13T01:21:24.505Z"
   },
   {
    "duration": 55,
    "start_time": "2022-09-13T01:21:24.516Z"
   },
   {
    "duration": 15,
    "start_time": "2022-09-13T01:21:24.573Z"
   },
   {
    "duration": 18,
    "start_time": "2022-09-13T01:21:24.589Z"
   },
   {
    "duration": 246,
    "start_time": "2022-09-13T01:21:24.608Z"
   },
   {
    "duration": 163,
    "start_time": "2022-09-13T01:21:24.855Z"
   },
   {
    "duration": 171,
    "start_time": "2022-09-13T01:21:25.020Z"
   },
   {
    "duration": 466,
    "start_time": "2022-09-13T01:21:25.193Z"
   },
   {
    "duration": 15,
    "start_time": "2022-09-13T01:21:25.660Z"
   },
   {
    "duration": 226,
    "start_time": "2022-09-13T01:21:25.676Z"
   },
   {
    "duration": 26,
    "start_time": "2022-09-13T01:21:25.903Z"
   },
   {
    "duration": 200,
    "start_time": "2022-09-13T01:21:25.931Z"
   },
   {
    "duration": 195,
    "start_time": "2022-09-13T01:21:26.132Z"
   },
   {
    "duration": 50,
    "start_time": "2022-09-13T01:21:26.328Z"
   },
   {
    "duration": 144,
    "start_time": "2022-09-13T01:21:26.380Z"
   },
   {
    "duration": 1218,
    "start_time": "2022-09-13T01:21:26.527Z"
   },
   {
    "duration": 667,
    "start_time": "2022-09-13T01:21:27.747Z"
   },
   {
    "duration": 237,
    "start_time": "2022-09-13T01:21:28.415Z"
   },
   {
    "duration": 609,
    "start_time": "2022-09-13T01:21:28.654Z"
   },
   {
    "duration": 2,
    "start_time": "2022-09-13T01:21:29.265Z"
   },
   {
    "duration": 1053,
    "start_time": "2022-09-13T01:21:29.268Z"
   },
   {
    "duration": 437,
    "start_time": "2022-09-13T01:21:30.323Z"
   },
   {
    "duration": 524,
    "start_time": "2022-09-13T01:21:30.762Z"
   },
   {
    "duration": 2,
    "start_time": "2022-09-13T01:21:31.288Z"
   },
   {
    "duration": 1330,
    "start_time": "2022-09-13T01:21:31.291Z"
   },
   {
    "duration": 2160,
    "start_time": "2022-09-13T01:21:32.622Z"
   },
   {
    "duration": 1036,
    "start_time": "2022-09-13T01:21:34.783Z"
   },
   {
    "duration": 1333,
    "start_time": "2022-09-13T01:28:17.798Z"
   },
   {
    "duration": 2,
    "start_time": "2022-09-13T01:28:21.259Z"
   },
   {
    "duration": 177,
    "start_time": "2022-09-13T01:28:21.264Z"
   },
   {
    "duration": 2,
    "start_time": "2022-09-13T01:28:21.443Z"
   },
   {
    "duration": 15,
    "start_time": "2022-09-13T01:28:21.447Z"
   },
   {
    "duration": 133,
    "start_time": "2022-09-13T01:28:21.464Z"
   },
   {
    "duration": 226,
    "start_time": "2022-09-13T01:28:21.598Z"
   },
   {
    "duration": 13,
    "start_time": "2022-09-13T01:28:21.826Z"
   },
   {
    "duration": 57,
    "start_time": "2022-09-13T01:28:21.840Z"
   },
   {
    "duration": 25,
    "start_time": "2022-09-13T01:28:21.899Z"
   },
   {
    "duration": 14,
    "start_time": "2022-09-13T01:28:21.926Z"
   },
   {
    "duration": 954,
    "start_time": "2022-09-13T01:28:22.024Z"
   },
   {
    "duration": 110,
    "start_time": "2022-09-13T01:28:22.980Z"
   },
   {
    "duration": 1185,
    "start_time": "2022-09-13T01:28:23.091Z"
   },
   {
    "duration": 109,
    "start_time": "2022-09-13T01:28:24.278Z"
   },
   {
    "duration": 33,
    "start_time": "2022-09-13T01:28:24.388Z"
   },
   {
    "duration": 3,
    "start_time": "2022-09-13T01:28:24.422Z"
   },
   {
    "duration": 117,
    "start_time": "2022-09-13T01:28:24.426Z"
   },
   {
    "duration": 68,
    "start_time": "2022-09-13T01:28:24.545Z"
   },
   {
    "duration": 21,
    "start_time": "2022-09-13T01:28:24.614Z"
   },
   {
    "duration": 8,
    "start_time": "2022-09-13T01:28:24.636Z"
   },
   {
    "duration": 31,
    "start_time": "2022-09-13T01:28:24.645Z"
   },
   {
    "duration": 43,
    "start_time": "2022-09-13T01:28:24.678Z"
   },
   {
    "duration": 34,
    "start_time": "2022-09-13T01:28:24.723Z"
   },
   {
    "duration": 6,
    "start_time": "2022-09-13T01:28:24.759Z"
   },
   {
    "duration": 26,
    "start_time": "2022-09-13T01:28:24.766Z"
   },
   {
    "duration": 7,
    "start_time": "2022-09-13T01:28:24.793Z"
   },
   {
    "duration": 1099,
    "start_time": "2022-09-13T01:28:24.801Z"
   },
   {
    "duration": 189,
    "start_time": "2022-09-13T01:28:25.902Z"
   },
   {
    "duration": 26,
    "start_time": "2022-09-13T01:28:26.094Z"
   },
   {
    "duration": 9,
    "start_time": "2022-09-13T01:28:26.122Z"
   },
   {
    "duration": 13,
    "start_time": "2022-09-13T01:28:26.132Z"
   },
   {
    "duration": 2,
    "start_time": "2022-09-13T01:28:26.146Z"
   },
   {
    "duration": 10,
    "start_time": "2022-09-13T01:28:26.149Z"
   },
   {
    "duration": 9,
    "start_time": "2022-09-13T01:28:26.161Z"
   },
   {
    "duration": 47,
    "start_time": "2022-09-13T01:28:26.171Z"
   },
   {
    "duration": 10,
    "start_time": "2022-09-13T01:28:26.220Z"
   },
   {
    "duration": 4,
    "start_time": "2022-09-13T01:28:26.232Z"
   },
   {
    "duration": 57,
    "start_time": "2022-09-13T01:28:26.238Z"
   },
   {
    "duration": 32,
    "start_time": "2022-09-13T01:28:26.297Z"
   },
   {
    "duration": 5,
    "start_time": "2022-09-13T01:28:26.331Z"
   },
   {
    "duration": 226,
    "start_time": "2022-09-13T01:28:26.337Z"
   },
   {
    "duration": 145,
    "start_time": "2022-09-13T01:28:26.565Z"
   },
   {
    "duration": 181,
    "start_time": "2022-09-13T01:28:26.711Z"
   },
   {
    "duration": 442,
    "start_time": "2022-09-13T01:28:26.894Z"
   },
   {
    "duration": 18,
    "start_time": "2022-09-13T01:28:27.338Z"
   },
   {
    "duration": 249,
    "start_time": "2022-09-13T01:28:27.358Z"
   },
   {
    "duration": 23,
    "start_time": "2022-09-13T01:28:27.608Z"
   },
   {
    "duration": 204,
    "start_time": "2022-09-13T01:28:27.632Z"
   },
   {
    "duration": 191,
    "start_time": "2022-09-13T01:28:27.838Z"
   },
   {
    "duration": 54,
    "start_time": "2022-09-13T01:28:28.031Z"
   },
   {
    "duration": 139,
    "start_time": "2022-09-13T01:28:28.087Z"
   },
   {
    "duration": 1166,
    "start_time": "2022-09-13T01:28:28.227Z"
   },
   {
    "duration": 628,
    "start_time": "2022-09-13T01:28:29.394Z"
   },
   {
    "duration": 252,
    "start_time": "2022-09-13T01:28:30.023Z"
   },
   {
    "duration": 658,
    "start_time": "2022-09-13T01:28:30.276Z"
   },
   {
    "duration": 2,
    "start_time": "2022-09-13T01:28:30.936Z"
   },
   {
    "duration": 1097,
    "start_time": "2022-09-13T01:28:30.940Z"
   },
   {
    "duration": 432,
    "start_time": "2022-09-13T01:28:32.039Z"
   },
   {
    "duration": 503,
    "start_time": "2022-09-13T01:28:32.473Z"
   },
   {
    "duration": 2,
    "start_time": "2022-09-13T01:28:32.977Z"
   },
   {
    "duration": 1353,
    "start_time": "2022-09-13T01:28:32.981Z"
   },
   {
    "duration": 2221,
    "start_time": "2022-09-13T01:28:34.336Z"
   },
   {
    "duration": 1059,
    "start_time": "2022-09-13T01:28:36.559Z"
   },
   {
    "duration": 444,
    "start_time": "2022-09-13T01:28:58.044Z"
   },
   {
    "duration": 2,
    "start_time": "2022-09-13T01:29:02.679Z"
   },
   {
    "duration": 101,
    "start_time": "2022-09-13T01:29:34.330Z"
   },
   {
    "duration": 427,
    "start_time": "2022-09-13T01:29:37.227Z"
   },
   {
    "duration": 3,
    "start_time": "2022-09-13T01:30:14.062Z"
   },
   {
    "duration": 4,
    "start_time": "2022-09-13T01:30:21.795Z"
   },
   {
    "duration": 374,
    "start_time": "2022-09-13T01:30:59.520Z"
   },
   {
    "duration": 374,
    "start_time": "2022-09-13T01:31:05.124Z"
   },
   {
    "duration": 68,
    "start_time": "2022-09-13T01:31:31.799Z"
   },
   {
    "duration": 574,
    "start_time": "2022-09-13T01:32:43.275Z"
   },
   {
    "duration": 338,
    "start_time": "2022-09-13T01:32:43.851Z"
   },
   {
    "duration": 2,
    "start_time": "2022-09-13T01:32:44.191Z"
   },
   {
    "duration": 24,
    "start_time": "2022-09-13T01:32:44.195Z"
   },
   {
    "duration": 162,
    "start_time": "2022-09-13T01:32:44.221Z"
   },
   {
    "duration": 283,
    "start_time": "2022-09-13T01:32:44.385Z"
   },
   {
    "duration": 14,
    "start_time": "2022-09-13T01:32:44.670Z"
   },
   {
    "duration": 221,
    "start_time": "2022-09-13T01:32:44.685Z"
   },
   {
    "duration": 17,
    "start_time": "2022-09-13T01:32:44.908Z"
   },
   {
    "duration": 9,
    "start_time": "2022-09-13T01:32:44.927Z"
   },
   {
    "duration": 5560,
    "start_time": "2022-09-13T01:32:44.937Z"
   },
   {
    "duration": 100,
    "start_time": "2022-09-13T01:32:50.499Z"
   },
   {
    "duration": 1128,
    "start_time": "2022-09-13T01:32:50.601Z"
   },
   {
    "duration": 117,
    "start_time": "2022-09-13T01:32:51.730Z"
   },
   {
    "duration": 15,
    "start_time": "2022-09-13T01:32:51.848Z"
   },
   {
    "duration": 2,
    "start_time": "2022-09-13T01:32:51.865Z"
   },
   {
    "duration": 124,
    "start_time": "2022-09-13T01:32:51.869Z"
   },
   {
    "duration": 68,
    "start_time": "2022-09-13T01:32:51.995Z"
   },
   {
    "duration": 19,
    "start_time": "2022-09-13T01:32:52.064Z"
   },
   {
    "duration": 31,
    "start_time": "2022-09-13T01:32:52.085Z"
   },
   {
    "duration": 30,
    "start_time": "2022-09-13T01:32:52.118Z"
   },
   {
    "duration": 17,
    "start_time": "2022-09-13T01:32:52.150Z"
   },
   {
    "duration": 85,
    "start_time": "2022-09-13T01:32:52.169Z"
   },
   {
    "duration": 7,
    "start_time": "2022-09-13T01:32:52.255Z"
   },
   {
    "duration": 70,
    "start_time": "2022-09-13T01:32:52.263Z"
   },
   {
    "duration": 7,
    "start_time": "2022-09-13T01:32:52.335Z"
   },
   {
    "duration": 1126,
    "start_time": "2022-09-13T01:32:52.344Z"
   },
   {
    "duration": 203,
    "start_time": "2022-09-13T01:32:53.473Z"
   },
   {
    "duration": 7,
    "start_time": "2022-09-13T01:32:53.678Z"
   },
   {
    "duration": 28,
    "start_time": "2022-09-13T01:32:53.686Z"
   },
   {
    "duration": 11,
    "start_time": "2022-09-13T01:32:53.719Z"
   },
   {
    "duration": 2,
    "start_time": "2022-09-13T01:32:53.731Z"
   },
   {
    "duration": 9,
    "start_time": "2022-09-13T01:32:53.734Z"
   },
   {
    "duration": 9,
    "start_time": "2022-09-13T01:32:53.745Z"
   },
   {
    "duration": 26,
    "start_time": "2022-09-13T01:32:53.755Z"
   },
   {
    "duration": 5,
    "start_time": "2022-09-13T01:32:53.783Z"
   },
   {
    "duration": 26,
    "start_time": "2022-09-13T01:32:53.789Z"
   },
   {
    "duration": 50,
    "start_time": "2022-09-13T01:32:53.816Z"
   },
   {
    "duration": 14,
    "start_time": "2022-09-13T01:32:53.868Z"
   },
   {
    "duration": 4,
    "start_time": "2022-09-13T01:32:53.884Z"
   },
   {
    "duration": 249,
    "start_time": "2022-09-13T01:32:53.889Z"
   },
   {
    "duration": 145,
    "start_time": "2022-09-13T01:32:54.139Z"
   },
   {
    "duration": 178,
    "start_time": "2022-09-13T01:32:54.285Z"
   },
   {
    "duration": 465,
    "start_time": "2022-09-13T01:32:54.465Z"
   },
   {
    "duration": 14,
    "start_time": "2022-09-13T01:32:54.932Z"
   },
   {
    "duration": 208,
    "start_time": "2022-09-13T01:32:54.947Z"
   },
   {
    "duration": 17,
    "start_time": "2022-09-13T01:32:55.156Z"
   },
   {
    "duration": 209,
    "start_time": "2022-09-13T01:32:55.174Z"
   },
   {
    "duration": 177,
    "start_time": "2022-09-13T01:32:55.385Z"
   },
   {
    "duration": 58,
    "start_time": "2022-09-13T01:32:55.564Z"
   },
   {
    "duration": 131,
    "start_time": "2022-09-13T01:32:55.624Z"
   },
   {
    "duration": 1170,
    "start_time": "2022-09-13T01:32:55.757Z"
   },
   {
    "duration": 677,
    "start_time": "2022-09-13T01:32:56.928Z"
   },
   {
    "duration": 239,
    "start_time": "2022-09-13T01:32:57.608Z"
   },
   {
    "duration": 621,
    "start_time": "2022-09-13T01:32:57.848Z"
   },
   {
    "duration": 2,
    "start_time": "2022-09-13T01:32:58.470Z"
   },
   {
    "duration": 1006,
    "start_time": "2022-09-13T01:32:58.474Z"
   },
   {
    "duration": 435,
    "start_time": "2022-09-13T01:32:59.482Z"
   },
   {
    "duration": 108,
    "start_time": "2022-09-13T01:32:59.919Z"
   },
   {
    "duration": 463,
    "start_time": "2022-09-13T01:33:00.029Z"
   },
   {
    "duration": 371,
    "start_time": "2022-09-13T01:33:00.494Z"
   },
   {
    "duration": 229,
    "start_time": "2022-09-13T01:33:00.867Z"
   },
   {
    "duration": 0,
    "start_time": "2022-09-13T01:33:01.104Z"
   },
   {
    "duration": 0,
    "start_time": "2022-09-13T01:33:01.106Z"
   },
   {
    "duration": 0,
    "start_time": "2022-09-13T01:33:01.106Z"
   },
   {
    "duration": 217,
    "start_time": "2022-09-13T01:33:18.048Z"
   },
   {
    "duration": 381,
    "start_time": "2022-09-13T01:34:06.019Z"
   },
   {
    "duration": 1308,
    "start_time": "2022-09-13T01:35:24.657Z"
   },
   {
    "duration": 1325,
    "start_time": "2022-09-13T01:35:42.861Z"
   },
   {
    "duration": 2367,
    "start_time": "2022-09-13T01:38:33.654Z"
   },
   {
    "duration": 1098,
    "start_time": "2022-09-13T01:38:40.473Z"
   },
   {
    "duration": 12,
    "start_time": "2022-09-13T01:40:00.684Z"
   },
   {
    "duration": 11,
    "start_time": "2022-09-13T01:40:34.218Z"
   },
   {
    "duration": 10,
    "start_time": "2022-09-13T01:40:39.988Z"
   },
   {
    "duration": 12,
    "start_time": "2022-09-13T01:40:44.479Z"
   },
   {
    "duration": 11,
    "start_time": "2022-09-13T01:40:55.616Z"
   }
  ],
  "kernelspec": {
   "display_name": "Python 3 (ipykernel)",
   "language": "python",
   "name": "python3"
  },
  "language_info": {
   "codemirror_mode": {
    "name": "ipython",
    "version": 3
   },
   "file_extension": ".py",
   "mimetype": "text/x-python",
   "name": "python",
   "nbconvert_exporter": "python",
   "pygments_lexer": "ipython3",
   "version": "3.9.5"
  },
  "toc": {
   "base_numbering": 1,
   "nav_menu": {},
   "number_sections": true,
   "sideBar": true,
   "skip_h1_title": true,
   "title_cell": "Table of Contents",
   "title_sidebar": "Contents",
   "toc_cell": false,
   "toc_position": {},
   "toc_section_display": true,
   "toc_window_display": true
  },
  "vscode": {
   "interpreter": {
    "hash": "01a7be9ec63e704a62cefc5fe7a4756944464ee731be31632bdf42a4cb4688cf"
   }
  }
 },
 "nbformat": 4,
 "nbformat_minor": 5
}
